{
 "cells": [
  {
   "cell_type": "markdown",
   "id": "33403ccd",
   "metadata": {},
   "source": [
    "# #WEEK1 E1\n",
    "author name: Keerthan kumar c\n",
    "  class: III Sem Btech DSE\n",
    "   Section and Batch:B Section Batch B1\n",
    "   Roll no: 2\n",
    "   Reg no:220968002\n",
    "   "
   ]
  },
  {
   "cell_type": "markdown",
   "id": "30887686",
   "metadata": {},
   "source": [
    "# Create Python program to find the average of 10 numbers using while loop\n"
   ]
  },
  {
   "cell_type": "code",
   "execution_count": 4,
   "id": "b75c713f",
   "metadata": {},
   "outputs": [
    {
     "name": "stdout",
     "output_type": "stream",
     "text": [
      "This is the program to find average of 10 numbers\n",
      "\n",
      "Enter your number5\n",
      "\n",
      "Enter your number10\n",
      "\n",
      "Enter your number15\n",
      "\n",
      "Enter your number20\n",
      "\n",
      "Enter your number25\n",
      "\n",
      "Enter your number30\n",
      "\n",
      "Enter your number35\n",
      "\n",
      "Enter your number40\n",
      "\n",
      "Enter your number45\n",
      "\n",
      "Enter your number50\n",
      "\n",
      "The average is: 27.5\n"
     ]
    }
   ],
   "source": [
    "i=1\n",
    "print(\"This is the program to find average of 10 numbers\")\n",
    "sum=0\n",
    "while(i<=10):\n",
    "\n",
    "    \n",
    "    n=int(input(\"Enter your number\"))\n",
    "    sum=sum+n\n",
    "    i=i+1\n",
    "\n",
    "avg=sum/10\n",
    "print(\"The average is:\",avg)"
   ]
  },
  {
   "cell_type": "markdown",
   "id": "8d341610",
   "metadata": {},
   "source": [
    "# Create Python program to find the geometric mean of n numbers"
   ]
  },
  {
   "cell_type": "code",
   "execution_count": 5,
   "id": "3a2f9af5",
   "metadata": {},
   "outputs": [
    {
     "name": "stdout",
     "output_type": "stream",
     "text": [
      "This is the program to find geometric mean of n number\n",
      "\n",
      "Please enter the total number of numbers to be entered4\n",
      "\n",
      "Enter your number2\n",
      "\n",
      "Enter your number4\n",
      "\n",
      "Enter your number6\n",
      "\n",
      "Enter your number8\n",
      "\n",
      "The geometric mean is:  5.0\n"
     ]
    }
   ],
   "source": [
    "print(\"This is the program to find geometric mean of n number\")\n",
    "n=int(input(\"Please enter the total number of numbers to be entered\"))\n",
    "i=1\n",
    "sum=0\n",
    "while(i<=n):\n",
    "    a=int(input(\"Enter your number\"))\n",
    "    sum=sum+a\n",
    "    i=i+1\n",
    "mean=sum/n\n",
    "print(\"The geometric mean is: \",mean)"
   ]
  },
  {
   "cell_type": "markdown",
   "id": "6cba3951",
   "metadata": {},
   "source": [
    "# Create Python program to check whether the given integer is a prime number or not"
   ]
  },
  {
   "cell_type": "code",
   "execution_count": 12,
   "id": "5cae7d28",
   "metadata": {},
   "outputs": [
    {
     "name": "stdout",
     "output_type": "stream",
     "text": [
      "Please enter your integer20\n",
      "\n",
      "The entered integer is not prime\n"
     ]
    }
   ],
   "source": [
    "n=int(input(\"Please enter your integer\"))\n",
    "flag=1\n",
    "if(n==0):\n",
    "    print(\"please enter a integer other than 0\")\n",
    "if(n==1):\n",
    "    print(\"1 is neither prime nor composite\")\n",
    "if(n==2):\n",
    "    print(\"the entered integer is prime\")\n",
    "if(n!=0 and n!=1 and n!=2):\n",
    "    for i in range(2,n):\n",
    "        if((n%i)==0):\n",
    "            flag=0\n",
    "            break\n",
    "        else:\n",
    "            flag=1\n",
    "    if(flag==1):\n",
    "        print(\"The entered integer is prime\")\n",
    "    else:\n",
    "        print(\"The entered integer is not prime\")"
   ]
  },
  {
   "cell_type": "markdown",
   "id": "5f66f808",
   "metadata": {},
   "source": [
    "# Create Python program to implement linear search and implement binary search "
   ]
  },
  {
   "cell_type": "markdown",
   "id": "488e44d8",
   "metadata": {},
   "source": [
    "# by linear search"
   ]
  },
  {
   "cell_type": "code",
   "execution_count": 15,
   "id": "b4fad722",
   "metadata": {},
   "outputs": [
    {
     "name": "stdout",
     "output_type": "stream",
     "text": [
      "Enter number of elements in array4\n",
      "\n",
      "Enter your number2\n",
      "\n",
      "Enter your number4\n",
      "\n",
      "Enter your number6\n",
      "\n",
      "Enter your number8\n",
      "\n",
      "Enter number to be searched6\n",
      "\n",
      "The item has been searched and found at position  3\n"
     ]
    }
   ],
   "source": [
    "a=[]\n",
    "n=int(input(\"Enter number of elements in array \"))\n",
    "for i in range(0,n):\n",
    "    c=int(input(\"Enter your number \"))\n",
    "    a.append(c)\n",
    "d=int(input(\"Enter number to be searched \"))\n",
    "for i in range(0,n):\n",
    "    if(a[i]==d):\n",
    "        flag=1\n",
    "        pos=i+1\n",
    "        break\n",
    "    else:\n",
    "        flag=0\n",
    "if(flag==1):\n",
    "    print(\"The item has been searched and found at position \",pos)\n",
    "else:\n",
    "    print(\"Item not found in array\")\n",
    "        "
   ]
  },
  {
   "cell_type": "markdown",
   "id": "7d2208c2",
   "metadata": {},
   "source": [
    "# by binary search"
   ]
  },
  {
   "cell_type": "code",
   "execution_count": null,
   "id": "cd408a20",
   "metadata": {},
   "outputs": [],
   "source": [
    "a=[]\n",
    "n=int(input(\"Enter number of elements in array \"))\n",
    "for i in range(0,n):\n",
    "    c=int(input(\"Enter your number \"))\n",
    "    a.append(c)\n",
    "d=int(input(\"Enter number to be searched \"))\n",
    "low=0\n",
    "high=n-1\n",
    "\n",
    "while(low<=high):\n",
    "    mid=(low+high)//2\n",
    "    if(d==a[mid]):\n",
    "        pos=mid+1\n",
    "        flag=1\n",
    "        break\n",
    "    if(d>a[mid]):\n",
    "        low=mid+1\n",
    "    else:\n",
    "        high=mid-1\n",
    "if(flag==1):\n",
    "    print(\"The item has been searched and found at position \",pos)\n",
    "else:\n",
    "    print(\"Item not found in array\")"
   ]
  },
  {
   "cell_type": "markdown",
   "id": "a320edf0",
   "metadata": {},
   "source": [
    "# Using math package, Create Python program to find the area of a triangle whose sides are given"
   ]
  },
  {
   "cell_type": "code",
   "execution_count": null,
   "id": "28241eec",
   "metadata": {},
   "outputs": [],
   "source": [
    "import math\n",
    "\n",
    "\n",
    "a = float(input(\"Enter the first side length of the triangle: \"))\n",
    "b = float(input(\"Enter the second side length of the triangle: \"))\n",
    "c = float(input(\"Enter the third side length of the triangle: \"))\n",
    "s = (a + b + c) / 2\n",
    "area = math.sqrt(s * (s - a) * (s - b) * (s - c))\n",
    "\n",
    "print(\"The area of the triangle is\", area)"
   ]
  },
  {
   "cell_type": "markdown",
   "id": "4efab6eb",
   "metadata": {},
   "source": [
    "# EXERCISE 1: - Introduction to Pandas\n"
   ]
  },
  {
   "cell_type": "markdown",
   "id": "2b88d29a",
   "metadata": {},
   "source": [
    "# Data frame creation and manipulation"
   ]
  },
  {
   "cell_type": "markdown",
   "id": "de35cf18",
   "metadata": {},
   "source": [
    "# Create a data frame with details of 10 students and columns as Roll Number, Name, Gender, Marks1, Marks2, Marks3.\n"
   ]
  },
  {
   "cell_type": "code",
   "execution_count": 2,
   "id": "1d5f70de",
   "metadata": {},
   "outputs": [],
   "source": [
    "import pandas as pd"
   ]
  },
  {
   "cell_type": "code",
   "execution_count": 3,
   "id": "017fcf51",
   "metadata": {},
   "outputs": [
    {
     "name": "stdout",
     "output_type": "stream",
     "text": [
      "   Roll number      Name gender  marks1  marks2  marks3\n",
      "0            1  Keerthan      m      10      30      50\n",
      "1            2    ganesh      f      12      12      12\n",
      "2            3        he      m      12      62      82\n",
      "3            4       him      f      31      31      31\n",
      "4            5       abc      m      14      14      14\n",
      "5            6       aaa      f      16      16      16\n",
      "6            7       bbb      m      46      46      46\n",
      "7            8       ccc      f      89      89      89\n",
      "8            9   chandru      m      88      88      88\n",
      "9           10      jaya      f      90      90      90\n"
     ]
    }
   ],
   "source": [
    "sample={\n",
    "    \"Roll number\":[1,2,3,4,5,6,7,8,9,10],\n",
    "    \"Name\":[\"Keerthan\",\"ganesh\",\"he\",\"him\",\"abc\",\"aaa\",\"bbb\",\"ccc\",\"chandru\",\"jaya\"],\n",
    "    \"gender\":[\"m\",\"f\",\"m\",\"f\",\"m\",\"f\",\"m\",\"f\",\"m\",\"f\"],\n",
    "    \"marks1\":[10,12,12,31,14,16,46,89,88,90],\n",
    "    \"marks2\":[30,12,62,31,14,16,46,89,88,90],\n",
    "    \"marks3\":[50,12,82,31,14,16,46,89,88,90],\n",
    "\n",
    "\n",
    "}\n",
    "\n",
    "df=pd.DataFrame(sample)\n",
    "print(df)\n",
    "    "
   ]
  },
  {
   "cell_type": "code",
   "execution_count": 4,
   "id": "64585367",
   "metadata": {},
   "outputs": [
    {
     "name": "stdout",
     "output_type": "stream",
     "text": [
      "0    10\n",
      "1    12\n",
      "2    12\n",
      "3    31\n",
      "4    14\n",
      "5    16\n",
      "6    46\n",
      "7    89\n",
      "8    88\n",
      "9    90\n",
      "Name: marks1, dtype: int64\n"
     ]
    }
   ],
   "source": [
    "print(df.marks1)"
   ]
  },
  {
   "cell_type": "markdown",
   "id": "18e4ecd7",
   "metadata": {},
   "source": [
    "# Create a new column with total marks\n"
   ]
  },
  {
   "cell_type": "code",
   "execution_count": 5,
   "id": "a30229c9",
   "metadata": {},
   "outputs": [
    {
     "name": "stdout",
     "output_type": "stream",
     "text": [
      "   Roll number      Name gender  marks1  marks2  marks3  total\n",
      "0            1  Keerthan      m      10      30      50     90\n",
      "1            2    ganesh      f      12      12      12     36\n",
      "2            3        he      m      12      62      82    156\n",
      "3            4       him      f      31      31      31     93\n",
      "4            5       abc      m      14      14      14     42\n",
      "5            6       aaa      f      16      16      16     48\n",
      "6            7       bbb      m      46      46      46    138\n",
      "7            8       ccc      f      89      89      89    267\n",
      "8            9   chandru      m      88      88      88    264\n",
      "9           10      jaya      f      90      90      90    270\n"
     ]
    }
   ],
   "source": [
    "df[\"total\"]=df.marks1+df.marks2+df.marks3\n",
    "print(df)"
   ]
  },
  {
   "cell_type": "markdown",
   "id": "3b29d568",
   "metadata": {},
   "source": [
    "# Find the lowest marks in Marks1"
   ]
  },
  {
   "cell_type": "code",
   "execution_count": 6,
   "id": "b867f095",
   "metadata": {},
   "outputs": [
    {
     "name": "stdout",
     "output_type": "stream",
     "text": [
      "lowest marks in marks1 is:  10\n"
     ]
    }
   ],
   "source": [
    "low=df.marks1.min()\n",
    "print(\"lowest marks in marks1 is: \",low)"
   ]
  },
  {
   "cell_type": "markdown",
   "id": "c9cb616e",
   "metadata": {},
   "source": [
    "# Find the Highest marks in Marks2"
   ]
  },
  {
   "cell_type": "code",
   "execution_count": 7,
   "id": "586b609b",
   "metadata": {},
   "outputs": [
    {
     "name": "stdout",
     "output_type": "stream",
     "text": [
      "Highest marks in marks2 is:  90\n"
     ]
    }
   ],
   "source": [
    "high=df.marks2.max()\n",
    "print(\"Highest marks in marks2 is: \",high)"
   ]
  },
  {
   "cell_type": "markdown",
   "id": "d0d358ad-4d63-4722-95c9-5375204ffba1",
   "metadata": {},
   "source": [
    "# Find the average marks in Marks3"
   ]
  },
  {
   "cell_type": "code",
   "execution_count": 8,
   "id": "260bbc4a-40c1-4464-ae1f-ab5a21db2949",
   "metadata": {},
   "outputs": [
    {
     "name": "stdout",
     "output_type": "stream",
     "text": [
      "Average marks in marks3 is:  51.8\n"
     ]
    }
   ],
   "source": [
    "avg=df.marks3.mean()\n",
    "print(\"Average marks in marks3 is: \",avg)"
   ]
  },
  {
   "cell_type": "markdown",
   "id": "43f7c65b-4dec-4c9c-9a61-733abeaf3223",
   "metadata": {},
   "source": [
    "# Find student name with highest average"
   ]
  },
  {
   "cell_type": "code",
   "execution_count": 9,
   "id": "3855500a-e457-4435-a2c5-a9617ab3fb96",
   "metadata": {},
   "outputs": [
    {
     "data": {
      "text/plain": [
       "'jaya'"
      ]
     },
     "execution_count": 9,
     "metadata": {},
     "output_type": "execute_result"
    }
   ],
   "source": [
    "list(df[df[\"total\"] == df[\"total\"].max()].get(\"Name\"))[0]"
   ]
  },
  {
   "cell_type": "markdown",
   "id": "1078137c-625c-4d52-8644-19dc8d1b7748",
   "metadata": {},
   "source": [
    "# Find how many students failed in Marks2 (<40)"
   ]
  },
  {
   "cell_type": "code",
   "execution_count": 10,
   "id": "4483d29f",
   "metadata": {},
   "outputs": [
    {
     "name": "stdout",
     "output_type": "stream",
     "text": [
      "Number of students with less than 40 marks are:  10\n"
     ]
    }
   ],
   "source": [
    "a=len((df.marks2)<40)\n",
    "print(\"Number of students with less than 40 marks are: \",a)"
   ]
  }
 ],
 "metadata": {
  "kernelspec": {
   "display_name": "Python 3 (ipykernel)",
   "language": "python",
   "name": "python3"
  },
  "language_info": {
   "codemirror_mode": {
    "name": "ipython",
    "version": 3
   },
   "file_extension": ".py",
   "mimetype": "text/x-python",
   "name": "python",
   "nbconvert_exporter": "python",
   "pygments_lexer": "ipython3",
   "version": "3.10.9"
  }
 },
 "nbformat": 4,
 "nbformat_minor": 5
}
