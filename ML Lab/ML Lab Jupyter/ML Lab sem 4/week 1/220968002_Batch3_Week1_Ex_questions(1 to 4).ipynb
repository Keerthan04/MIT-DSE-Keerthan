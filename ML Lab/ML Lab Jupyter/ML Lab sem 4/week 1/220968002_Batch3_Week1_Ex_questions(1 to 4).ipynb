{
 "cells": [
  {
   "cell_type": "markdown",
   "id": "c74ee13d",
   "metadata": {},
   "source": [
    "# Week1"
   ]
  },
  {
   "cell_type": "raw",
   "id": "0036cf94",
   "metadata": {},
   "source": [
    "Name:Keerthan Kumar C\n",
    "III Sem DSE section B\n",
    "Registration number: 220968002\n",
    "Batch: Batch 3(section B)\n",
    "Roll number: 2"
   ]
  },
  {
   "cell_type": "markdown",
   "id": "1337a576",
   "metadata": {},
   "source": [
    "# Exercise questions 1 to 4\n",
    "## Questions\n",
    "1. Find the mean, median, mode, variance, and standard deviation of a list. (import statistics)\n",
    "\n",
    "2. Create a list of numbers and use list comprehension to generate a new list with the squares \n",
    "of each number.\n",
    "\n",
    "3. Write a function that takes a tuple of numbers and returns the product of all the elements.\n",
    "\n",
    "4. Write a program that counts the frequency of each letter in each string and stores the \n",
    "results in a dictionary. "
   ]
  },
  {
   "cell_type": "markdown",
   "id": "b797eebe",
   "metadata": {},
   "source": [
    "## 1.Find the mean, median, mode, variance, and standard deviation of a list. (import statistics)"
   ]
  },
  {
   "cell_type": "code",
   "execution_count": 4,
   "id": "31e239d1",
   "metadata": {},
   "outputs": [],
   "source": [
    "import statistics as st"
   ]
  },
  {
   "cell_type": "code",
   "execution_count": 6,
   "id": "0414fea8",
   "metadata": {},
   "outputs": [
    {
     "name": "stdout",
     "output_type": "stream",
     "text": [
      "mean is 49.54545454545455\n",
      "median is 36\n",
      "mode is 5\n",
      "variance is 1185.4727272727273\n",
      "standard deviation is 34.43069455112295\n"
     ]
    }
   ],
   "source": [
    "lis=[5,10,24,36,50,33,29,75,86,97,100]\n",
    "print(\"mean is\",st.mean(lis))\n",
    "print(\"median is\",st.median(lis))\n",
    "print(\"mode is\",st.mode(lis))\n",
    "print(\"variance is\",st.variance(lis))\n",
    "print(\"standard deviation is\",st.stdev(lis))"
   ]
  },
  {
   "cell_type": "markdown",
   "id": "125514ae",
   "metadata": {},
   "source": [
    "## 2.Create a list of numbers and use list comprehension to generate a new list with the squares of each number"
   ]
  },
  {
   "cell_type": "code",
   "execution_count": 7,
   "id": "4dde685e",
   "metadata": {},
   "outputs": [
    {
     "data": {
      "text/plain": [
       "[25, 100, 576, 1296, 2500, 1089, 841, 5625, 7396, 9409, 10000]"
      ]
     },
     "execution_count": 7,
     "metadata": {},
     "output_type": "execute_result"
    }
   ],
   "source": [
    "lis=[5,10,24,36,50,33,29,75,86,97,100]\n",
    "lis2=[x**2 for x in lis]\n",
    "lis2"
   ]
  },
  {
   "cell_type": "markdown",
   "id": "bb9a3a3e",
   "metadata": {},
   "source": [
    "## 3.Write a function that takes a tuple of numbers and returns the product of all the elements.\n"
   ]
  },
  {
   "cell_type": "code",
   "execution_count": 8,
   "id": "2b935329",
   "metadata": {},
   "outputs": [
    {
     "name": "stdout",
     "output_type": "stream",
     "text": [
      "The product of elements in the tuple is: 120\n"
     ]
    }
   ],
   "source": [
    "def product_of_tuple_elements(numbers):\n",
    "    product = 1\n",
    "    for num in numbers:\n",
    "        product *= num\n",
    "    return product\n",
    "\n",
    "my_tuple = (2, 3, 4, 5)\n",
    "result = product_of_tuple_elements(my_tuple)\n",
    "print(f\"The product of elements in the tuple is: {result}\")\n"
   ]
  },
  {
   "cell_type": "markdown",
   "id": "d1c448aa",
   "metadata": {},
   "source": [
    "## 4.Write a program that counts the frequency of each letter in each string and stores the results in a dictionary. "
   ]
  },
  {
   "cell_type": "code",
   "execution_count": 12,
   "id": "3fdeb941",
   "metadata": {},
   "outputs": [
    {
     "name": "stdout",
     "output_type": "stream",
     "text": [
      "{'h': 1, 'e': 1, 'l': 3, 'o': 2, 'w': 1, 'r': 1, 'd': 1}\n"
     ]
    }
   ],
   "source": [
    "def frequency(string):\n",
    "    freq = {}\n",
    "    for char in string:\n",
    "        if char !=\" \":\n",
    "            if char in freq:\n",
    "                freq[char] += 1\n",
    "            else:\n",
    "                freq[char] = 1\n",
    "    return freq\n",
    "\n",
    "string = \"hello world\"\n",
    "result = frequency(string)\n",
    "print(result)"
   ]
  }
 ],
 "metadata": {
  "kernelspec": {
   "display_name": "Python 3 (ipykernel)",
   "language": "python",
   "name": "python3"
  },
  "language_info": {
   "codemirror_mode": {
    "name": "ipython",
    "version": 3
   },
   "file_extension": ".py",
   "mimetype": "text/x-python",
   "name": "python",
   "nbconvert_exporter": "python",
   "pygments_lexer": "ipython3",
   "version": "3.10.9"
  }
 },
 "nbformat": 4,
 "nbformat_minor": 5
}
