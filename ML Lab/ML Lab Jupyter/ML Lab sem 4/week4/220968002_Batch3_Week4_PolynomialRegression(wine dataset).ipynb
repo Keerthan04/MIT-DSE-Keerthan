{
 "cells": [
  {
   "cell_type": "markdown",
   "id": "2741dda5",
   "metadata": {},
   "source": [
    "# Week4"
   ]
  },
  {
   "cell_type": "raw",
   "id": "7997b88c",
   "metadata": {},
   "source": [
    "Name:Keerthan Kumar C\n",
    "IV Sem DSE section B\n",
    "Registration number: 220968002\n",
    "Batch: Batch 3(section B)\n",
    "Roll number: 2"
   ]
  },
  {
   "cell_type": "code",
   "execution_count": 58,
   "id": "7c06c1a7",
   "metadata": {},
   "outputs": [],
   "source": [
    "import pandas as pd\n",
    "import numpy as np\n",
    "import matplotlib.pyplot as plt\n",
    "import seaborn as sns\n",
    "from sklearn.model_selection import train_test_split\n",
    "from sklearn.preprocessing import PolynomialFeatures\n",
    "from sklearn.metrics import mean_squared_error,mean_absolute_error"
   ]
  },
  {
   "cell_type": "code",
   "execution_count": 59,
   "id": "0d2322f4",
   "metadata": {},
   "outputs": [
    {
     "data": {
      "text/html": [
       "<div>\n",
       "<style scoped>\n",
       "    .dataframe tbody tr th:only-of-type {\n",
       "        vertical-align: middle;\n",
       "    }\n",
       "\n",
       "    .dataframe tbody tr th {\n",
       "        vertical-align: top;\n",
       "    }\n",
       "\n",
       "    .dataframe thead th {\n",
       "        text-align: right;\n",
       "    }\n",
       "</style>\n",
       "<table border=\"1\" class=\"dataframe\">\n",
       "  <thead>\n",
       "    <tr style=\"text-align: right;\">\n",
       "      <th></th>\n",
       "      <th>fixed acidity</th>\n",
       "      <th>volatile acidity</th>\n",
       "      <th>citric acid</th>\n",
       "      <th>residual sugar</th>\n",
       "      <th>chlorides</th>\n",
       "      <th>free sulfur dioxide</th>\n",
       "      <th>total sulfur dioxide</th>\n",
       "      <th>density</th>\n",
       "      <th>pH</th>\n",
       "      <th>sulphates</th>\n",
       "      <th>alcohol</th>\n",
       "      <th>quality</th>\n",
       "    </tr>\n",
       "  </thead>\n",
       "  <tbody>\n",
       "    <tr>\n",
       "      <th>0</th>\n",
       "      <td>7.0</td>\n",
       "      <td>0.27</td>\n",
       "      <td>0.36</td>\n",
       "      <td>20.7</td>\n",
       "      <td>0.045</td>\n",
       "      <td>45.0</td>\n",
       "      <td>170.0</td>\n",
       "      <td>1.00100</td>\n",
       "      <td>3.00</td>\n",
       "      <td>0.45</td>\n",
       "      <td>8.8</td>\n",
       "      <td>6</td>\n",
       "    </tr>\n",
       "    <tr>\n",
       "      <th>1</th>\n",
       "      <td>6.3</td>\n",
       "      <td>0.30</td>\n",
       "      <td>0.34</td>\n",
       "      <td>1.6</td>\n",
       "      <td>0.049</td>\n",
       "      <td>14.0</td>\n",
       "      <td>132.0</td>\n",
       "      <td>0.99400</td>\n",
       "      <td>3.30</td>\n",
       "      <td>0.49</td>\n",
       "      <td>9.5</td>\n",
       "      <td>6</td>\n",
       "    </tr>\n",
       "    <tr>\n",
       "      <th>2</th>\n",
       "      <td>8.1</td>\n",
       "      <td>0.28</td>\n",
       "      <td>0.40</td>\n",
       "      <td>6.9</td>\n",
       "      <td>0.050</td>\n",
       "      <td>30.0</td>\n",
       "      <td>97.0</td>\n",
       "      <td>0.99510</td>\n",
       "      <td>3.26</td>\n",
       "      <td>0.44</td>\n",
       "      <td>10.1</td>\n",
       "      <td>6</td>\n",
       "    </tr>\n",
       "    <tr>\n",
       "      <th>3</th>\n",
       "      <td>7.2</td>\n",
       "      <td>0.23</td>\n",
       "      <td>0.32</td>\n",
       "      <td>8.5</td>\n",
       "      <td>0.058</td>\n",
       "      <td>47.0</td>\n",
       "      <td>186.0</td>\n",
       "      <td>0.99560</td>\n",
       "      <td>3.19</td>\n",
       "      <td>0.40</td>\n",
       "      <td>9.9</td>\n",
       "      <td>6</td>\n",
       "    </tr>\n",
       "    <tr>\n",
       "      <th>4</th>\n",
       "      <td>7.2</td>\n",
       "      <td>0.23</td>\n",
       "      <td>0.32</td>\n",
       "      <td>8.5</td>\n",
       "      <td>0.058</td>\n",
       "      <td>47.0</td>\n",
       "      <td>186.0</td>\n",
       "      <td>0.99560</td>\n",
       "      <td>3.19</td>\n",
       "      <td>0.40</td>\n",
       "      <td>9.9</td>\n",
       "      <td>6</td>\n",
       "    </tr>\n",
       "    <tr>\n",
       "      <th>...</th>\n",
       "      <td>...</td>\n",
       "      <td>...</td>\n",
       "      <td>...</td>\n",
       "      <td>...</td>\n",
       "      <td>...</td>\n",
       "      <td>...</td>\n",
       "      <td>...</td>\n",
       "      <td>...</td>\n",
       "      <td>...</td>\n",
       "      <td>...</td>\n",
       "      <td>...</td>\n",
       "      <td>...</td>\n",
       "    </tr>\n",
       "    <tr>\n",
       "      <th>4893</th>\n",
       "      <td>6.2</td>\n",
       "      <td>0.21</td>\n",
       "      <td>0.29</td>\n",
       "      <td>1.6</td>\n",
       "      <td>0.039</td>\n",
       "      <td>24.0</td>\n",
       "      <td>92.0</td>\n",
       "      <td>0.99114</td>\n",
       "      <td>3.27</td>\n",
       "      <td>0.50</td>\n",
       "      <td>11.2</td>\n",
       "      <td>6</td>\n",
       "    </tr>\n",
       "    <tr>\n",
       "      <th>4894</th>\n",
       "      <td>6.6</td>\n",
       "      <td>0.32</td>\n",
       "      <td>0.36</td>\n",
       "      <td>8.0</td>\n",
       "      <td>0.047</td>\n",
       "      <td>57.0</td>\n",
       "      <td>168.0</td>\n",
       "      <td>0.99490</td>\n",
       "      <td>3.15</td>\n",
       "      <td>0.46</td>\n",
       "      <td>9.6</td>\n",
       "      <td>5</td>\n",
       "    </tr>\n",
       "    <tr>\n",
       "      <th>4895</th>\n",
       "      <td>6.5</td>\n",
       "      <td>0.24</td>\n",
       "      <td>0.19</td>\n",
       "      <td>1.2</td>\n",
       "      <td>0.041</td>\n",
       "      <td>30.0</td>\n",
       "      <td>111.0</td>\n",
       "      <td>0.99254</td>\n",
       "      <td>2.99</td>\n",
       "      <td>0.46</td>\n",
       "      <td>9.4</td>\n",
       "      <td>6</td>\n",
       "    </tr>\n",
       "    <tr>\n",
       "      <th>4896</th>\n",
       "      <td>5.5</td>\n",
       "      <td>0.29</td>\n",
       "      <td>0.30</td>\n",
       "      <td>1.1</td>\n",
       "      <td>0.022</td>\n",
       "      <td>20.0</td>\n",
       "      <td>110.0</td>\n",
       "      <td>0.98869</td>\n",
       "      <td>3.34</td>\n",
       "      <td>0.38</td>\n",
       "      <td>12.8</td>\n",
       "      <td>7</td>\n",
       "    </tr>\n",
       "    <tr>\n",
       "      <th>4897</th>\n",
       "      <td>6.0</td>\n",
       "      <td>0.21</td>\n",
       "      <td>0.38</td>\n",
       "      <td>0.8</td>\n",
       "      <td>0.020</td>\n",
       "      <td>22.0</td>\n",
       "      <td>98.0</td>\n",
       "      <td>0.98941</td>\n",
       "      <td>3.26</td>\n",
       "      <td>0.32</td>\n",
       "      <td>11.8</td>\n",
       "      <td>6</td>\n",
       "    </tr>\n",
       "  </tbody>\n",
       "</table>\n",
       "<p>4898 rows × 12 columns</p>\n",
       "</div>"
      ],
      "text/plain": [
       "      fixed acidity  volatile acidity  citric acid  residual sugar  chlorides  \\\n",
       "0               7.0              0.27         0.36            20.7      0.045   \n",
       "1               6.3              0.30         0.34             1.6      0.049   \n",
       "2               8.1              0.28         0.40             6.9      0.050   \n",
       "3               7.2              0.23         0.32             8.5      0.058   \n",
       "4               7.2              0.23         0.32             8.5      0.058   \n",
       "...             ...               ...          ...             ...        ...   \n",
       "4893            6.2              0.21         0.29             1.6      0.039   \n",
       "4894            6.6              0.32         0.36             8.0      0.047   \n",
       "4895            6.5              0.24         0.19             1.2      0.041   \n",
       "4896            5.5              0.29         0.30             1.1      0.022   \n",
       "4897            6.0              0.21         0.38             0.8      0.020   \n",
       "\n",
       "      free sulfur dioxide  total sulfur dioxide  density    pH  sulphates  \\\n",
       "0                    45.0                 170.0  1.00100  3.00       0.45   \n",
       "1                    14.0                 132.0  0.99400  3.30       0.49   \n",
       "2                    30.0                  97.0  0.99510  3.26       0.44   \n",
       "3                    47.0                 186.0  0.99560  3.19       0.40   \n",
       "4                    47.0                 186.0  0.99560  3.19       0.40   \n",
       "...                   ...                   ...      ...   ...        ...   \n",
       "4893                 24.0                  92.0  0.99114  3.27       0.50   \n",
       "4894                 57.0                 168.0  0.99490  3.15       0.46   \n",
       "4895                 30.0                 111.0  0.99254  2.99       0.46   \n",
       "4896                 20.0                 110.0  0.98869  3.34       0.38   \n",
       "4897                 22.0                  98.0  0.98941  3.26       0.32   \n",
       "\n",
       "      alcohol  quality  \n",
       "0         8.8        6  \n",
       "1         9.5        6  \n",
       "2        10.1        6  \n",
       "3         9.9        6  \n",
       "4         9.9        6  \n",
       "...       ...      ...  \n",
       "4893     11.2        6  \n",
       "4894      9.6        5  \n",
       "4895      9.4        6  \n",
       "4896     12.8        7  \n",
       "4897     11.8        6  \n",
       "\n",
       "[4898 rows x 12 columns]"
      ]
     },
     "execution_count": 59,
     "metadata": {},
     "output_type": "execute_result"
    }
   ],
   "source": [
    "df=pd.read_csv(\"winequality-white.csv\",sep=\";\")\n",
    "df"
   ]
  },
  {
   "cell_type": "code",
   "execution_count": 60,
   "id": "ef3ce8e0",
   "metadata": {},
   "outputs": [
    {
     "name": "stdout",
     "output_type": "stream",
     "text": [
      "<class 'pandas.core.frame.DataFrame'>\n",
      "RangeIndex: 4898 entries, 0 to 4897\n",
      "Data columns (total 12 columns):\n",
      " #   Column                Non-Null Count  Dtype  \n",
      "---  ------                --------------  -----  \n",
      " 0   fixed acidity         4898 non-null   float64\n",
      " 1   volatile acidity      4898 non-null   float64\n",
      " 2   citric acid           4898 non-null   float64\n",
      " 3   residual sugar        4898 non-null   float64\n",
      " 4   chlorides             4898 non-null   float64\n",
      " 5   free sulfur dioxide   4898 non-null   float64\n",
      " 6   total sulfur dioxide  4898 non-null   float64\n",
      " 7   density               4898 non-null   float64\n",
      " 8   pH                    4898 non-null   float64\n",
      " 9   sulphates             4898 non-null   float64\n",
      " 10  alcohol               4898 non-null   float64\n",
      " 11  quality               4898 non-null   int64  \n",
      "dtypes: float64(11), int64(1)\n",
      "memory usage: 459.3 KB\n"
     ]
    }
   ],
   "source": [
    "df.info()"
   ]
  },
  {
   "cell_type": "code",
   "execution_count": 61,
   "id": "f39ea310",
   "metadata": {},
   "outputs": [
    {
     "data": {
      "text/plain": [
       "fixed acidity           0\n",
       "volatile acidity        0\n",
       "citric acid             0\n",
       "residual sugar          0\n",
       "chlorides               0\n",
       "free sulfur dioxide     0\n",
       "total sulfur dioxide    0\n",
       "density                 0\n",
       "pH                      0\n",
       "sulphates               0\n",
       "alcohol                 0\n",
       "quality                 0\n",
       "dtype: int64"
      ]
     },
     "execution_count": 61,
     "metadata": {},
     "output_type": "execute_result"
    }
   ],
   "source": [
    "df.isnull().sum()"
   ]
  },
  {
   "cell_type": "code",
   "execution_count": 62,
   "id": "3ef6f424",
   "metadata": {},
   "outputs": [
    {
     "data": {
      "text/html": [
       "<div>\n",
       "<style scoped>\n",
       "    .dataframe tbody tr th:only-of-type {\n",
       "        vertical-align: middle;\n",
       "    }\n",
       "\n",
       "    .dataframe tbody tr th {\n",
       "        vertical-align: top;\n",
       "    }\n",
       "\n",
       "    .dataframe thead th {\n",
       "        text-align: right;\n",
       "    }\n",
       "</style>\n",
       "<table border=\"1\" class=\"dataframe\">\n",
       "  <thead>\n",
       "    <tr style=\"text-align: right;\">\n",
       "      <th></th>\n",
       "      <th>fixed acidity</th>\n",
       "      <th>volatile acidity</th>\n",
       "      <th>citric acid</th>\n",
       "      <th>residual sugar</th>\n",
       "      <th>chlorides</th>\n",
       "      <th>free sulfur dioxide</th>\n",
       "      <th>total sulfur dioxide</th>\n",
       "      <th>density</th>\n",
       "      <th>pH</th>\n",
       "      <th>sulphates</th>\n",
       "      <th>alcohol</th>\n",
       "      <th>quality</th>\n",
       "    </tr>\n",
       "  </thead>\n",
       "  <tbody>\n",
       "    <tr>\n",
       "      <th>count</th>\n",
       "      <td>4898.000000</td>\n",
       "      <td>4898.000000</td>\n",
       "      <td>4898.000000</td>\n",
       "      <td>4898.000000</td>\n",
       "      <td>4898.000000</td>\n",
       "      <td>4898.000000</td>\n",
       "      <td>4898.000000</td>\n",
       "      <td>4898.000000</td>\n",
       "      <td>4898.000000</td>\n",
       "      <td>4898.000000</td>\n",
       "      <td>4898.000000</td>\n",
       "      <td>4898.000000</td>\n",
       "    </tr>\n",
       "    <tr>\n",
       "      <th>mean</th>\n",
       "      <td>6.854788</td>\n",
       "      <td>0.278241</td>\n",
       "      <td>0.334192</td>\n",
       "      <td>6.391415</td>\n",
       "      <td>0.045772</td>\n",
       "      <td>35.308085</td>\n",
       "      <td>138.360657</td>\n",
       "      <td>0.994027</td>\n",
       "      <td>3.188267</td>\n",
       "      <td>0.489847</td>\n",
       "      <td>10.514267</td>\n",
       "      <td>5.877909</td>\n",
       "    </tr>\n",
       "    <tr>\n",
       "      <th>std</th>\n",
       "      <td>0.843868</td>\n",
       "      <td>0.100795</td>\n",
       "      <td>0.121020</td>\n",
       "      <td>5.072058</td>\n",
       "      <td>0.021848</td>\n",
       "      <td>17.007137</td>\n",
       "      <td>42.498065</td>\n",
       "      <td>0.002991</td>\n",
       "      <td>0.151001</td>\n",
       "      <td>0.114126</td>\n",
       "      <td>1.230621</td>\n",
       "      <td>0.885639</td>\n",
       "    </tr>\n",
       "    <tr>\n",
       "      <th>min</th>\n",
       "      <td>3.800000</td>\n",
       "      <td>0.080000</td>\n",
       "      <td>0.000000</td>\n",
       "      <td>0.600000</td>\n",
       "      <td>0.009000</td>\n",
       "      <td>2.000000</td>\n",
       "      <td>9.000000</td>\n",
       "      <td>0.987110</td>\n",
       "      <td>2.720000</td>\n",
       "      <td>0.220000</td>\n",
       "      <td>8.000000</td>\n",
       "      <td>3.000000</td>\n",
       "    </tr>\n",
       "    <tr>\n",
       "      <th>25%</th>\n",
       "      <td>6.300000</td>\n",
       "      <td>0.210000</td>\n",
       "      <td>0.270000</td>\n",
       "      <td>1.700000</td>\n",
       "      <td>0.036000</td>\n",
       "      <td>23.000000</td>\n",
       "      <td>108.000000</td>\n",
       "      <td>0.991723</td>\n",
       "      <td>3.090000</td>\n",
       "      <td>0.410000</td>\n",
       "      <td>9.500000</td>\n",
       "      <td>5.000000</td>\n",
       "    </tr>\n",
       "    <tr>\n",
       "      <th>50%</th>\n",
       "      <td>6.800000</td>\n",
       "      <td>0.260000</td>\n",
       "      <td>0.320000</td>\n",
       "      <td>5.200000</td>\n",
       "      <td>0.043000</td>\n",
       "      <td>34.000000</td>\n",
       "      <td>134.000000</td>\n",
       "      <td>0.993740</td>\n",
       "      <td>3.180000</td>\n",
       "      <td>0.470000</td>\n",
       "      <td>10.400000</td>\n",
       "      <td>6.000000</td>\n",
       "    </tr>\n",
       "    <tr>\n",
       "      <th>75%</th>\n",
       "      <td>7.300000</td>\n",
       "      <td>0.320000</td>\n",
       "      <td>0.390000</td>\n",
       "      <td>9.900000</td>\n",
       "      <td>0.050000</td>\n",
       "      <td>46.000000</td>\n",
       "      <td>167.000000</td>\n",
       "      <td>0.996100</td>\n",
       "      <td>3.280000</td>\n",
       "      <td>0.550000</td>\n",
       "      <td>11.400000</td>\n",
       "      <td>6.000000</td>\n",
       "    </tr>\n",
       "    <tr>\n",
       "      <th>max</th>\n",
       "      <td>14.200000</td>\n",
       "      <td>1.100000</td>\n",
       "      <td>1.660000</td>\n",
       "      <td>65.800000</td>\n",
       "      <td>0.346000</td>\n",
       "      <td>289.000000</td>\n",
       "      <td>440.000000</td>\n",
       "      <td>1.038980</td>\n",
       "      <td>3.820000</td>\n",
       "      <td>1.080000</td>\n",
       "      <td>14.200000</td>\n",
       "      <td>9.000000</td>\n",
       "    </tr>\n",
       "  </tbody>\n",
       "</table>\n",
       "</div>"
      ],
      "text/plain": [
       "       fixed acidity  volatile acidity  citric acid  residual sugar  \\\n",
       "count    4898.000000       4898.000000  4898.000000     4898.000000   \n",
       "mean        6.854788          0.278241     0.334192        6.391415   \n",
       "std         0.843868          0.100795     0.121020        5.072058   \n",
       "min         3.800000          0.080000     0.000000        0.600000   \n",
       "25%         6.300000          0.210000     0.270000        1.700000   \n",
       "50%         6.800000          0.260000     0.320000        5.200000   \n",
       "75%         7.300000          0.320000     0.390000        9.900000   \n",
       "max        14.200000          1.100000     1.660000       65.800000   \n",
       "\n",
       "         chlorides  free sulfur dioxide  total sulfur dioxide      density  \\\n",
       "count  4898.000000          4898.000000           4898.000000  4898.000000   \n",
       "mean      0.045772            35.308085            138.360657     0.994027   \n",
       "std       0.021848            17.007137             42.498065     0.002991   \n",
       "min       0.009000             2.000000              9.000000     0.987110   \n",
       "25%       0.036000            23.000000            108.000000     0.991723   \n",
       "50%       0.043000            34.000000            134.000000     0.993740   \n",
       "75%       0.050000            46.000000            167.000000     0.996100   \n",
       "max       0.346000           289.000000            440.000000     1.038980   \n",
       "\n",
       "                pH    sulphates      alcohol      quality  \n",
       "count  4898.000000  4898.000000  4898.000000  4898.000000  \n",
       "mean      3.188267     0.489847    10.514267     5.877909  \n",
       "std       0.151001     0.114126     1.230621     0.885639  \n",
       "min       2.720000     0.220000     8.000000     3.000000  \n",
       "25%       3.090000     0.410000     9.500000     5.000000  \n",
       "50%       3.180000     0.470000    10.400000     6.000000  \n",
       "75%       3.280000     0.550000    11.400000     6.000000  \n",
       "max       3.820000     1.080000    14.200000     9.000000  "
      ]
     },
     "execution_count": 62,
     "metadata": {},
     "output_type": "execute_result"
    }
   ],
   "source": [
    "df.describe()"
   ]
  },
  {
   "cell_type": "markdown",
   "id": "7c5c7354",
   "metadata": {},
   "source": [
    "## Implementation of Polynomial Regression for single feature"
   ]
  },
  {
   "cell_type": "code",
   "execution_count": 93,
   "id": "f19e09f4",
   "metadata": {},
   "outputs": [
    {
     "data": {
      "text/plain": [
       "<Axes: >"
      ]
     },
     "execution_count": 93,
     "metadata": {},
     "output_type": "execute_result"
    },
    {
     "data": {
      "image/png": "[encoded data removed]",
      "text/plain": [
       "<Figure size 1000x1000 with 2 Axes>"
      ]
     },
     "metadata": {},
     "output_type": "display_data"
    }
   ],
   "source": [
    "corr=df.corr()\n",
    "fig,ax=plt.subplots(figsize=(10,10))\n",
    "sns.heatmap(corr,annot=True)"
   ]
  },
  {
   "cell_type": "code",
   "execution_count": 94,
   "id": "d976aa90",
   "metadata": {},
   "outputs": [
    {
     "data": {
      "text/plain": [
       "0        8.8\n",
       "1        9.5\n",
       "2       10.1\n",
       "3        9.9\n",
       "4        9.9\n",
       "        ... \n",
       "4893    11.2\n",
       "4894     9.6\n",
       "4895     9.4\n",
       "4896    12.8\n",
       "4897    11.8\n",
       "Name: alcohol, Length: 4898, dtype: float64"
      ]
     },
     "execution_count": 94,
     "metadata": {},
     "output_type": "execute_result"
    }
   ],
   "source": [
    "x=df[\"alcohol\"]\n",
    "x"
   ]
  },
  {
   "cell_type": "code",
   "execution_count": 95,
   "id": "be9bb04e",
   "metadata": {},
   "outputs": [
    {
     "data": {
      "text/plain": [
       "0       6\n",
       "1       6\n",
       "2       6\n",
       "3       6\n",
       "4       6\n",
       "       ..\n",
       "4893    6\n",
       "4894    5\n",
       "4895    6\n",
       "4896    7\n",
       "4897    6\n",
       "Name: quality, Length: 4898, dtype: int64"
      ]
     },
     "execution_count": 95,
     "metadata": {},
     "output_type": "execute_result"
    }
   ],
   "source": [
    "y=df[\"quality\"]\n",
    "y"
   ]
  },
  {
   "cell_type": "code",
   "execution_count": 96,
   "id": "7a56205f",
   "metadata": {},
   "outputs": [
    {
     "data": {
      "text/plain": [
       "array([[  8.8 ,  77.44],\n",
       "       [  9.5 ,  90.25],\n",
       "       [ 10.1 , 102.01],\n",
       "       ...,\n",
       "       [  9.4 ,  88.36],\n",
       "       [ 12.8 , 163.84],\n",
       "       [ 11.8 , 139.24]])"
      ]
     },
     "execution_count": 96,
     "metadata": {},
     "output_type": "execute_result"
    }
   ],
   "source": [
    "poly = PolynomialFeatures(degree=2, include_bias=False)\n",
    "x_poly=poly.fit_transform(x.values.reshape(-1,1))\n",
    "x_poly"
   ]
  },
  {
   "cell_type": "code",
   "execution_count": 97,
   "id": "5b7d5f38",
   "metadata": {},
   "outputs": [
    {
     "data": {
      "text/html": [
       "<style>#sk-container-id-5 {color: black;background-color: white;}#sk-container-id-5 pre{padding: 0;}#sk-container-id-5 div.sk-toggleable {background-color: white;}#sk-container-id-5 label.sk-toggleable__label {cursor: pointer;display: block;width: 100%;margin-bottom: 0;padding: 0.3em;box-sizing: border-box;text-align: center;}#sk-container-id-5 label.sk-toggleable__label-arrow:before {content: \"▸\";float: left;margin-right: 0.25em;color: #696969;}#sk-container-id-5 label.sk-toggleable__label-arrow:hover:before {color: black;}#sk-container-id-5 div.sk-estimator:hover label.sk-toggleable__label-arrow:before {color: black;}#sk-container-id-5 div.sk-toggleable__content {max-height: 0;max-width: 0;overflow: hidden;text-align: left;background-color: #f0f8ff;}#sk-container-id-5 div.sk-toggleable__content pre {margin: 0.2em;color: black;border-radius: 0.25em;background-color: #f0f8ff;}#sk-container-id-5 input.sk-toggleable__control:checked~div.sk-toggleable__content {max-height: 200px;max-width: 100%;overflow: auto;}#sk-container-id-5 input.sk-toggleable__control:checked~label.sk-toggleable__label-arrow:before {content: \"▾\";}#sk-container-id-5 div.sk-estimator input.sk-toggleable__control:checked~label.sk-toggleable__label {background-color: #d4ebff;}#sk-container-id-5 div.sk-label input.sk-toggleable__control:checked~label.sk-toggleable__label {background-color: #d4ebff;}#sk-container-id-5 input.sk-hidden--visually {border: 0;clip: rect(1px 1px 1px 1px);clip: rect(1px, 1px, 1px, 1px);height: 1px;margin: -1px;overflow: hidden;padding: 0;position: absolute;width: 1px;}#sk-container-id-5 div.sk-estimator {font-family: monospace;background-color: #f0f8ff;border: 1px dotted black;border-radius: 0.25em;box-sizing: border-box;margin-bottom: 0.5em;}#sk-container-id-5 div.sk-estimator:hover {background-color: #d4ebff;}#sk-container-id-5 div.sk-parallel-item::after {content: \"\";width: 100%;border-bottom: 1px solid gray;flex-grow: 1;}#sk-container-id-5 div.sk-label:hover label.sk-toggleable__label {background-color: #d4ebff;}#sk-container-id-5 div.sk-serial::before {content: \"\";position: absolute;border-left: 1px solid gray;box-sizing: border-box;top: 0;bottom: 0;left: 50%;z-index: 0;}#sk-container-id-5 div.sk-serial {display: flex;flex-direction: column;align-items: center;background-color: white;padding-right: 0.2em;padding-left: 0.2em;position: relative;}#sk-container-id-5 div.sk-item {position: relative;z-index: 1;}#sk-container-id-5 div.sk-parallel {display: flex;align-items: stretch;justify-content: center;background-color: white;position: relative;}#sk-container-id-5 div.sk-item::before, #sk-container-id-5 div.sk-parallel-item::before {content: \"\";position: absolute;border-left: 1px solid gray;box-sizing: border-box;top: 0;bottom: 0;left: 50%;z-index: -1;}#sk-container-id-5 div.sk-parallel-item {display: flex;flex-direction: column;z-index: 1;position: relative;background-color: white;}#sk-container-id-5 div.sk-parallel-item:first-child::after {align-self: flex-end;width: 50%;}#sk-container-id-5 div.sk-parallel-item:last-child::after {align-self: flex-start;width: 50%;}#sk-container-id-5 div.sk-parallel-item:only-child::after {width: 0;}#sk-container-id-5 div.sk-dashed-wrapped {border: 1px dashed gray;margin: 0 0.4em 0.5em 0.4em;box-sizing: border-box;padding-bottom: 0.4em;background-color: white;}#sk-container-id-5 div.sk-label label {font-family: monospace;font-weight: bold;display: inline-block;line-height: 1.2em;}#sk-container-id-5 div.sk-label-container {text-align: center;}#sk-container-id-5 div.sk-container {/* jupyter's `normalize.less` sets `[hidden] { display: none; }` but bootstrap.min.css set `[hidden] { display: none !important; }` so we also need the `!important` here to be able to override the default hidden behavior on the sphinx rendered scikit-learn.org. See: https://github.com/scikit-learn/scikit-learn/issues/21755 */display: inline-block !important;position: relative;}#sk-container-id-5 div.sk-text-repr-fallback {display: none;}</style><div id=\"sk-container-id-5\" class=\"sk-top-container\"><div class=\"sk-text-repr-fallback\"><pre>LinearRegression()</pre><b>In a Jupyter environment, please rerun this cell to show the HTML representation or trust the notebook. <br />On GitHub, the HTML representation is unable to render, please try loading this page with nbviewer.org.</b></div><div class=\"sk-container\" hidden><div class=\"sk-item\"><div class=\"sk-estimator sk-toggleable\"><input class=\"sk-toggleable__control sk-hidden--visually\" id=\"sk-estimator-id-5\" type=\"checkbox\" checked><label for=\"sk-estimator-id-5\" class=\"sk-toggleable__label sk-toggleable__label-arrow\">LinearRegression</label><div class=\"sk-toggleable__content\"><pre>LinearRegression()</pre></div></div></div></div></div>"
      ],
      "text/plain": [
       "LinearRegression()"
      ]
     },
     "execution_count": 97,
     "metadata": {},
     "output_type": "execute_result"
    }
   ],
   "source": [
    "linear=LinearRegression()\n",
    "linear.fit(x_poly,y)"
   ]
  },
  {
   "cell_type": "code",
   "execution_count": 99,
   "id": "da5a3ace",
   "metadata": {},
   "outputs": [
    {
     "data": {
      "text/plain": [
       "array([5.41402244, 5.56364334, 5.71526275, ..., 5.54047101, 6.66454086,\n",
       "       6.26201538])"
      ]
     },
     "execution_count": 99,
     "metadata": {},
     "output_type": "execute_result"
    }
   ],
   "source": [
    "y_pred=linear.predict(x_poly)\n",
    "y_pred"
   ]
  },
  {
   "cell_type": "code",
   "execution_count": 101,
   "id": "7aa1eb06",
   "metadata": {},
   "outputs": [
    {
     "data": {
      "text/plain": [
       "0.6332241202268127"
      ]
     },
     "execution_count": 101,
     "metadata": {},
     "output_type": "execute_result"
    }
   ],
   "source": [
    "mse=mean_squared_error(y,y_pred)\n",
    "mse"
   ]
  },
  {
   "cell_type": "code",
   "execution_count": 103,
   "id": "ab541d65",
   "metadata": {},
   "outputs": [
    {
     "data": {
      "text/plain": [
       "0.6297948256283489"
      ]
     },
     "execution_count": 103,
     "metadata": {},
     "output_type": "execute_result"
    }
   ],
   "source": [
    "mean_absolute_error=mean_absolute_error(y,y_pred)\n",
    "mean_absolute_error"
   ]
  },
  {
   "cell_type": "code",
   "execution_count": 104,
   "id": "2cc09717",
   "metadata": {},
   "outputs": [
    {
     "data": {
      "text/plain": [
       "0.19251757775267775"
      ]
     },
     "execution_count": 104,
     "metadata": {},
     "output_type": "execute_result"
    }
   ],
   "source": [
    "score=r2_score(y,y_pred)\n",
    "score"
   ]
  },
  {
   "cell_type": "code",
   "execution_count": 105,
   "id": "393ab467",
   "metadata": {},
   "outputs": [
    {
     "data": {
      "text/plain": [
       "6.038172233703269"
      ]
     },
     "execution_count": 105,
     "metadata": {},
     "output_type": "execute_result"
    }
   ],
   "source": [
    "linear.intercept_"
   ]
  },
  {
   "cell_type": "code",
   "execution_count": 106,
   "id": "07abd439",
   "metadata": {},
   "outputs": [
    {
     "data": {
      "text/plain": [
       "array([-0.33462067,  0.02996529])"
      ]
     },
     "execution_count": 106,
     "metadata": {},
     "output_type": "execute_result"
    }
   ],
   "source": [
    "linear.coef_"
   ]
  },
  {
   "cell_type": "code",
   "execution_count": 108,
   "id": "9df7b84e",
   "metadata": {},
   "outputs": [
    {
     "data": {
      "image/png": "[encoded data removed]",
      "text/plain": [
       "<Figure size 640x480 with 1 Axes>"
      ]
     },
     "metadata": {},
     "output_type": "display_data"
    }
   ],
   "source": [
    "sns.scatterplot(x=\"alcohol\",y=\"quality\",data=df)\n",
    "plt.plot(x,y_pred,color=\"red\")\n",
    "plt.title(\"alcohol vs quality polynomial regression\")\n",
    "plt.show()"
   ]
  },
  {
   "cell_type": "markdown",
   "id": "50591d1d",
   "metadata": {},
   "source": [
    "## Implementation of Polynomial Regression for multiple features"
   ]
  },
  {
   "cell_type": "code",
   "execution_count": 63,
   "id": "810d76a1",
   "metadata": {},
   "outputs": [
    {
     "data": {
      "text/html": [
       "<div>\n",
       "<style scoped>\n",
       "    .dataframe tbody tr th:only-of-type {\n",
       "        vertical-align: middle;\n",
       "    }\n",
       "\n",
       "    .dataframe tbody tr th {\n",
       "        vertical-align: top;\n",
       "    }\n",
       "\n",
       "    .dataframe thead th {\n",
       "        text-align: right;\n",
       "    }\n",
       "</style>\n",
       "<table border=\"1\" class=\"dataframe\">\n",
       "  <thead>\n",
       "    <tr style=\"text-align: right;\">\n",
       "      <th></th>\n",
       "      <th>fixed acidity</th>\n",
       "      <th>volatile acidity</th>\n",
       "      <th>citric acid</th>\n",
       "      <th>residual sugar</th>\n",
       "      <th>chlorides</th>\n",
       "      <th>free sulfur dioxide</th>\n",
       "      <th>total sulfur dioxide</th>\n",
       "      <th>density</th>\n",
       "      <th>pH</th>\n",
       "      <th>sulphates</th>\n",
       "      <th>alcohol</th>\n",
       "    </tr>\n",
       "  </thead>\n",
       "  <tbody>\n",
       "    <tr>\n",
       "      <th>0</th>\n",
       "      <td>7.0</td>\n",
       "      <td>0.27</td>\n",
       "      <td>0.36</td>\n",
       "      <td>20.7</td>\n",
       "      <td>0.045</td>\n",
       "      <td>45.0</td>\n",
       "      <td>170.0</td>\n",
       "      <td>1.00100</td>\n",
       "      <td>3.00</td>\n",
       "      <td>0.45</td>\n",
       "      <td>8.8</td>\n",
       "    </tr>\n",
       "    <tr>\n",
       "      <th>1</th>\n",
       "      <td>6.3</td>\n",
       "      <td>0.30</td>\n",
       "      <td>0.34</td>\n",
       "      <td>1.6</td>\n",
       "      <td>0.049</td>\n",
       "      <td>14.0</td>\n",
       "      <td>132.0</td>\n",
       "      <td>0.99400</td>\n",
       "      <td>3.30</td>\n",
       "      <td>0.49</td>\n",
       "      <td>9.5</td>\n",
       "    </tr>\n",
       "    <tr>\n",
       "      <th>2</th>\n",
       "      <td>8.1</td>\n",
       "      <td>0.28</td>\n",
       "      <td>0.40</td>\n",
       "      <td>6.9</td>\n",
       "      <td>0.050</td>\n",
       "      <td>30.0</td>\n",
       "      <td>97.0</td>\n",
       "      <td>0.99510</td>\n",
       "      <td>3.26</td>\n",
       "      <td>0.44</td>\n",
       "      <td>10.1</td>\n",
       "    </tr>\n",
       "    <tr>\n",
       "      <th>3</th>\n",
       "      <td>7.2</td>\n",
       "      <td>0.23</td>\n",
       "      <td>0.32</td>\n",
       "      <td>8.5</td>\n",
       "      <td>0.058</td>\n",
       "      <td>47.0</td>\n",
       "      <td>186.0</td>\n",
       "      <td>0.99560</td>\n",
       "      <td>3.19</td>\n",
       "      <td>0.40</td>\n",
       "      <td>9.9</td>\n",
       "    </tr>\n",
       "    <tr>\n",
       "      <th>4</th>\n",
       "      <td>7.2</td>\n",
       "      <td>0.23</td>\n",
       "      <td>0.32</td>\n",
       "      <td>8.5</td>\n",
       "      <td>0.058</td>\n",
       "      <td>47.0</td>\n",
       "      <td>186.0</td>\n",
       "      <td>0.99560</td>\n",
       "      <td>3.19</td>\n",
       "      <td>0.40</td>\n",
       "      <td>9.9</td>\n",
       "    </tr>\n",
       "    <tr>\n",
       "      <th>...</th>\n",
       "      <td>...</td>\n",
       "      <td>...</td>\n",
       "      <td>...</td>\n",
       "      <td>...</td>\n",
       "      <td>...</td>\n",
       "      <td>...</td>\n",
       "      <td>...</td>\n",
       "      <td>...</td>\n",
       "      <td>...</td>\n",
       "      <td>...</td>\n",
       "      <td>...</td>\n",
       "    </tr>\n",
       "    <tr>\n",
       "      <th>4893</th>\n",
       "      <td>6.2</td>\n",
       "      <td>0.21</td>\n",
       "      <td>0.29</td>\n",
       "      <td>1.6</td>\n",
       "      <td>0.039</td>\n",
       "      <td>24.0</td>\n",
       "      <td>92.0</td>\n",
       "      <td>0.99114</td>\n",
       "      <td>3.27</td>\n",
       "      <td>0.50</td>\n",
       "      <td>11.2</td>\n",
       "    </tr>\n",
       "    <tr>\n",
       "      <th>4894</th>\n",
       "      <td>6.6</td>\n",
       "      <td>0.32</td>\n",
       "      <td>0.36</td>\n",
       "      <td>8.0</td>\n",
       "      <td>0.047</td>\n",
       "      <td>57.0</td>\n",
       "      <td>168.0</td>\n",
       "      <td>0.99490</td>\n",
       "      <td>3.15</td>\n",
       "      <td>0.46</td>\n",
       "      <td>9.6</td>\n",
       "    </tr>\n",
       "    <tr>\n",
       "      <th>4895</th>\n",
       "      <td>6.5</td>\n",
       "      <td>0.24</td>\n",
       "      <td>0.19</td>\n",
       "      <td>1.2</td>\n",
       "      <td>0.041</td>\n",
       "      <td>30.0</td>\n",
       "      <td>111.0</td>\n",
       "      <td>0.99254</td>\n",
       "      <td>2.99</td>\n",
       "      <td>0.46</td>\n",
       "      <td>9.4</td>\n",
       "    </tr>\n",
       "    <tr>\n",
       "      <th>4896</th>\n",
       "      <td>5.5</td>\n",
       "      <td>0.29</td>\n",
       "      <td>0.30</td>\n",
       "      <td>1.1</td>\n",
       "      <td>0.022</td>\n",
       "      <td>20.0</td>\n",
       "      <td>110.0</td>\n",
       "      <td>0.98869</td>\n",
       "      <td>3.34</td>\n",
       "      <td>0.38</td>\n",
       "      <td>12.8</td>\n",
       "    </tr>\n",
       "    <tr>\n",
       "      <th>4897</th>\n",
       "      <td>6.0</td>\n",
       "      <td>0.21</td>\n",
       "      <td>0.38</td>\n",
       "      <td>0.8</td>\n",
       "      <td>0.020</td>\n",
       "      <td>22.0</td>\n",
       "      <td>98.0</td>\n",
       "      <td>0.98941</td>\n",
       "      <td>3.26</td>\n",
       "      <td>0.32</td>\n",
       "      <td>11.8</td>\n",
       "    </tr>\n",
       "  </tbody>\n",
       "</table>\n",
       "<p>4898 rows × 11 columns</p>\n",
       "</div>"
      ],
      "text/plain": [
       "      fixed acidity  volatile acidity  citric acid  residual sugar  chlorides  \\\n",
       "0               7.0              0.27         0.36            20.7      0.045   \n",
       "1               6.3              0.30         0.34             1.6      0.049   \n",
       "2               8.1              0.28         0.40             6.9      0.050   \n",
       "3               7.2              0.23         0.32             8.5      0.058   \n",
       "4               7.2              0.23         0.32             8.5      0.058   \n",
       "...             ...               ...          ...             ...        ...   \n",
       "4893            6.2              0.21         0.29             1.6      0.039   \n",
       "4894            6.6              0.32         0.36             8.0      0.047   \n",
       "4895            6.5              0.24         0.19             1.2      0.041   \n",
       "4896            5.5              0.29         0.30             1.1      0.022   \n",
       "4897            6.0              0.21         0.38             0.8      0.020   \n",
       "\n",
       "      free sulfur dioxide  total sulfur dioxide  density    pH  sulphates  \\\n",
       "0                    45.0                 170.0  1.00100  3.00       0.45   \n",
       "1                    14.0                 132.0  0.99400  3.30       0.49   \n",
       "2                    30.0                  97.0  0.99510  3.26       0.44   \n",
       "3                    47.0                 186.0  0.99560  3.19       0.40   \n",
       "4                    47.0                 186.0  0.99560  3.19       0.40   \n",
       "...                   ...                   ...      ...   ...        ...   \n",
       "4893                 24.0                  92.0  0.99114  3.27       0.50   \n",
       "4894                 57.0                 168.0  0.99490  3.15       0.46   \n",
       "4895                 30.0                 111.0  0.99254  2.99       0.46   \n",
       "4896                 20.0                 110.0  0.98869  3.34       0.38   \n",
       "4897                 22.0                  98.0  0.98941  3.26       0.32   \n",
       "\n",
       "      alcohol  \n",
       "0         8.8  \n",
       "1         9.5  \n",
       "2        10.1  \n",
       "3         9.9  \n",
       "4         9.9  \n",
       "...       ...  \n",
       "4893     11.2  \n",
       "4894      9.6  \n",
       "4895      9.4  \n",
       "4896     12.8  \n",
       "4897     11.8  \n",
       "\n",
       "[4898 rows x 11 columns]"
      ]
     },
     "execution_count": 63,
     "metadata": {},
     "output_type": "execute_result"
    }
   ],
   "source": [
    "X=df.drop(\"quality\",axis=1)\n",
    "X"
   ]
  },
  {
   "cell_type": "code",
   "execution_count": 64,
   "id": "c1d00dae",
   "metadata": {},
   "outputs": [
    {
     "data": {
      "text/plain": [
       "0       6\n",
       "1       6\n",
       "2       6\n",
       "3       6\n",
       "4       6\n",
       "       ..\n",
       "4893    6\n",
       "4894    5\n",
       "4895    6\n",
       "4896    7\n",
       "4897    6\n",
       "Name: quality, Length: 4898, dtype: int64"
      ]
     },
     "execution_count": 64,
     "metadata": {},
     "output_type": "execute_result"
    }
   ],
   "source": [
    "y=df[\"quality\"]\n",
    "y"
   ]
  },
  {
   "cell_type": "code",
   "execution_count": 65,
   "id": "d00a36ea",
   "metadata": {},
   "outputs": [],
   "source": [
    "poly = PolynomialFeatures(degree=2, include_bias=False)"
   ]
  },
  {
   "cell_type": "code",
   "execution_count": 66,
   "id": "0b6f77f4",
   "metadata": {},
   "outputs": [
    {
     "data": {
      "text/plain": [
       "array([[7.0000e+00, 2.7000e-01, 3.6000e-01, ..., 2.0250e-01, 3.9600e+00,\n",
       "        7.7440e+01],\n",
       "       [6.3000e+00, 3.0000e-01, 3.4000e-01, ..., 2.4010e-01, 4.6550e+00,\n",
       "        9.0250e+01],\n",
       "       [8.1000e+00, 2.8000e-01, 4.0000e-01, ..., 1.9360e-01, 4.4440e+00,\n",
       "        1.0201e+02],\n",
       "       ...,\n",
       "       [6.5000e+00, 2.4000e-01, 1.9000e-01, ..., 2.1160e-01, 4.3240e+00,\n",
       "        8.8360e+01],\n",
       "       [5.5000e+00, 2.9000e-01, 3.0000e-01, ..., 1.4440e-01, 4.8640e+00,\n",
       "        1.6384e+02],\n",
       "       [6.0000e+00, 2.1000e-01, 3.8000e-01, ..., 1.0240e-01, 3.7760e+00,\n",
       "        1.3924e+02]])"
      ]
     },
     "execution_count": 66,
     "metadata": {},
     "output_type": "execute_result"
    }
   ],
   "source": [
    "features=poly.fit_transform(X)\n",
    "features"
   ]
  },
  {
   "cell_type": "code",
   "execution_count": 67,
   "id": "cb7e8f4c",
   "metadata": {},
   "outputs": [],
   "source": [
    "X_train, X_test, y_train, y_test = train_test_split(features, y, test_size=0.2, random_state=42)"
   ]
  },
  {
   "cell_type": "code",
   "execution_count": 68,
   "id": "3f655483",
   "metadata": {},
   "outputs": [
    {
     "data": {
      "text/plain": [
       "array([[7.3000e+00, 1.7000e-01, 3.6000e-01, ..., 1.6810e-01, 5.0840e+00,\n",
       "        1.5376e+02],\n",
       "       [6.3000e+00, 2.5000e-01, 4.4000e-01, ..., 2.7040e-01, 4.9400e+00,\n",
       "        9.0250e+01],\n",
       "       [5.6000e+00, 3.2000e-01, 3.3000e-01, ..., 2.4010e-01, 5.4390e+00,\n",
       "        1.2321e+02],\n",
       "       ...,\n",
       "       [7.6000e+00, 2.7000e-01, 5.2000e-01, ..., 2.8090e-01, 6.0420e+00,\n",
       "        1.2996e+02],\n",
       "       [6.3000e+00, 2.4000e-01, 2.9000e-01, ..., 1.4440e-01, 4.0280e+00,\n",
       "        1.1236e+02],\n",
       "       [8.1000e+00, 2.7000e-01, 3.5000e-01, ..., 3.9690e-01, 6.5520e+00,\n",
       "        1.0816e+02]])"
      ]
     },
     "execution_count": 68,
     "metadata": {},
     "output_type": "execute_result"
    }
   ],
   "source": [
    "X_train"
   ]
  },
  {
   "cell_type": "code",
   "execution_count": 69,
   "id": "d4cf827c",
   "metadata": {},
   "outputs": [
    {
     "data": {
      "text/plain": [
       "array([[6.00000000e+00, 2.90000000e-01, 4.10000000e-01, ...,\n",
       "        3.48100000e-01, 6.47033333e+00, 1.20267778e+02],\n",
       "       [5.40000000e+00, 5.30000000e-01, 1.60000000e-01, ...,\n",
       "        2.80900000e-01, 6.99600000e+00, 1.74240000e+02],\n",
       "       [7.10000000e+00, 2.50000000e-01, 3.90000000e-01, ...,\n",
       "        1.84900000e-01, 5.24600000e+00, 1.48840000e+02],\n",
       "       ...,\n",
       "       [5.90000000e+00, 2.60000000e-01, 2.10000000e-01, ...,\n",
       "        1.84900000e-01, 4.08500000e+00, 9.02500000e+01],\n",
       "       [7.50000000e+00, 2.90000000e-01, 3.10000000e-01, ...,\n",
       "        2.91600000e-01, 5.02200000e+00, 8.64900000e+01],\n",
       "       [6.70000000e+00, 2.20000000e-01, 3.90000000e-01, ...,\n",
       "        2.20900000e-01, 4.70000000e+00, 1.00000000e+02]])"
      ]
     },
     "execution_count": 69,
     "metadata": {},
     "output_type": "execute_result"
    }
   ],
   "source": [
    "X_test"
   ]
  },
  {
   "cell_type": "code",
   "execution_count": 70,
   "id": "625b35fb",
   "metadata": {},
   "outputs": [
    {
     "data": {
      "text/plain": [
       "4665    6\n",
       "1943    5\n",
       "3399    6\n",
       "843     7\n",
       "2580    5\n",
       "       ..\n",
       "4426    6\n",
       "466     6\n",
       "3092    6\n",
       "3772    6\n",
       "860     8\n",
       "Name: quality, Length: 3918, dtype: int64"
      ]
     },
     "execution_count": 70,
     "metadata": {},
     "output_type": "execute_result"
    }
   ],
   "source": [
    "y_train"
   ]
  },
  {
   "cell_type": "code",
   "execution_count": 71,
   "id": "949dbd5c",
   "metadata": {},
   "outputs": [
    {
     "data": {
      "text/plain": [
       "4656    7\n",
       "3659    8\n",
       "907     8\n",
       "4352    5\n",
       "3271    7\n",
       "       ..\n",
       "3207    6\n",
       "1539    6\n",
       "964     6\n",
       "168     5\n",
       "3661    6\n",
       "Name: quality, Length: 980, dtype: int64"
      ]
     },
     "execution_count": 71,
     "metadata": {},
     "output_type": "execute_result"
    }
   ],
   "source": [
    "y_test"
   ]
  },
  {
   "cell_type": "code",
   "execution_count": 72,
   "id": "af6c0864",
   "metadata": {},
   "outputs": [],
   "source": [
    "from sklearn.linear_model import LinearRegression"
   ]
  },
  {
   "cell_type": "code",
   "execution_count": 73,
   "id": "02732826",
   "metadata": {},
   "outputs": [],
   "source": [
    "model=LinearRegression()"
   ]
  },
  {
   "cell_type": "code",
   "execution_count": 74,
   "id": "5c9c3c09",
   "metadata": {},
   "outputs": [
    {
     "data": {
      "text/html": [
       "<style>#sk-container-id-4 {color: black;background-color: white;}#sk-container-id-4 pre{padding: 0;}#sk-container-id-4 div.sk-toggleable {background-color: white;}#sk-container-id-4 label.sk-toggleable__label {cursor: pointer;display: block;width: 100%;margin-bottom: 0;padding: 0.3em;box-sizing: border-box;text-align: center;}#sk-container-id-4 label.sk-toggleable__label-arrow:before {content: \"▸\";float: left;margin-right: 0.25em;color: #696969;}#sk-container-id-4 label.sk-toggleable__label-arrow:hover:before {color: black;}#sk-container-id-4 div.sk-estimator:hover label.sk-toggleable__label-arrow:before {color: black;}#sk-container-id-4 div.sk-toggleable__content {max-height: 0;max-width: 0;overflow: hidden;text-align: left;background-color: #f0f8ff;}#sk-container-id-4 div.sk-toggleable__content pre {margin: 0.2em;color: black;border-radius: 0.25em;background-color: #f0f8ff;}#sk-container-id-4 input.sk-toggleable__control:checked~div.sk-toggleable__content {max-height: 200px;max-width: 100%;overflow: auto;}#sk-container-id-4 input.sk-toggleable__control:checked~label.sk-toggleable__label-arrow:before {content: \"▾\";}#sk-container-id-4 div.sk-estimator input.sk-toggleable__control:checked~label.sk-toggleable__label {background-color: #d4ebff;}#sk-container-id-4 div.sk-label input.sk-toggleable__control:checked~label.sk-toggleable__label {background-color: #d4ebff;}#sk-container-id-4 input.sk-hidden--visually {border: 0;clip: rect(1px 1px 1px 1px);clip: rect(1px, 1px, 1px, 1px);height: 1px;margin: -1px;overflow: hidden;padding: 0;position: absolute;width: 1px;}#sk-container-id-4 div.sk-estimator {font-family: monospace;background-color: #f0f8ff;border: 1px dotted black;border-radius: 0.25em;box-sizing: border-box;margin-bottom: 0.5em;}#sk-container-id-4 div.sk-estimator:hover {background-color: #d4ebff;}#sk-container-id-4 div.sk-parallel-item::after {content: \"\";width: 100%;border-bottom: 1px solid gray;flex-grow: 1;}#sk-container-id-4 div.sk-label:hover label.sk-toggleable__label {background-color: #d4ebff;}#sk-container-id-4 div.sk-serial::before {content: \"\";position: absolute;border-left: 1px solid gray;box-sizing: border-box;top: 0;bottom: 0;left: 50%;z-index: 0;}#sk-container-id-4 div.sk-serial {display: flex;flex-direction: column;align-items: center;background-color: white;padding-right: 0.2em;padding-left: 0.2em;position: relative;}#sk-container-id-4 div.sk-item {position: relative;z-index: 1;}#sk-container-id-4 div.sk-parallel {display: flex;align-items: stretch;justify-content: center;background-color: white;position: relative;}#sk-container-id-4 div.sk-item::before, #sk-container-id-4 div.sk-parallel-item::before {content: \"\";position: absolute;border-left: 1px solid gray;box-sizing: border-box;top: 0;bottom: 0;left: 50%;z-index: -1;}#sk-container-id-4 div.sk-parallel-item {display: flex;flex-direction: column;z-index: 1;position: relative;background-color: white;}#sk-container-id-4 div.sk-parallel-item:first-child::after {align-self: flex-end;width: 50%;}#sk-container-id-4 div.sk-parallel-item:last-child::after {align-self: flex-start;width: 50%;}#sk-container-id-4 div.sk-parallel-item:only-child::after {width: 0;}#sk-container-id-4 div.sk-dashed-wrapped {border: 1px dashed gray;margin: 0 0.4em 0.5em 0.4em;box-sizing: border-box;padding-bottom: 0.4em;background-color: white;}#sk-container-id-4 div.sk-label label {font-family: monospace;font-weight: bold;display: inline-block;line-height: 1.2em;}#sk-container-id-4 div.sk-label-container {text-align: center;}#sk-container-id-4 div.sk-container {/* jupyter's `normalize.less` sets `[hidden] { display: none; }` but bootstrap.min.css set `[hidden] { display: none !important; }` so we also need the `!important` here to be able to override the default hidden behavior on the sphinx rendered scikit-learn.org. See: https://github.com/scikit-learn/scikit-learn/issues/21755 */display: inline-block !important;position: relative;}#sk-container-id-4 div.sk-text-repr-fallback {display: none;}</style><div id=\"sk-container-id-4\" class=\"sk-top-container\"><div class=\"sk-text-repr-fallback\"><pre>LinearRegression()</pre><b>In a Jupyter environment, please rerun this cell to show the HTML representation or trust the notebook. <br />On GitHub, the HTML representation is unable to render, please try loading this page with nbviewer.org.</b></div><div class=\"sk-container\" hidden><div class=\"sk-item\"><div class=\"sk-estimator sk-toggleable\"><input class=\"sk-toggleable__control sk-hidden--visually\" id=\"sk-estimator-id-4\" type=\"checkbox\" checked><label for=\"sk-estimator-id-4\" class=\"sk-toggleable__label sk-toggleable__label-arrow\">LinearRegression</label><div class=\"sk-toggleable__content\"><pre>LinearRegression()</pre></div></div></div></div></div>"
      ],
      "text/plain": [
       "LinearRegression()"
      ]
     },
     "execution_count": 74,
     "metadata": {},
     "output_type": "execute_result"
    }
   ],
   "source": [
    "model.fit(X_train,y_train)"
   ]
  },
  {
   "cell_type": "code",
   "execution_count": 75,
   "id": "d5b11626",
   "metadata": {},
   "outputs": [],
   "source": [
    "y_pred=model.predict(X_test)"
   ]
  },
  {
   "cell_type": "code",
   "execution_count": 76,
   "id": "b8814b59",
   "metadata": {},
   "outputs": [
    {
     "data": {
      "text/plain": [
       "array([ 6.1075378 ,  6.82305583,  6.52480601,  5.89086083,  6.50867344,\n",
       "        6.40066054,  5.42453002,  5.18592529,  6.00569212,  4.85596052,\n",
       "        6.42555234,  4.92814685,  6.6647959 ,  5.33417385,  5.80419928,\n",
       "        5.59024378,  6.50471148,  5.74421607,  6.15381986,  5.53725567,\n",
       "        5.62675697,  6.02032371,  5.62360925,  6.12694523,  6.08465912,\n",
       "        5.66888485,  5.45964025,  6.2596329 ,  5.78133069,  5.49134464,\n",
       "        5.44271725,  5.89011821,  5.18605043,  5.4885702 ,  5.57995913,\n",
       "        6.51479411,  6.30709847,  5.32579866,  5.65893645,  5.66357677,\n",
       "        5.7722782 ,  5.59867428,  6.01106319,  5.44384097,  5.32444792,\n",
       "        5.76210155,  5.80586069,  5.46403715,  5.74034697,  5.59309186,\n",
       "        4.73774618,  5.75086437,  5.66368305,  6.24490829,  6.29627669,\n",
       "        5.91312145,  5.8037475 ,  5.91031043,  5.75273295,  5.79352856,\n",
       "        6.02619696,  5.84975518,  5.0794197 ,  7.03568189,  6.19450861,\n",
       "        6.50708274,  6.3444812 ,  5.73749918,  6.10489071,  5.65574104,\n",
       "        5.2685991 ,  6.08176564,  4.66832108,  4.32905357,  5.92426614,\n",
       "        6.4327696 ,  5.95285404,  5.95659929,  6.9122201 ,  6.23738025,\n",
       "        5.41526811,  5.32454524,  6.10949451,  5.702765  ,  6.49925723,\n",
       "        6.44242869,  5.57676322,  5.6921583 ,  6.12626086,  6.11537614,\n",
       "        6.24499577,  4.64866204,  5.52015529,  6.43693481,  6.30711341,\n",
       "        6.58955485,  6.22735148,  5.88474422,  5.23535599,  7.21259544,\n",
       "        5.66311281,  5.86285982,  6.51752915,  5.62810463,  5.60440429,\n",
       "        6.18205141,  5.79352856,  6.31271412,  5.74421607,  6.0990384 ,\n",
       "        5.95276115,  5.63031636,  6.59991119,  5.72967564,  5.64907005,\n",
       "        6.95591309,  6.72058144,  6.15089725,  5.52955877,  6.11993543,\n",
       "        5.42402128,  6.84590818,  6.09952162,  5.53376981,  6.16362295,\n",
       "        6.03035064,  6.81093836,  5.86116097,  6.59941031,  5.44093388,\n",
       "        5.80768787,  6.11992767,  5.56714265,  6.1294744 ,  5.37296558,\n",
       "        6.07590693,  6.12932756,  5.44979055,  6.47295887,  5.63163572,\n",
       "        6.53963687,  5.55383651,  6.1772062 ,  5.64295075,  6.31049175,\n",
       "        5.20217611,  5.39615003,  5.7621548 ,  5.19003282,  5.74609706,\n",
       "        6.15190024,  5.6117965 ,  5.74796054,  6.0805992 ,  6.60509667,\n",
       "        4.59088394,  6.45342269,  6.02332313,  6.13023672,  5.85353425,\n",
       "        5.19691807,  5.46143777,  5.93061769,  5.6737987 ,  6.11724137,\n",
       "        6.45971857,  5.07146828,  6.09019497,  5.11274078,  6.12376643,\n",
       "        5.20203152,  6.19511111,  6.2267184 ,  5.72226079,  7.07880661,\n",
       "        5.95195137,  5.34573203,  6.37406529,  5.92483   ,  5.49793151,\n",
       "        6.24671839,  5.53264805,  5.77608164,  6.01661566,  5.51780971,\n",
       "        5.57631177,  6.26102652,  5.68256471,  5.97414578,  4.42141963,\n",
       "        5.59156659,  5.53949714,  6.15128911,  6.45404059,  4.91844852,\n",
       "        5.36979568,  6.97173994,  6.61976097,  5.50831453,  5.93063768,\n",
       "        6.19845149,  4.60188097,  6.57325135,  6.04085975,  5.39665208,\n",
       "        5.95926937,  6.75319816,  6.24834366,  5.14426384,  6.20601818,\n",
       "        5.84774155,  6.19300621,  6.31112909,  6.52779832,  4.73168203,\n",
       "        5.43879616,  5.64890777,  4.58398581,  5.84975518,  6.54195783,\n",
       "        5.60514963,  5.4982447 ,  5.90467569,  6.29580395,  6.43119549,\n",
       "        5.67861148,  5.95445066,  6.93504103,  6.28087285,  5.06571709,\n",
       "        5.77426263,  5.68261591,  6.27521129,  5.56291356,  5.63702965,\n",
       "        6.98961627,  6.04662077,  5.96699465,  6.09903804,  5.66377405,\n",
       "        5.41519246,  4.63086124,  6.875115  ,  6.03784965,  5.7860459 ,\n",
       "        4.7268155 ,  5.03284555,  5.05563492,  5.85675454,  5.32299358,\n",
       "        5.88038254,  5.51071433,  6.02867595,  5.2253155 ,  5.74769189,\n",
       "        5.61325623,  6.0932782 ,  5.42795706,  5.52014855,  6.14377972,\n",
       "        5.94054936,  5.25790573,  4.73779854,  4.47168508,  6.72955292,\n",
       "        6.09948591,  5.58819469,  5.50995315,  6.04090895,  5.3932089 ,\n",
       "        4.56385653,  6.33119827,  6.3707269 ,  7.01144658,  5.19213864,\n",
       "        6.2443748 ,  5.14130825,  5.97829977,  6.55739701,  5.55810309,\n",
       "        5.83385809,  5.92426614,  6.26117603,  4.97767369,  5.97540564,\n",
       "        6.89530444,  7.48839137,  5.38980094,  5.71128771,  5.21039959,\n",
       "        5.89243723,  5.8504876 ,  6.24901227,  5.57961947,  6.3931628 ,\n",
       "        5.69827034,  5.31231105,  6.0432108 ,  5.06283186,  5.74393587,\n",
       "        4.73774618,  5.53015685,  5.82335043,  5.40375075,  6.68962011,\n",
       "        5.75443666,  5.56181762,  5.87096051,  6.29326862,  5.59313118,\n",
       "        5.90808741,  5.67120507,  5.6368192 ,  5.9999294 ,  5.81511032,\n",
       "        7.22781435,  5.86866933,  6.33157818,  4.77288425,  6.55019791,\n",
       "        6.31142004,  6.33628772,  6.41537891,  6.22692004,  5.29151702,\n",
       "        5.51643392,  6.85977966,  5.57434634,  6.93783918,  5.57555613,\n",
       "        6.17390853,  6.4343287 ,  6.63898949,  5.99717082,  4.96155598,\n",
       "        5.98250671,  6.82341312,  6.31939756,  6.06645454,  5.68020206,\n",
       "        5.35654317,  6.05076963,  5.35226611,  5.62673702,  5.47876822,\n",
       "        5.77229869,  6.27133085,  4.9171338 ,  6.31779276,  6.06319528,\n",
       "        6.86623942,  6.41763104,  5.60440429,  5.56272113,  6.45330961,\n",
       "        5.2253155 ,  5.67951772,  6.46475333,  6.6508016 ,  5.41340997,\n",
       "        5.37907526,  5.48522849,  5.5500636 ,  5.79790926,  5.74800425,\n",
       "        5.12438686,  5.71055351,  5.6029499 ,  5.9456645 ,  6.28970074,\n",
       "        5.32551855,  5.66396059,  5.92361394,  5.50588271,  6.3227647 ,\n",
       "        5.96736585,  6.02426993,  5.23622926,  6.07007924,  5.79435534,\n",
       "        6.23859565,  6.37892717,  5.82696491,  5.99484086,  6.04175842,\n",
       "        5.99535572,  6.32064366,  5.89127091,  6.09753996,  5.21797791,\n",
       "        5.29141483,  5.80497433,  5.60338933,  6.13652909,  4.64651472,\n",
       "        5.2411319 ,  4.48447029,  6.32076065,  6.28228409,  5.90147089,\n",
       "        5.15579727,  5.94601685,  6.06604119,  6.26392553,  5.79286355,\n",
       "        6.46869852,  6.06989674,  5.3915224 ,  6.65907456,  6.81544695,\n",
       "        5.57961947,  5.70426792,  7.04489018,  5.92165913,  5.65293427,\n",
       "        5.99436406,  4.82370264,  6.21465656,  4.48277983,  6.08960869,\n",
       "        6.41514556,  5.89841521,  5.87138204,  6.5989932 ,  6.80338925,\n",
       "        5.98205049,  5.75393021,  6.52130924,  6.01689861,  5.86903807,\n",
       "        6.29654568,  5.72570089,  5.84732546,  5.98912877,  6.65252407,\n",
       "        5.52617894,  6.26314626,  6.5131034 ,  5.41191916,  6.01955117,\n",
       "        5.49073918,  7.17666706,  6.4327696 ,  5.45378397,  5.59425351,\n",
       "        6.03953946,  6.89858717,  5.92911362,  5.10975837,  5.77762742,\n",
       "        5.51807798,  5.77122555,  5.63492204,  6.68099288,  6.44471355,\n",
       "        5.6776664 ,  4.52053214,  6.42317161,  4.91642603,  5.56578153,\n",
       "        5.53909451,  6.4659551 ,  5.79394653,  5.75098309,  6.33896924,\n",
       "        6.78113042,  5.80534854,  5.82660273,  6.62102099,  4.51520126,\n",
       "        5.22772161,  6.14043591,  6.23151645,  5.48666227,  4.60530949,\n",
       "        5.65602594,  5.40376712,  5.89341463,  6.00123372,  5.81803652,\n",
       "        6.16077329,  5.02543606,  5.30940711,  5.24424798,  4.58605666,\n",
       "        6.90302028,  6.10322848,  5.56722021,  5.2370392 ,  6.29295365,\n",
       "        5.59704619,  5.3941909 ,  6.46855358,  5.78133935,  6.18544715,\n",
       "        6.72854488,  5.88712551,  5.61325623,  5.73406838,  5.1575897 ,\n",
       "        6.21481653,  5.87340572,  5.50668117,  6.64464268,  5.9330235 ,\n",
       "        5.77386345,  6.32399837,  5.84627815,  5.72076974,  6.6163528 ,\n",
       "        6.3091248 ,  5.08551897,  5.41561881,  5.53186909,  6.06311024,\n",
       "        5.72866702,  5.73963365,  5.44406068,  5.76052103,  4.66114768,\n",
       "        5.35667933,  5.04776095,  5.41450115,  5.7096334 ,  6.13815118,\n",
       "        5.89011821,  6.26659868,  6.1342402 ,  5.92357962, -7.86294599,\n",
       "        6.87091568,  5.66775117,  5.57676322,  5.4084776 ,  6.00043452,\n",
       "        5.7173113 ,  6.06619237,  6.53494904,  6.97780153,  5.96487095,\n",
       "        5.26442883,  5.42364541,  6.40614258,  5.5627654 ,  6.41915587,\n",
       "        5.82248143,  6.37059643,  5.61389265,  5.84141072,  6.13560422,\n",
       "        6.02962369,  6.76681048,  6.65511796,  5.893738  ,  7.07880661,\n",
       "        6.26789438,  7.20050288,  7.14477844,  5.67771013,  5.73860363,\n",
       "        6.31388653,  6.14294178,  5.78576147,  5.68119902,  6.12538379,\n",
       "        5.54771546,  5.51680022,  5.91876199,  6.07139316,  5.56943748,\n",
       "        5.9259103 ,  5.73879396,  6.0469924 ,  6.27461168,  6.04892423,\n",
       "        6.06812095,  5.6901684 ,  5.72076974,  6.31229846,  6.33489216,\n",
       "        5.07725797,  6.610532  ,  5.61658369,  5.60205956,  5.71254189,\n",
       "        5.60235693,  6.60105807,  5.36776643,  5.4379011 ,  5.90024112,\n",
       "        6.07007924,  6.39718207,  5.41172162,  6.80262146,  5.2983166 ,\n",
       "        6.1245704 ,  6.73374555,  6.58117268,  5.49254175,  5.28257315,\n",
       "        5.74034697,  6.26324356,  5.71498008,  4.88351107,  5.89678275,\n",
       "        7.25259951,  5.72674864,  5.4011795 ,  5.50588271,  6.63525077,\n",
       "        5.7050617 ,  6.9860238 ,  6.05972262,  6.01461104,  5.88388406,\n",
       "        4.96639541,  6.03541813,  5.87604408,  5.60558668,  5.16725588,\n",
       "        5.78133069,  6.76072328,  5.43239157,  5.8774967 ,  5.60312361,\n",
       "        5.34850246,  6.33628772,  4.62608176,  5.2460612 ,  7.00215568,\n",
       "        5.29872329,  5.59867428,  6.49764797,  6.08021493,  5.52577125,\n",
       "        5.40277911,  5.97545465,  5.08743211,  5.50828815,  6.31767993,\n",
       "        5.41714462,  6.63736573,  6.3529034 ,  4.84354298,  5.47990445,\n",
       "        5.37895336,  6.2923844 ,  5.26769031,  6.65672441,  6.16460725,\n",
       "        7.07877574,  6.6391835 ,  6.09730923,  6.01590244,  6.26789438,\n",
       "        6.13560422,  5.85312251,  5.28624093,  6.06211487,  5.56086314,\n",
       "        6.75270599,  6.57590616,  6.5583937 ,  6.12694523,  5.69111985,\n",
       "        5.97977418,  5.67175581,  5.4264869 ,  6.17965674,  5.54954882,\n",
       "        5.7842412 ,  6.43284809,  5.58224875,  5.53737822,  6.40483054,\n",
       "        5.47292327,  5.3384845 ,  6.80262146,  5.24523004,  6.15635735,\n",
       "        5.95486486,  5.87408047,  6.32406817,  5.58151636,  5.93172526,\n",
       "        5.78812752,  6.06544168,  5.07378946,  5.76878962,  6.2816747 ,\n",
       "        5.63169181,  5.52076602,  5.59309186,  7.1215095 ,  6.27843731,\n",
       "        6.75270599,  5.92810515,  5.822127  ,  6.29458248,  5.86140095,\n",
       "        5.45512681,  5.70699782,  5.94752469,  6.61928555,  5.99257292,\n",
       "        5.81347736,  7.12921419,  6.90672705,  5.79605954,  5.67836882,\n",
       "        5.06059464,  6.53023428,  6.62665996,  6.52608415,  5.44616746,\n",
       "        5.51354708,  5.81887292,  6.14923291,  5.30641376,  6.33451664,\n",
       "        5.29387781,  4.92166299,  5.23119483,  6.24728058,  6.16538725,\n",
       "        5.80664024,  6.11650495,  6.04662712,  6.42464578,  5.48669864,\n",
       "        5.28733674,  5.95926937,  6.45971453,  5.82195166,  5.57855357,\n",
       "        5.60796706,  6.35208264,  6.19485834,  5.23878899,  6.60875013,\n",
       "        5.77259458,  5.08212537,  6.56583576,  6.36326697,  6.77455828,\n",
       "        5.92573387,  6.10868907,  5.11162749,  6.49032951,  6.74908804,\n",
       "        5.16443934,  5.73969816,  6.63973998,  7.34146215,  5.53688249,\n",
       "        5.2383889 ,  6.0805992 ,  5.85459623,  5.28470917,  5.93559486,\n",
       "        5.86321674,  5.68768174,  5.77653661,  6.31397242,  6.07814896,\n",
       "        6.4795445 ,  5.54493749,  6.26507485,  5.77211194,  5.37094396,\n",
       "        5.39712861,  6.47139579,  5.56381506,  6.08356682,  5.48333771,\n",
       "        6.31388653,  6.63998312,  5.90433489,  7.18093847,  5.59551526,\n",
       "        6.00926351,  5.83471451,  6.138892  ,  5.4474517 ,  6.13108696,\n",
       "        6.43406649,  6.73038   ,  5.47470803,  5.02931015,  6.32779805,\n",
       "        5.59904462,  6.59279918,  5.52686625,  5.84532048,  5.34503732,\n",
       "        5.66998719,  5.92505208,  6.16617704,  4.7084111 ,  5.47401615,\n",
       "        6.57056748,  5.91337492,  5.7767444 ,  5.24687138,  6.23493465,\n",
       "        5.60374234,  6.21384842,  5.13522857,  6.8802824 ,  5.89253844,\n",
       "        5.53379606,  5.94695247,  5.59454688,  6.5661603 ,  5.70145941,\n",
       "        5.95685356,  6.15829062,  5.14054795,  5.31811242,  6.81837034,\n",
       "        6.65404229,  5.18847922,  6.422288  ,  6.26378102,  4.72788585,\n",
       "        5.59454688,  8.02857456,  5.40699001,  5.46238454,  5.73355154,\n",
       "        6.31049175,  5.20770235,  6.41604188,  6.06989674,  6.60969124,\n",
       "        5.73409125,  6.072207  ,  5.42742821,  5.92838356,  5.84375208,\n",
       "        6.80519226,  6.22551132,  5.59991088,  6.24225268,  6.34575741,\n",
       "        5.61164163,  6.13581817,  5.800319  ,  5.86789008,  5.98022742,\n",
       "        5.99398358,  6.20155963,  6.41839715,  6.08343233,  5.98533214,\n",
       "        5.70906678,  5.82914466,  6.38442099,  5.24175746,  6.13364473,\n",
       "        5.05958836,  5.56381506,  5.15311931,  6.50369046,  6.30973377,\n",
       "        6.73446996,  6.27581559,  6.09735331,  6.28337306,  5.90862125,\n",
       "        5.27706698,  6.30812932,  7.05081068,  5.13522857,  5.49738349,\n",
       "        5.6021839 ,  6.60795336,  6.24195913,  5.54555419,  6.50146547,\n",
       "        5.67066986,  6.13504379,  6.61454287,  6.57593572,  6.05506911,\n",
       "        6.22527458,  5.99259012,  5.60295502,  5.44513161,  6.17147071,\n",
       "        5.29488694,  6.20646049,  6.34019818,  5.83515072,  5.72866702,\n",
       "        6.82522471,  6.20264847,  5.81158104,  5.29984024,  6.11134398,\n",
       "        5.3232589 ,  5.90433489,  5.69538915,  5.69853784,  4.53116823,\n",
       "        5.93063768,  6.07803978,  6.42733182,  6.26672649,  5.96736585,\n",
       "        5.46740816,  5.33681285,  5.86241896,  5.77396873,  6.46092977,\n",
       "        5.87604408,  5.20291259,  6.38309832,  5.8103438 ,  6.11786359,\n",
       "        5.4653214 ,  5.64411583,  6.39929593,  7.79969957,  6.64371647,\n",
       "        5.80847078,  7.09783641,  5.87712128,  5.50831453,  5.5027222 ,\n",
       "        6.52744556,  5.69288366,  6.32879355,  5.14661069,  5.43741152,\n",
       "        6.44208417,  5.25986703,  5.48333771,  6.28337306,  5.98550011,\n",
       "        5.50440209,  7.37676818,  5.78654086,  5.82754073,  5.86271439,\n",
       "        5.4561393 ,  5.27967582,  5.56437526,  6.11933195,  5.59647825,\n",
       "        5.5499751 ,  5.32993493,  5.82822516,  5.97574809,  6.10987167,\n",
       "        6.71230113,  6.6529422 ,  6.19663774,  5.43757561,  6.61691067,\n",
       "        7.02280075,  5.30682781,  6.68299769,  4.33133202,  5.36990753,\n",
       "        5.67352597,  6.14024107,  5.82696491,  6.48506448,  3.78210357,\n",
       "        6.19116349,  5.67619303,  5.38667543,  5.52518815,  6.21888247,\n",
       "        5.81073186,  6.24035208,  5.67297087,  5.52277562,  5.85764514])"
      ]
     },
     "execution_count": 76,
     "metadata": {},
     "output_type": "execute_result"
    }
   ],
   "source": [
    "y_pred"
   ]
  },
  {
   "cell_type": "code",
   "execution_count": 77,
   "id": "9ef41ce6",
   "metadata": {},
   "outputs": [
    {
     "data": {
      "text/plain": [
       "0.37364943317617505"
      ]
     },
     "execution_count": 77,
     "metadata": {},
     "output_type": "execute_result"
    }
   ],
   "source": [
    "model.score(X_train,y_train)"
   ]
  },
  {
   "cell_type": "code",
   "execution_count": 78,
   "id": "2fc228ad",
   "metadata": {},
   "outputs": [
    {
     "data": {
      "text/plain": [
       "0.2002678113688855"
      ]
     },
     "execution_count": 78,
     "metadata": {},
     "output_type": "execute_result"
    }
   ],
   "source": [
    "model.score(X_test,y_test)"
   ]
  },
  {
   "cell_type": "code",
   "execution_count": 79,
   "id": "329a3c06",
   "metadata": {},
   "outputs": [
    {
     "data": {
      "text/plain": [
       "13580.528228087996"
      ]
     },
     "execution_count": 79,
     "metadata": {},
     "output_type": "execute_result"
    }
   ],
   "source": [
    "model.intercept_"
   ]
  },
  {
   "cell_type": "code",
   "execution_count": 80,
   "id": "448f8d19",
   "metadata": {},
   "outputs": [
    {
     "data": {
      "text/plain": [
       "array([ 3.25994294e+01,  1.41933960e+02,  2.38463702e+02,  5.55019546e-02,\n",
       "        3.14343414e+02, -2.02443544e+00, -1.63326224e+00, -2.89427666e+04,\n",
       "        6.31700521e+02,  1.03071969e+02, -3.41951703e+01, -2.26940597e-02,\n",
       "        1.34582991e-02,  3.05731490e-01,  4.48680183e-03, -3.28291528e-01,\n",
       "        1.21966984e-03, -9.78440419e-04, -3.36153277e+01,  5.48052125e-01,\n",
       "        2.18823542e-01, -5.88974053e-02,  1.00587768e+00,  1.09914922e+00,\n",
       "        1.75961566e-02, -7.65255436e+00,  4.69344939e-03,  4.91523045e-03,\n",
       "       -1.58746806e+02,  2.93238449e+00,  2.63296387e-01,  2.91336227e-01,\n",
       "       -1.09760203e+00,  6.96986343e-02,  4.95604554e+00,  7.08423400e-03,\n",
       "       -1.42879350e-03, -2.51633901e+02,  3.58507694e+00,  1.59283561e-01,\n",
       "       -2.00646717e-01, -4.66009505e-03, -1.64587947e-01, -1.12802792e-03,\n",
       "       -3.58746061e-04, -1.75966034e-01,  1.10175431e-01, -4.16998967e-02,\n",
       "       -3.68155771e-03,  1.53873776e+01, -3.20058796e-02, -2.51130849e-03,\n",
       "       -2.65062768e+02, -5.19309918e+00, -1.73347198e+01, -2.44768044e+00,\n",
       "       -1.28766268e-04, -9.80590587e-05,  1.99855446e+00,  5.79487393e-03,\n",
       "        3.10530092e-02,  3.03827961e-03, -8.49455898e-06,  1.66313874e+00,\n",
       "       -7.75164614e-03, -1.26614246e-02,  2.32046166e-03,  1.53953635e+04,\n",
       "       -6.48956519e+02, -1.07413432e+02,  3.60455803e+01,  2.34817652e+00,\n",
       "        2.22084270e+00, -6.96435345e-01,  1.82894825e-01, -2.80045949e-01,\n",
       "        4.46382798e-02])"
      ]
     },
     "execution_count": 80,
     "metadata": {},
     "output_type": "execute_result"
    }
   ],
   "source": [
    "model.coef_"
   ]
  },
  {
   "cell_type": "code",
   "execution_count": 81,
   "id": "1b15785e",
   "metadata": {},
   "outputs": [],
   "source": [
    "mse=mean_squared_error(y_test,y_pred)"
   ]
  },
  {
   "cell_type": "code",
   "execution_count": 82,
   "id": "e1a982a8",
   "metadata": {},
   "outputs": [
    {
     "data": {
      "text/plain": [
       "0.6193710962438334"
      ]
     },
     "execution_count": 82,
     "metadata": {},
     "output_type": "execute_result"
    }
   ],
   "source": [
    "mse"
   ]
  },
  {
   "cell_type": "code",
   "execution_count": 83,
   "id": "7f8cb30e",
   "metadata": {},
   "outputs": [
    {
     "data": {
      "text/plain": [
       "0.7870013317929223"
      ]
     },
     "execution_count": 83,
     "metadata": {},
     "output_type": "execute_result"
    }
   ],
   "source": [
    "rmse=np.sqrt(mse)\n",
    "rmse"
   ]
  },
  {
   "cell_type": "code",
   "execution_count": 84,
   "id": "c4344f58",
   "metadata": {},
   "outputs": [
    {
     "data": {
      "text/plain": [
       "0.5669837734350188"
      ]
     },
     "execution_count": 84,
     "metadata": {},
     "output_type": "execute_result"
    }
   ],
   "source": [
    "mean_above_error=mean_absolute_error(y_test,y_pred)\n",
    "mean_above_error"
   ]
  },
  {
   "cell_type": "code",
   "execution_count": 85,
   "id": "1c6308b9",
   "metadata": {},
   "outputs": [],
   "source": [
    "from sklearn.metrics import r2_score"
   ]
  },
  {
   "cell_type": "code",
   "execution_count": 86,
   "id": "6d5c4dd6",
   "metadata": {},
   "outputs": [
    {
     "data": {
      "text/plain": [
       "0.2002678113688855"
      ]
     },
     "execution_count": 86,
     "metadata": {},
     "output_type": "execute_result"
    }
   ],
   "source": [
    "score=r2_score(y_test,y_pred)\n",
    "score"
   ]
  },
  {
   "cell_type": "markdown",
   "id": "20ec670d",
   "metadata": {},
   "source": [
    "### Linear Regression implementation for checking accuracy"
   ]
  },
  {
   "cell_type": "code",
   "execution_count": 31,
   "id": "7d722dfd",
   "metadata": {},
   "outputs": [],
   "source": [
    "linear_model=LinearRegression()"
   ]
  },
  {
   "cell_type": "code",
   "execution_count": 46,
   "id": "27dbe62b",
   "metadata": {},
   "outputs": [
    {
     "data": {
      "text/html": [
       "<div>\n",
       "<style scoped>\n",
       "    .dataframe tbody tr th:only-of-type {\n",
       "        vertical-align: middle;\n",
       "    }\n",
       "\n",
       "    .dataframe tbody tr th {\n",
       "        vertical-align: top;\n",
       "    }\n",
       "\n",
       "    .dataframe thead th {\n",
       "        text-align: right;\n",
       "    }\n",
       "</style>\n",
       "<table border=\"1\" class=\"dataframe\">\n",
       "  <thead>\n",
       "    <tr style=\"text-align: right;\">\n",
       "      <th></th>\n",
       "      <th>fixed acidity</th>\n",
       "      <th>volatile acidity</th>\n",
       "      <th>citric acid</th>\n",
       "      <th>residual sugar</th>\n",
       "      <th>chlorides</th>\n",
       "      <th>free sulfur dioxide</th>\n",
       "      <th>total sulfur dioxide</th>\n",
       "      <th>density</th>\n",
       "      <th>pH</th>\n",
       "      <th>sulphates</th>\n",
       "      <th>alcohol</th>\n",
       "    </tr>\n",
       "  </thead>\n",
       "  <tbody>\n",
       "    <tr>\n",
       "      <th>0</th>\n",
       "      <td>7.0</td>\n",
       "      <td>0.27</td>\n",
       "      <td>0.36</td>\n",
       "      <td>20.7</td>\n",
       "      <td>0.045</td>\n",
       "      <td>45.0</td>\n",
       "      <td>170.0</td>\n",
       "      <td>1.00100</td>\n",
       "      <td>3.00</td>\n",
       "      <td>0.45</td>\n",
       "      <td>8.8</td>\n",
       "    </tr>\n",
       "    <tr>\n",
       "      <th>1</th>\n",
       "      <td>6.3</td>\n",
       "      <td>0.30</td>\n",
       "      <td>0.34</td>\n",
       "      <td>1.6</td>\n",
       "      <td>0.049</td>\n",
       "      <td>14.0</td>\n",
       "      <td>132.0</td>\n",
       "      <td>0.99400</td>\n",
       "      <td>3.30</td>\n",
       "      <td>0.49</td>\n",
       "      <td>9.5</td>\n",
       "    </tr>\n",
       "    <tr>\n",
       "      <th>2</th>\n",
       "      <td>8.1</td>\n",
       "      <td>0.28</td>\n",
       "      <td>0.40</td>\n",
       "      <td>6.9</td>\n",
       "      <td>0.050</td>\n",
       "      <td>30.0</td>\n",
       "      <td>97.0</td>\n",
       "      <td>0.99510</td>\n",
       "      <td>3.26</td>\n",
       "      <td>0.44</td>\n",
       "      <td>10.1</td>\n",
       "    </tr>\n",
       "    <tr>\n",
       "      <th>3</th>\n",
       "      <td>7.2</td>\n",
       "      <td>0.23</td>\n",
       "      <td>0.32</td>\n",
       "      <td>8.5</td>\n",
       "      <td>0.058</td>\n",
       "      <td>47.0</td>\n",
       "      <td>186.0</td>\n",
       "      <td>0.99560</td>\n",
       "      <td>3.19</td>\n",
       "      <td>0.40</td>\n",
       "      <td>9.9</td>\n",
       "    </tr>\n",
       "    <tr>\n",
       "      <th>4</th>\n",
       "      <td>7.2</td>\n",
       "      <td>0.23</td>\n",
       "      <td>0.32</td>\n",
       "      <td>8.5</td>\n",
       "      <td>0.058</td>\n",
       "      <td>47.0</td>\n",
       "      <td>186.0</td>\n",
       "      <td>0.99560</td>\n",
       "      <td>3.19</td>\n",
       "      <td>0.40</td>\n",
       "      <td>9.9</td>\n",
       "    </tr>\n",
       "    <tr>\n",
       "      <th>...</th>\n",
       "      <td>...</td>\n",
       "      <td>...</td>\n",
       "      <td>...</td>\n",
       "      <td>...</td>\n",
       "      <td>...</td>\n",
       "      <td>...</td>\n",
       "      <td>...</td>\n",
       "      <td>...</td>\n",
       "      <td>...</td>\n",
       "      <td>...</td>\n",
       "      <td>...</td>\n",
       "    </tr>\n",
       "    <tr>\n",
       "      <th>4893</th>\n",
       "      <td>6.2</td>\n",
       "      <td>0.21</td>\n",
       "      <td>0.29</td>\n",
       "      <td>1.6</td>\n",
       "      <td>0.039</td>\n",
       "      <td>24.0</td>\n",
       "      <td>92.0</td>\n",
       "      <td>0.99114</td>\n",
       "      <td>3.27</td>\n",
       "      <td>0.50</td>\n",
       "      <td>11.2</td>\n",
       "    </tr>\n",
       "    <tr>\n",
       "      <th>4894</th>\n",
       "      <td>6.6</td>\n",
       "      <td>0.32</td>\n",
       "      <td>0.36</td>\n",
       "      <td>8.0</td>\n",
       "      <td>0.047</td>\n",
       "      <td>57.0</td>\n",
       "      <td>168.0</td>\n",
       "      <td>0.99490</td>\n",
       "      <td>3.15</td>\n",
       "      <td>0.46</td>\n",
       "      <td>9.6</td>\n",
       "    </tr>\n",
       "    <tr>\n",
       "      <th>4895</th>\n",
       "      <td>6.5</td>\n",
       "      <td>0.24</td>\n",
       "      <td>0.19</td>\n",
       "      <td>1.2</td>\n",
       "      <td>0.041</td>\n",
       "      <td>30.0</td>\n",
       "      <td>111.0</td>\n",
       "      <td>0.99254</td>\n",
       "      <td>2.99</td>\n",
       "      <td>0.46</td>\n",
       "      <td>9.4</td>\n",
       "    </tr>\n",
       "    <tr>\n",
       "      <th>4896</th>\n",
       "      <td>5.5</td>\n",
       "      <td>0.29</td>\n",
       "      <td>0.30</td>\n",
       "      <td>1.1</td>\n",
       "      <td>0.022</td>\n",
       "      <td>20.0</td>\n",
       "      <td>110.0</td>\n",
       "      <td>0.98869</td>\n",
       "      <td>3.34</td>\n",
       "      <td>0.38</td>\n",
       "      <td>12.8</td>\n",
       "    </tr>\n",
       "    <tr>\n",
       "      <th>4897</th>\n",
       "      <td>6.0</td>\n",
       "      <td>0.21</td>\n",
       "      <td>0.38</td>\n",
       "      <td>0.8</td>\n",
       "      <td>0.020</td>\n",
       "      <td>22.0</td>\n",
       "      <td>98.0</td>\n",
       "      <td>0.98941</td>\n",
       "      <td>3.26</td>\n",
       "      <td>0.32</td>\n",
       "      <td>11.8</td>\n",
       "    </tr>\n",
       "  </tbody>\n",
       "</table>\n",
       "<p>4898 rows × 11 columns</p>\n",
       "</div>"
      ],
      "text/plain": [
       "      fixed acidity  volatile acidity  citric acid  residual sugar  chlorides  \\\n",
       "0               7.0              0.27         0.36            20.7      0.045   \n",
       "1               6.3              0.30         0.34             1.6      0.049   \n",
       "2               8.1              0.28         0.40             6.9      0.050   \n",
       "3               7.2              0.23         0.32             8.5      0.058   \n",
       "4               7.2              0.23         0.32             8.5      0.058   \n",
       "...             ...               ...          ...             ...        ...   \n",
       "4893            6.2              0.21         0.29             1.6      0.039   \n",
       "4894            6.6              0.32         0.36             8.0      0.047   \n",
       "4895            6.5              0.24         0.19             1.2      0.041   \n",
       "4896            5.5              0.29         0.30             1.1      0.022   \n",
       "4897            6.0              0.21         0.38             0.8      0.020   \n",
       "\n",
       "      free sulfur dioxide  total sulfur dioxide  density    pH  sulphates  \\\n",
       "0                    45.0                 170.0  1.00100  3.00       0.45   \n",
       "1                    14.0                 132.0  0.99400  3.30       0.49   \n",
       "2                    30.0                  97.0  0.99510  3.26       0.44   \n",
       "3                    47.0                 186.0  0.99560  3.19       0.40   \n",
       "4                    47.0                 186.0  0.99560  3.19       0.40   \n",
       "...                   ...                   ...      ...   ...        ...   \n",
       "4893                 24.0                  92.0  0.99114  3.27       0.50   \n",
       "4894                 57.0                 168.0  0.99490  3.15       0.46   \n",
       "4895                 30.0                 111.0  0.99254  2.99       0.46   \n",
       "4896                 20.0                 110.0  0.98869  3.34       0.38   \n",
       "4897                 22.0                  98.0  0.98941  3.26       0.32   \n",
       "\n",
       "      alcohol  \n",
       "0         8.8  \n",
       "1         9.5  \n",
       "2        10.1  \n",
       "3         9.9  \n",
       "4         9.9  \n",
       "...       ...  \n",
       "4893     11.2  \n",
       "4894      9.6  \n",
       "4895      9.4  \n",
       "4896     12.8  \n",
       "4897     11.8  \n",
       "\n",
       "[4898 rows x 11 columns]"
      ]
     },
     "execution_count": 46,
     "metadata": {},
     "output_type": "execute_result"
    }
   ],
   "source": [
    "X=df.drop(\"quality\",axis=1)\n",
    "X"
   ]
  },
  {
   "cell_type": "code",
   "execution_count": 47,
   "id": "4b5eb422",
   "metadata": {},
   "outputs": [
    {
     "data": {
      "text/plain": [
       "0       6\n",
       "1       6\n",
       "2       6\n",
       "3       6\n",
       "4       6\n",
       "       ..\n",
       "4893    6\n",
       "4894    5\n",
       "4895    6\n",
       "4896    7\n",
       "4897    6\n",
       "Name: quality, Length: 4898, dtype: int64"
      ]
     },
     "execution_count": 47,
     "metadata": {},
     "output_type": "execute_result"
    }
   ],
   "source": [
    "y=df[\"quality\"]\n",
    "y"
   ]
  },
  {
   "cell_type": "code",
   "execution_count": 48,
   "id": "5fb681f0",
   "metadata": {},
   "outputs": [],
   "source": [
    "X_train, X_test, y_train, y_test = train_test_split(X, y, test_size=0.2, random_state=42)"
   ]
  },
  {
   "cell_type": "code",
   "execution_count": 49,
   "id": "5bd728e5",
   "metadata": {},
   "outputs": [
    {
     "data": {
      "text/html": [
       "<style>#sk-container-id-3 {color: black;background-color: white;}#sk-container-id-3 pre{padding: 0;}#sk-container-id-3 div.sk-toggleable {background-color: white;}#sk-container-id-3 label.sk-toggleable__label {cursor: pointer;display: block;width: 100%;margin-bottom: 0;padding: 0.3em;box-sizing: border-box;text-align: center;}#sk-container-id-3 label.sk-toggleable__label-arrow:before {content: \"▸\";float: left;margin-right: 0.25em;color: #696969;}#sk-container-id-3 label.sk-toggleable__label-arrow:hover:before {color: black;}#sk-container-id-3 div.sk-estimator:hover label.sk-toggleable__label-arrow:before {color: black;}#sk-container-id-3 div.sk-toggleable__content {max-height: 0;max-width: 0;overflow: hidden;text-align: left;background-color: #f0f8ff;}#sk-container-id-3 div.sk-toggleable__content pre {margin: 0.2em;color: black;border-radius: 0.25em;background-color: #f0f8ff;}#sk-container-id-3 input.sk-toggleable__control:checked~div.sk-toggleable__content {max-height: 200px;max-width: 100%;overflow: auto;}#sk-container-id-3 input.sk-toggleable__control:checked~label.sk-toggleable__label-arrow:before {content: \"▾\";}#sk-container-id-3 div.sk-estimator input.sk-toggleable__control:checked~label.sk-toggleable__label {background-color: #d4ebff;}#sk-container-id-3 div.sk-label input.sk-toggleable__control:checked~label.sk-toggleable__label {background-color: #d4ebff;}#sk-container-id-3 input.sk-hidden--visually {border: 0;clip: rect(1px 1px 1px 1px);clip: rect(1px, 1px, 1px, 1px);height: 1px;margin: -1px;overflow: hidden;padding: 0;position: absolute;width: 1px;}#sk-container-id-3 div.sk-estimator {font-family: monospace;background-color: #f0f8ff;border: 1px dotted black;border-radius: 0.25em;box-sizing: border-box;margin-bottom: 0.5em;}#sk-container-id-3 div.sk-estimator:hover {background-color: #d4ebff;}#sk-container-id-3 div.sk-parallel-item::after {content: \"\";width: 100%;border-bottom: 1px solid gray;flex-grow: 1;}#sk-container-id-3 div.sk-label:hover label.sk-toggleable__label {background-color: #d4ebff;}#sk-container-id-3 div.sk-serial::before {content: \"\";position: absolute;border-left: 1px solid gray;box-sizing: border-box;top: 0;bottom: 0;left: 50%;z-index: 0;}#sk-container-id-3 div.sk-serial {display: flex;flex-direction: column;align-items: center;background-color: white;padding-right: 0.2em;padding-left: 0.2em;position: relative;}#sk-container-id-3 div.sk-item {position: relative;z-index: 1;}#sk-container-id-3 div.sk-parallel {display: flex;align-items: stretch;justify-content: center;background-color: white;position: relative;}#sk-container-id-3 div.sk-item::before, #sk-container-id-3 div.sk-parallel-item::before {content: \"\";position: absolute;border-left: 1px solid gray;box-sizing: border-box;top: 0;bottom: 0;left: 50%;z-index: -1;}#sk-container-id-3 div.sk-parallel-item {display: flex;flex-direction: column;z-index: 1;position: relative;background-color: white;}#sk-container-id-3 div.sk-parallel-item:first-child::after {align-self: flex-end;width: 50%;}#sk-container-id-3 div.sk-parallel-item:last-child::after {align-self: flex-start;width: 50%;}#sk-container-id-3 div.sk-parallel-item:only-child::after {width: 0;}#sk-container-id-3 div.sk-dashed-wrapped {border: 1px dashed gray;margin: 0 0.4em 0.5em 0.4em;box-sizing: border-box;padding-bottom: 0.4em;background-color: white;}#sk-container-id-3 div.sk-label label {font-family: monospace;font-weight: bold;display: inline-block;line-height: 1.2em;}#sk-container-id-3 div.sk-label-container {text-align: center;}#sk-container-id-3 div.sk-container {/* jupyter's `normalize.less` sets `[hidden] { display: none; }` but bootstrap.min.css set `[hidden] { display: none !important; }` so we also need the `!important` here to be able to override the default hidden behavior on the sphinx rendered scikit-learn.org. See: https://github.com/scikit-learn/scikit-learn/issues/21755 */display: inline-block !important;position: relative;}#sk-container-id-3 div.sk-text-repr-fallback {display: none;}</style><div id=\"sk-container-id-3\" class=\"sk-top-container\"><div class=\"sk-text-repr-fallback\"><pre>LinearRegression()</pre><b>In a Jupyter environment, please rerun this cell to show the HTML representation or trust the notebook. <br />On GitHub, the HTML representation is unable to render, please try loading this page with nbviewer.org.</b></div><div class=\"sk-container\" hidden><div class=\"sk-item\"><div class=\"sk-estimator sk-toggleable\"><input class=\"sk-toggleable__control sk-hidden--visually\" id=\"sk-estimator-id-3\" type=\"checkbox\" checked><label for=\"sk-estimator-id-3\" class=\"sk-toggleable__label sk-toggleable__label-arrow\">LinearRegression</label><div class=\"sk-toggleable__content\"><pre>LinearRegression()</pre></div></div></div></div></div>"
      ],
      "text/plain": [
       "LinearRegression()"
      ]
     },
     "execution_count": 49,
     "metadata": {},
     "output_type": "execute_result"
    }
   ],
   "source": [
    "linear_model.fit(X_train,y_train)"
   ]
  },
  {
   "cell_type": "code",
   "execution_count": 50,
   "id": "06de96bc",
   "metadata": {},
   "outputs": [
    {
     "data": {
      "text/plain": [
       "array([6.3718293 , 6.39819558, 6.41184115, 5.8298407 , 6.43750933,\n",
       "       6.36666274, 5.23761241, 5.48030317, 6.08525555, 5.32939063,\n",
       "       6.48840979, 4.75062408, 6.64482109, 5.46899736, 7.2836232 ,\n",
       "       5.64425647, 6.74657074, 5.81601279, 6.1499309 , 5.33837093,\n",
       "       5.76352998, 5.99161371, 5.67524151, 5.8464263 , 6.17011674,\n",
       "       5.56069533, 5.32646626, 6.24915834, 5.38643461, 5.49761952,\n",
       "       5.41635994, 5.89138707, 5.67302737, 5.30932517, 5.34896505,\n",
       "       6.40888157, 6.53803717, 5.3180697 , 5.31512804, 5.66669648,\n",
       "       5.96832992, 5.5282457 , 5.95849306, 5.58835697, 5.3409576 ,\n",
       "       5.90541044, 5.18072936, 5.37841758, 5.67576485, 5.7945028 ,\n",
       "       4.85709232, 5.84913233, 5.72988937, 6.23571885, 6.01691471,\n",
       "       5.80877638, 5.82842751, 5.85000456, 5.92851381, 5.63408943,\n",
       "       5.97316492, 6.34292652, 5.1976136 , 6.70693147, 6.16580078,\n",
       "       6.08953322, 5.89970616, 5.65046742, 6.0500044 , 5.28675595,\n",
       "       5.28011815, 6.06841673, 4.66973539, 4.45514111, 5.88903629,\n",
       "       6.46984012, 5.90428513, 5.74806218, 6.85635156, 6.10698802,\n",
       "       5.10052684, 5.32757968, 6.19226023, 5.73052594, 6.52529136,\n",
       "       6.37563379, 5.59724743, 5.70844703, 5.84403744, 6.16863007,\n",
       "       6.25133444, 4.8864582 , 5.48921607, 6.61254598, 6.66803713,\n",
       "       6.44386271, 6.67182571, 5.93094629, 5.38712516, 6.67825702,\n",
       "       5.60041477, 6.06181171, 6.39595621, 5.17401865, 6.01422047,\n",
       "       6.19323027, 5.63408943, 6.13165918, 5.81601279, 6.15038008,\n",
       "       6.08310883, 5.90537848, 6.58251189, 5.63029459, 5.42820805,\n",
       "       6.68337002, 6.63655308, 6.31789029, 5.71563901, 5.55337871,\n",
       "       5.49902352, 6.87681846, 5.66576797, 5.49794237, 6.20495236,\n",
       "       5.96828173, 6.7089848 , 5.82284981, 6.14536798, 5.51870353,\n",
       "       6.18835264, 6.13567543, 5.70899853, 6.17376659, 5.4354062 ,\n",
       "       6.29481677, 5.83385919, 5.27637935, 6.5522683 , 5.64075305,\n",
       "       6.51128119, 5.63589063, 5.9805405 , 5.56885944, 6.23318136,\n",
       "       5.66595403, 5.27621978, 5.69392565, 5.51405485, 5.57680297,\n",
       "       6.23907286, 5.53131969, 5.85828799, 6.25521463, 6.12526256,\n",
       "       5.16731543, 6.4733234 , 6.09009297, 6.18116132, 5.45592985,\n",
       "       5.82033165, 5.51167447, 6.32402759, 5.50604904, 6.37946292,\n",
       "       6.40679263, 5.13444009, 6.05982207, 5.5425548 , 6.09534172,\n",
       "       5.11763996, 6.20649821, 6.23096129, 5.44841771, 6.82073684,\n",
       "       6.049092  , 5.49715437, 6.2336828 , 5.81415506, 5.52762049,\n",
       "       6.48774163, 5.58883703, 5.69228474, 6.08981858, 5.3918305 ,\n",
       "       5.94929091, 6.33840142, 5.36095888, 6.01663926, 5.20104828,\n",
       "       5.50441633, 6.00106189, 6.10957702, 6.62948979, 4.98598209,\n",
       "       5.67210684, 6.84742219, 6.50738702, 5.27075451, 6.09778333,\n",
       "       6.11038912, 4.70867993, 6.56931936, 5.87332452, 5.34326982,\n",
       "       5.84031947, 6.70096627, 6.09687386, 5.9801553 , 6.12241348,\n",
       "       5.59175968, 6.2413228 , 6.16870575, 6.37250416, 4.5496358 ,\n",
       "       5.51135665, 5.36522054, 5.10842265, 6.34292652, 6.6337709 ,\n",
       "       5.64794159, 6.07335112, 5.74019553, 6.34747105, 6.4567672 ,\n",
       "       5.7131682 , 5.93631927, 6.53754244, 6.34799433, 5.39802539,\n",
       "       5.5872688 , 5.5622846 , 6.08677443, 5.49888328, 5.50877981,\n",
       "       7.04280137, 6.09798132, 5.62070123, 5.92536107, 5.65542469,\n",
       "       5.76914958, 4.95079957, 6.61502182, 6.06402108, 6.01820978,\n",
       "       5.45266612, 5.73309884, 5.16579914, 6.05426396, 5.46005014,\n",
       "       6.37538313, 5.91143145, 5.65819406, 5.20792052, 5.89355358,\n",
       "       5.37833088, 6.09534868, 5.74943363, 6.21529013, 6.12464708,\n",
       "       5.94039799, 5.35187287, 5.26895395, 4.59430868, 6.29275379,\n",
       "       6.146814  , 5.5237    , 5.64511647, 6.09945556, 5.5561526 ,\n",
       "       5.75623483, 6.03270436, 6.42800125, 6.76152401, 5.15837699,\n",
       "       6.5851774 , 5.50434999, 5.69715298, 6.47054703, 5.65846987,\n",
       "       6.06733465, 5.88903629, 6.43256428, 4.90873331, 5.46342958,\n",
       "       6.53170839, 7.04283626, 5.40970172, 5.783301  , 5.41625796,\n",
       "       5.92911636, 5.75906054, 6.31550312, 5.25976745, 6.2976715 ,\n",
       "       5.76330744, 5.79246339, 6.12590163, 5.77811139, 5.54758359,\n",
       "       4.85709232, 5.43479413, 6.22197843, 5.77688329, 6.72511272,\n",
       "       5.73427867, 5.48333783, 5.60604617, 6.45452983, 5.93090231,\n",
       "       5.99546105, 5.51654054, 5.65252109, 5.69528399, 5.87181445,\n",
       "       6.4465307 , 5.84770084, 6.52124655, 5.0817126 , 6.61931596,\n",
       "       6.39106849, 6.47486686, 6.33008388, 6.333485  , 5.71292419,\n",
       "       5.4717451 , 6.74465864, 5.8340866 , 6.94814094, 5.68563546,\n",
       "       6.32314272, 6.457307  , 6.5758995 , 6.12256246, 5.14677448,\n",
       "       5.82850761, 6.72329743, 6.08829027, 6.15480527, 5.41614395,\n",
       "       5.58403809, 5.93252343, 5.3454176 , 5.98277515, 5.49135172,\n",
       "       5.7957528 , 6.51066201, 5.37695096, 5.65575493, 5.66235153,\n",
       "       6.6620995 , 6.36392324, 6.01422047, 5.66870844, 6.47698718,\n",
       "       5.20792052, 5.68160173, 6.28885384, 6.5518291 , 5.86804634,\n",
       "       5.27232978, 5.69096522, 5.48047448, 5.69919733, 5.99671863,\n",
       "       5.35792511, 5.82362747, 5.64152086, 5.80161232, 6.38388952,\n",
       "       5.26149672, 5.67973332, 5.94096266, 5.84061289, 6.42308775,\n",
       "       6.03530163, 6.32403081, 5.26603774, 5.48425778, 5.92086927,\n",
       "       6.24693428, 6.08986787, 5.64680666, 6.27126514, 5.8650555 ,\n",
       "       6.22123722, 6.27179551, 5.69512124, 6.11059895, 5.29111751,\n",
       "       5.16832513, 6.14280634, 5.50695895, 5.87787029, 5.26677806,\n",
       "       5.90940094, 4.84179795, 6.27283944, 6.29425314, 6.22811867,\n",
       "       5.28291279, 6.2942734 , 5.92752728, 6.31601606, 5.88663212,\n",
       "       6.07013128, 6.19814384, 5.33122571, 6.34017651, 6.99660933,\n",
       "       5.25976745, 5.7545451 , 6.83429386, 5.73685677, 5.9242408 ,\n",
       "       6.1584553 , 5.08559262, 6.01383907, 4.4708453 , 6.24138793,\n",
       "       6.55163635, 5.74114147, 5.96943181, 6.37560243, 6.62825233,\n",
       "       5.83445378, 5.98196422, 6.39759445, 5.59164635, 6.25823394,\n",
       "       6.26841041, 5.72973946, 5.76443058, 6.27896082, 6.43681036,\n",
       "       5.61280313, 6.07143479, 6.19567199, 5.25316707, 6.24617351,\n",
       "       5.63097491, 6.72053881, 6.46984012, 5.49192252, 5.62758056,\n",
       "       6.25170957, 6.56398564, 5.85480964, 5.17683906, 5.93452468,\n",
       "       5.38017189, 5.50906131, 5.71895196, 6.55984444, 6.37648264,\n",
       "       5.73924834, 5.17001757, 6.44103203, 4.96105886, 5.47148274,\n",
       "       5.31492137, 6.52334917, 5.92991664, 5.86600399, 5.83468764,\n",
       "       6.72383814, 5.81604533, 6.06155882, 6.50006757, 5.33615793,\n",
       "       5.10120999, 6.3155186 , 6.22126221, 5.21673099, 4.78874414,\n",
       "       5.73003475, 5.41544181, 5.72591161, 5.85475777, 5.26993465,\n",
       "       5.97979036, 5.02274014, 5.21728536, 5.31585459, 5.17200498,\n",
       "       6.60627149, 6.00543598, 5.70753084, 5.4129067 , 5.3909193 ,\n",
       "       5.84088985, 5.22282629, 6.32385366, 5.28288914, 6.34335983,\n",
       "       6.69482449, 5.83343664, 5.37833088, 5.80813187, 5.3893178 ,\n",
       "       6.15704024, 5.8554185 , 5.67704604, 6.38060518, 5.86643082,\n",
       "       5.72889579, 6.2624056 , 5.7502207 , 5.61450267, 6.36586968,\n",
       "       6.16556106, 5.21033352, 5.52413786, 5.68826617, 5.8577917 ,\n",
       "       5.93372739, 5.65615501, 5.3003489 , 6.13020326, 5.04752725,\n",
       "       5.48235988, 5.18260998, 5.39420932, 5.33097796, 5.98570076,\n",
       "       5.89138707, 6.11000493, 6.09830281, 5.72901066, 7.21381028,\n",
       "       6.69457803, 5.71217291, 5.59724743, 5.57081594, 5.9130856 ,\n",
       "       5.51929909, 6.23847394, 7.01920013, 5.86302047, 5.91169726,\n",
       "       5.20504895, 5.26917602, 6.32140218, 5.59915715, 6.21153152,\n",
       "       5.80682387, 6.02499674, 5.3093897 , 5.8184911 , 6.00150636,\n",
       "       6.09830926, 6.37996018, 6.27016718, 5.72159649, 6.82073684,\n",
       "       5.55708401, 6.60846841, 6.75518948, 5.63349842, 5.70799747,\n",
       "       5.48494976, 6.0784405 , 5.67026268, 5.6870386 , 6.21265817,\n",
       "       5.48539395, 5.62561437, 6.03309036, 6.35684769, 5.6300047 ,\n",
       "       6.09035042, 5.92036386, 5.96995945, 6.15304022, 6.15816933,\n",
       "       5.91472467, 5.59922708, 5.61450267, 6.55236089, 6.51256025,\n",
       "       5.2442608 , 6.4370439 , 5.28312097, 5.60774569, 5.81225133,\n",
       "       5.45765668, 6.11287834, 5.27380601, 5.07257755, 5.93857651,\n",
       "       5.48425778, 6.39892495, 5.62143339, 6.86209775, 5.70868614,\n",
       "       6.09587881, 6.66780508, 6.42088854, 5.49656436, 5.55506118,\n",
       "       5.67576485, 6.28242338, 5.56782678, 5.4972744 , 5.99151615,\n",
       "       6.97229338, 5.78900878, 5.82921695, 5.84061289, 6.40219515,\n",
       "       5.95503602, 6.55229918, 5.95258754, 5.77236709, 5.43557365,\n",
       "       5.91850637, 5.86529222, 5.65277983, 5.68224295, 4.98071868,\n",
       "       5.38643461, 6.25931695, 5.24938416, 5.85151153, 5.8080465 ,\n",
       "       5.26092206, 6.47486686, 4.73993044, 5.27427069, 6.59253177,\n",
       "       5.19613289, 5.5282457 , 6.28059844, 6.27936499, 5.57167338,\n",
       "       5.69529891, 6.24071236, 5.20925218, 5.46517713, 6.31355837,\n",
       "       5.51891182, 6.52139401, 6.41220987, 5.02383256, 5.70448295,\n",
       "       5.33527501, 6.23700118, 5.86200985, 6.4328286 , 6.08197002,\n",
       "       6.86032752, 6.28641018, 5.97275037, 6.00381176, 5.55708401,\n",
       "       6.00150636, 5.68605649, 5.49741857, 6.05455077, 5.93636684,\n",
       "       6.85269995, 6.51226011, 6.17986957, 5.8464263 , 5.66489446,\n",
       "       5.85316546, 5.90122816, 5.41565614, 6.24626859, 5.68346274,\n",
       "       6.14318418, 6.19616225, 5.51854477, 5.97186501, 6.36795524,\n",
       "       5.13469544, 5.24655122, 6.86209775, 5.10685625, 6.12989403,\n",
       "       6.28219698, 5.94175965, 6.29550354, 5.504884  , 5.51607564,\n",
       "       5.74784908, 6.00273086, 5.441053  , 5.85572896, 6.16961864,\n",
       "       5.74127844, 5.50670693, 5.7945028 , 6.641741  , 6.5808326 ,\n",
       "       6.85269995, 5.92866343, 5.96475893, 6.27676691, 5.77003347,\n",
       "       5.41778326, 5.6883775 , 5.83198644, 6.53803807, 5.99835648,\n",
       "       5.93491267, 6.80921762, 6.69155182, 5.65479824, 5.58326871,\n",
       "       5.17497252, 6.54507136, 6.5382014 , 6.47575579, 5.33497917,\n",
       "       5.70369985, 5.88631428, 6.21976065, 5.52612743, 6.16002851,\n",
       "       5.18768375, 5.23033811, 5.51583266, 6.08385792, 5.98967378,\n",
       "       5.71887533, 6.12386439, 6.24765066, 6.30729757, 5.32480622,\n",
       "       5.26659301, 5.84031947, 6.61025784, 6.01233442, 5.49453809,\n",
       "       5.57064394, 6.48098601, 6.25643136, 5.66402329, 6.63494774,\n",
       "       6.03246094, 5.48072006, 6.38780901, 6.39515573, 6.77731401,\n",
       "       6.08225721, 6.3204301 , 5.09497511, 6.44682436, 6.50509002,\n",
       "       5.93141842, 5.59493899, 6.80597613, 6.98606555, 5.60827815,\n",
       "       5.19270989, 6.25521463, 5.71295426, 5.25800108, 6.18558626,\n",
       "       5.7087613 , 5.65854828, 6.10073583, 6.12784237, 6.05734739,\n",
       "       6.39729303, 5.55347966, 5.90142166, 5.8982945 , 5.40799033,\n",
       "       5.40077877, 6.34348569, 5.3467369 , 5.98390602, 5.65821756,\n",
       "       5.48494976, 6.46542926, 6.1523829 , 6.21171132, 5.60150977,\n",
       "       5.73214127, 5.58816496, 5.82931343, 5.64507561, 6.07648601,\n",
       "       6.25868333, 6.64340657, 5.51397064, 4.96202631, 6.27055318,\n",
       "       5.75967732, 6.37795989, 5.52883817, 5.7113791 , 5.33809613,\n",
       "       5.29166316, 5.52213571, 5.97118716, 4.78407083, 5.2412052 ,\n",
       "       6.48953888, 5.64007631, 5.7970631 , 5.36994224, 6.04234761,\n",
       "       5.6772473 , 6.07528494, 5.42556104, 6.68943871, 6.08608466,\n",
       "       5.57985394, 5.89600737, 5.36322322, 6.4626791 , 5.86951748,\n",
       "       5.80881788, 6.10330761, 5.18724457, 5.77554697, 6.82777126,\n",
       "       6.46327965, 5.23368535, 6.35614804, 6.51735867, 4.68288772,\n",
       "       5.36322322, 6.75169084, 5.45151318, 5.4644463 , 6.10821161,\n",
       "       6.23318136, 5.15372352, 6.35098269, 6.19814384, 6.41603704,\n",
       "       5.69652027, 6.15217735, 5.43375989, 5.58638506, 6.05627763,\n",
       "       6.65176725, 6.12299483, 5.63770405, 6.46385267, 6.3212408 ,\n",
       "       6.06240565, 6.08509053, 5.99282469, 6.09420851, 6.07875526,\n",
       "       6.03577114, 6.12567835, 5.6511565 , 6.05680004, 5.80012519,\n",
       "       6.01360446, 5.92499726, 6.25181275, 5.4343435 , 6.18068356,\n",
       "       4.94034612, 5.3467369 , 5.31660767, 6.37639464, 6.18396395,\n",
       "       6.58961171, 6.18331537, 6.15305428, 6.29409778, 6.01904556,\n",
       "       5.82874811, 6.09572944, 6.81614612, 5.42556104, 5.52950998,\n",
       "       5.77202653, 6.55786947, 6.05089355, 5.605262  , 6.36557682,\n",
       "       5.9202441 , 6.18375121, 6.72808203, 6.19634302, 6.20788082,\n",
       "       6.20876164, 5.95460527, 5.65489423, 5.56498031, 6.11495263,\n",
       "       5.46193206, 6.26634301, 6.3332856 , 5.71864402, 5.93372739,\n",
       "       6.59633399, 6.1830371 , 5.8699708 , 5.45099954, 5.81228177,\n",
       "       5.03010037, 6.1523829 , 5.9351582 , 5.53138067, 5.19659509,\n",
       "       6.09778333, 6.14274795, 6.45784178, 6.50221492, 6.03530163,\n",
       "       5.67241498, 5.43108113, 5.83032178, 5.51184162, 6.42490454,\n",
       "       5.65277983, 5.52467657, 6.09239455, 5.8512909 , 6.67649042,\n",
       "       5.50530242, 5.70106792, 6.47566009, 7.00311977, 6.70239515,\n",
       "       5.90292591, 6.89613417, 6.02504451, 5.27075451, 5.66301102,\n",
       "       6.53979209, 5.84991764, 6.24904985, 5.46952608, 5.35515686,\n",
       "       6.46069053, 5.36046285, 5.65821756, 6.29409778, 5.72572227,\n",
       "       5.47139284, 6.21661809, 5.65452189, 5.82735546, 5.823689  ,\n",
       "       5.27156949, 5.49719839, 5.6417518 , 5.9776049 , 5.68758247,\n",
       "       5.44668978, 5.36551148, 5.76505204, 6.22808588, 5.98109495,\n",
       "       6.20526544, 6.58018051, 6.17498426, 5.26990681, 6.33092513,\n",
       "       6.91507218, 5.52834402, 6.39600165, 4.42772159, 5.75489238,\n",
       "       5.54393339, 5.96258715, 5.64680666, 6.47565213, 6.01858955,\n",
       "       6.19292345, 5.52828841, 5.69059362, 5.4077362 , 6.23997294,\n",
       "       6.05965136, 5.99572374, 5.69990509, 5.32981626, 5.68296209])"
      ]
     },
     "execution_count": 50,
     "metadata": {},
     "output_type": "execute_result"
    }
   ],
   "source": [
    "y_pred=linear_model.predict(X_test)\n",
    "y_pred"
   ]
  },
  {
   "cell_type": "code",
   "execution_count": 51,
   "id": "8575884d",
   "metadata": {},
   "outputs": [
    {
     "data": {
      "text/plain": [
       "13580.528228087996"
      ]
     },
     "execution_count": 51,
     "metadata": {},
     "output_type": "execute_result"
    }
   ],
   "source": [
    "model.intercept_"
   ]
  },
  {
   "cell_type": "code",
   "execution_count": 52,
   "id": "d421b31b",
   "metadata": {},
   "outputs": [
    {
     "data": {
      "text/plain": [
       "array([ 3.25994294e+01,  1.41933960e+02,  2.38463702e+02,  5.55019546e-02,\n",
       "        3.14343414e+02, -2.02443544e+00, -1.63326224e+00, -2.89427666e+04,\n",
       "        6.31700521e+02,  1.03071969e+02, -3.41951703e+01, -2.26940597e-02,\n",
       "        1.34582991e-02,  3.05731490e-01,  4.48680183e-03, -3.28291528e-01,\n",
       "        1.21966984e-03, -9.78440419e-04, -3.36153277e+01,  5.48052125e-01,\n",
       "        2.18823542e-01, -5.88974053e-02,  1.00587768e+00,  1.09914922e+00,\n",
       "        1.75961566e-02, -7.65255436e+00,  4.69344939e-03,  4.91523045e-03,\n",
       "       -1.58746806e+02,  2.93238449e+00,  2.63296387e-01,  2.91336227e-01,\n",
       "       -1.09760203e+00,  6.96986343e-02,  4.95604554e+00,  7.08423400e-03,\n",
       "       -1.42879350e-03, -2.51633901e+02,  3.58507694e+00,  1.59283561e-01,\n",
       "       -2.00646717e-01, -4.66009505e-03, -1.64587947e-01, -1.12802792e-03,\n",
       "       -3.58746061e-04, -1.75966034e-01,  1.10175431e-01, -4.16998967e-02,\n",
       "       -3.68155771e-03,  1.53873776e+01, -3.20058796e-02, -2.51130849e-03,\n",
       "       -2.65062768e+02, -5.19309918e+00, -1.73347198e+01, -2.44768044e+00,\n",
       "       -1.28766268e-04, -9.80590587e-05,  1.99855446e+00,  5.79487393e-03,\n",
       "        3.10530092e-02,  3.03827961e-03, -8.49455898e-06,  1.66313874e+00,\n",
       "       -7.75164614e-03, -1.26614246e-02,  2.32046166e-03,  1.53953635e+04,\n",
       "       -6.48956519e+02, -1.07413432e+02,  3.60455803e+01,  2.34817652e+00,\n",
       "        2.22084270e+00, -6.96435345e-01,  1.82894825e-01, -2.80045949e-01,\n",
       "        4.46382798e-02])"
      ]
     },
     "execution_count": 52,
     "metadata": {},
     "output_type": "execute_result"
    }
   ],
   "source": [
    "model.coef_"
   ]
  },
  {
   "cell_type": "code",
   "execution_count": 53,
   "id": "46d9ce80",
   "metadata": {},
   "outputs": [
    {
     "data": {
      "text/plain": [
       "0.5690247717229232"
      ]
     },
     "execution_count": 53,
     "metadata": {},
     "output_type": "execute_result"
    }
   ],
   "source": [
    "mse=mean_squared_error(y_test,y_pred)\n",
    "mse"
   ]
  },
  {
   "cell_type": "code",
   "execution_count": 54,
   "id": "6dec35ca",
   "metadata": {},
   "outputs": [
    {
     "data": {
      "text/plain": [
       "0.5862665383250447"
      ]
     },
     "execution_count": 54,
     "metadata": {},
     "output_type": "execute_result"
    }
   ],
   "source": [
    "mean_above_error=mean_absolute_error(y_test,y_pred)\n",
    "mean_above_error"
   ]
  },
  {
   "cell_type": "code",
   "execution_count": 55,
   "id": "76e18a0d",
   "metadata": {},
   "outputs": [
    {
     "data": {
      "text/plain": [
       "0.2652750042179184"
      ]
     },
     "execution_count": 55,
     "metadata": {},
     "output_type": "execute_result"
    }
   ],
   "source": [
    "score=r2_score(y_test,y_pred)\n",
    "score"
   ]
  },
  {
   "cell_type": "code",
   "execution_count": 56,
   "id": "7478c4fe",
   "metadata": {},
   "outputs": [
    {
     "data": {
      "text/plain": [
       "0.2843126626389435"
      ]
     },
     "execution_count": 56,
     "metadata": {},
     "output_type": "execute_result"
    }
   ],
   "source": [
    "linear_model.score(X_train,y_train)"
   ]
  },
  {
   "cell_type": "code",
   "execution_count": 57,
   "id": "5adc5036",
   "metadata": {},
   "outputs": [
    {
     "data": {
      "text/plain": [
       "0.2652750042179184"
      ]
     },
     "execution_count": 57,
     "metadata": {},
     "output_type": "execute_result"
    }
   ],
   "source": [
    "linear_model.score(X_test,y_test)"
   ]
  }
 ],
 "metadata": {
  "kernelspec": {
   "display_name": "Python 3 (ipykernel)",
   "language": "python",
   "name": "python3"
  },
  "language_info": {
   "codemirror_mode": {
    "name": "ipython",
    "version": 3
   },
   "file_extension": ".py",
   "mimetype": "text/x-python",
   "name": "python",
   "nbconvert_exporter": "python",
   "pygments_lexer": "ipython3",
   "version": "3.10.13"
  }
 },
 "nbformat": 4,
 "nbformat_minor": 5
}
