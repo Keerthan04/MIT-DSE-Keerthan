{
 "cells": [
  {
   "cell_type": "markdown",
   "id": "8ebe46e5",
   "metadata": {},
   "source": [
    "# Week2"
   ]
  },
  {
   "cell_type": "raw",
   "id": "66fcc8f9",
   "metadata": {},
   "source": [
    "Name:Keerthan Kumar C\n",
    "IV Sem DSE section B\n",
    "Registration number: 220968002\n",
    "Batch: Batch 3(section B)\n",
    "Roll number: 2"
   ]
  },
  {
   "cell_type": "markdown",
   "id": "f93d71d9",
   "metadata": {},
   "source": [
    "# using manual"
   ]
  },
  {
   "cell_type": "code",
   "execution_count": 1,
   "id": "7535d08a",
   "metadata": {},
   "outputs": [],
   "source": [
    "import pandas as pd\n",
    "import numpy as np\n",
    "import matplotlib.pyplot as plt\n",
    "import seaborn as sns"
   ]
  },
  {
   "cell_type": "code",
   "execution_count": 2,
   "id": "b2a48841",
   "metadata": {},
   "outputs": [],
   "source": [
    "df=pd.read_excel('multivariate.xlsx')"
   ]
  },
  {
   "cell_type": "code",
   "execution_count": 3,
   "id": "d925369d",
   "metadata": {},
   "outputs": [
    {
     "data": {
      "text/html": [
       "<div>\n",
       "<style scoped>\n",
       "    .dataframe tbody tr th:only-of-type {\n",
       "        vertical-align: middle;\n",
       "    }\n",
       "\n",
       "    .dataframe tbody tr th {\n",
       "        vertical-align: top;\n",
       "    }\n",
       "\n",
       "    .dataframe thead th {\n",
       "        text-align: right;\n",
       "    }\n",
       "</style>\n",
       "<table border=\"1\" class=\"dataframe\">\n",
       "  <thead>\n",
       "    <tr style=\"text-align: right;\">\n",
       "      <th></th>\n",
       "      <th>Subject</th>\n",
       "      <th>Y</th>\n",
       "      <th>X1</th>\n",
       "      <th>X2</th>\n",
       "    </tr>\n",
       "  </thead>\n",
       "  <tbody>\n",
       "    <tr>\n",
       "      <th>0</th>\n",
       "      <td>1</td>\n",
       "      <td>-3.7</td>\n",
       "      <td>3</td>\n",
       "      <td>8</td>\n",
       "    </tr>\n",
       "    <tr>\n",
       "      <th>1</th>\n",
       "      <td>2</td>\n",
       "      <td>3.5</td>\n",
       "      <td>4</td>\n",
       "      <td>5</td>\n",
       "    </tr>\n",
       "    <tr>\n",
       "      <th>2</th>\n",
       "      <td>3</td>\n",
       "      <td>2.5</td>\n",
       "      <td>5</td>\n",
       "      <td>7</td>\n",
       "    </tr>\n",
       "    <tr>\n",
       "      <th>3</th>\n",
       "      <td>4</td>\n",
       "      <td>11.5</td>\n",
       "      <td>6</td>\n",
       "      <td>3</td>\n",
       "    </tr>\n",
       "    <tr>\n",
       "      <th>4</th>\n",
       "      <td>5</td>\n",
       "      <td>5.7</td>\n",
       "      <td>2</td>\n",
       "      <td>1</td>\n",
       "    </tr>\n",
       "  </tbody>\n",
       "</table>\n",
       "</div>"
      ],
      "text/plain": [
       "   Subject     Y  X1  X2\n",
       "0        1  -3.7   3   8\n",
       "1        2   3.5   4   5\n",
       "2        3   2.5   5   7\n",
       "3        4  11.5   6   3\n",
       "4        5   5.7   2   1"
      ]
     },
     "execution_count": 3,
     "metadata": {},
     "output_type": "execute_result"
    }
   ],
   "source": [
    "df"
   ]
  },
  {
   "cell_type": "code",
   "execution_count": 4,
   "id": "74656d1e",
   "metadata": {},
   "outputs": [
    {
     "data": {
      "text/plain": [
       "array([3, 4, 5, 6, 2], dtype=int64)"
      ]
     },
     "execution_count": 4,
     "metadata": {},
     "output_type": "execute_result"
    }
   ],
   "source": [
    "X1=np.array(df['X1'])\n",
    "X1"
   ]
  },
  {
   "cell_type": "code",
   "execution_count": 5,
   "id": "65571d20",
   "metadata": {},
   "outputs": [
    {
     "data": {
      "text/plain": [
       "array([8, 5, 7, 3, 1], dtype=int64)"
      ]
     },
     "execution_count": 5,
     "metadata": {},
     "output_type": "execute_result"
    }
   ],
   "source": [
    "X2=np.array(df['X2'])\n",
    "X2"
   ]
  },
  {
   "cell_type": "code",
   "execution_count": 6,
   "id": "8169b44f",
   "metadata": {},
   "outputs": [
    {
     "data": {
      "text/plain": [
       "array([-3.7,  3.5,  2.5, 11.5,  5.7])"
      ]
     },
     "execution_count": 6,
     "metadata": {},
     "output_type": "execute_result"
    }
   ],
   "source": [
    "Y=np.array(df['Y'])\n",
    "Y"
   ]
  },
  {
   "cell_type": "code",
   "execution_count": 7,
   "id": "25e9da1b",
   "metadata": {},
   "outputs": [
    {
     "data": {
      "text/plain": [
       "array([24, 20, 35, 18,  2], dtype=int64)"
      ]
     },
     "execution_count": 7,
     "metadata": {},
     "output_type": "execute_result"
    }
   ],
   "source": [
    "X1X2=X1*X2\n",
    "X1X2"
   ]
  },
  {
   "cell_type": "code",
   "execution_count": 8,
   "id": "2447a3c0",
   "metadata": {},
   "outputs": [
    {
     "data": {
      "text/plain": [
       "array([ 9, 16, 25, 36,  4], dtype=int64)"
      ]
     },
     "execution_count": 8,
     "metadata": {},
     "output_type": "execute_result"
    }
   ],
   "source": [
    "X1X1=X1*X1\n",
    "X1X1"
   ]
  },
  {
   "cell_type": "code",
   "execution_count": 9,
   "id": "120b5f1c",
   "metadata": {},
   "outputs": [
    {
     "data": {
      "text/plain": [
       "array([64, 25, 49,  9,  1], dtype=int64)"
      ]
     },
     "execution_count": 9,
     "metadata": {},
     "output_type": "execute_result"
    }
   ],
   "source": [
    "X2X2=X2*X2\n",
    "X2X2"
   ]
  },
  {
   "cell_type": "code",
   "execution_count": 10,
   "id": "a0a29a45",
   "metadata": {},
   "outputs": [
    {
     "data": {
      "text/plain": [
       "array([-11.1,  14. ,  12.5,  69. ,  11.4])"
      ]
     },
     "execution_count": 10,
     "metadata": {},
     "output_type": "execute_result"
    }
   ],
   "source": [
    "X1Y=X1*Y\n",
    "X1Y"
   ]
  },
  {
   "cell_type": "code",
   "execution_count": 11,
   "id": "58918732",
   "metadata": {},
   "outputs": [
    {
     "data": {
      "text/plain": [
       "array([-29.6,  17.5,  17.5,  34.5,   5.7])"
      ]
     },
     "execution_count": 11,
     "metadata": {},
     "output_type": "execute_result"
    }
   ],
   "source": [
    "X2Y=X2*Y\n",
    "X2Y"
   ]
  },
  {
   "cell_type": "code",
   "execution_count": 12,
   "id": "e4af72c3",
   "metadata": {},
   "outputs": [
    {
     "data": {
      "text/plain": [
       "10.0"
      ]
     },
     "execution_count": 12,
     "metadata": {},
     "output_type": "execute_result"
    }
   ],
   "source": [
    "sum_x12=np.sum(X1X1)-((np.sum(X1)*np.sum(X1))/len(X1))\n",
    "sum_x12"
   ]
  },
  {
   "cell_type": "code",
   "execution_count": 13,
   "id": "088319f8",
   "metadata": {},
   "outputs": [
    {
     "data": {
      "text/plain": [
       "32.8"
      ]
     },
     "execution_count": 13,
     "metadata": {},
     "output_type": "execute_result"
    }
   ],
   "source": [
    "sum_x22=np.sum(X2X2)-((np.sum(X2)*np.sum(X2))/len(X2))\n",
    "sum_x22"
   ]
  },
  {
   "cell_type": "code",
   "execution_count": 14,
   "id": "7c0c7c8a",
   "metadata": {},
   "outputs": [
    {
     "data": {
      "text/plain": [
       "17.80000000000001"
      ]
     },
     "execution_count": 14,
     "metadata": {},
     "output_type": "execute_result"
    }
   ],
   "source": [
    "sum_x1y=np.sum(X1Y)-((np.sum(X1)*np.sum(Y))/len(X1))\n",
    "sum_x1y"
   ]
  },
  {
   "cell_type": "code",
   "execution_count": 15,
   "id": "a08188da",
   "metadata": {},
   "outputs": [
    {
     "data": {
      "text/plain": [
       "-47.99999999999999"
      ]
     },
     "execution_count": 15,
     "metadata": {},
     "output_type": "execute_result"
    }
   ],
   "source": [
    "sum_x2y=np.sum(X2Y)-((np.sum(X2)*np.sum(Y))/len(X2))\n",
    "sum_x2y"
   ]
  },
  {
   "cell_type": "code",
   "execution_count": 16,
   "id": "7978b531",
   "metadata": {},
   "outputs": [
    {
     "data": {
      "text/plain": [
       "3.0"
      ]
     },
     "execution_count": 16,
     "metadata": {},
     "output_type": "execute_result"
    }
   ],
   "source": [
    "sum_x1x2=np.sum(X1X2)-((np.sum(X1)*np.sum(X2))/len(X2))\n",
    "sum_x1x2"
   ]
  },
  {
   "cell_type": "code",
   "execution_count": 17,
   "id": "6eed50ab",
   "metadata": {},
   "outputs": [
    {
     "data": {
      "text/plain": [
       "2.2816300940438885"
      ]
     },
     "execution_count": 17,
     "metadata": {},
     "output_type": "execute_result"
    }
   ],
   "source": [
    "b1=(((sum_x22)*(sum_x1y))-((sum_x1x2)*(sum_x2y)))/(((sum_x12)*(sum_x22))-((sum_x1x2)*(sum_x1x2)))\n",
    "b1"
   ]
  },
  {
   "cell_type": "code",
   "execution_count": 18,
   "id": "f50047e6",
   "metadata": {},
   "outputs": [
    {
     "data": {
      "text/plain": [
       "-1.6721003134796237"
      ]
     },
     "execution_count": 18,
     "metadata": {},
     "output_type": "execute_result"
    }
   ],
   "source": [
    "b2=(((sum_x12)*(sum_x2y))-((sum_x1x2)*(sum_x1y)))/(((sum_x12)*(sum_x22))-((sum_x1x2)*(sum_x1x2)))\n",
    "b2"
   ]
  },
  {
   "cell_type": "code",
   "execution_count": 19,
   "id": "46f61537",
   "metadata": {},
   "outputs": [
    {
     "data": {
      "text/plain": [
       "2.7995611285266406"
      ]
     },
     "execution_count": 19,
     "metadata": {},
     "output_type": "execute_result"
    }
   ],
   "source": [
    "a=np.mean(Y)-(b1*(np.mean(X1)))-(b2*(np.mean(X2)))\n",
    "a"
   ]
  },
  {
   "cell_type": "markdown",
   "id": "12362279",
   "metadata": {},
   "source": [
    "### Final equation"
   ]
  },
  {
   "cell_type": "code",
   "execution_count": 20,
   "id": "8505b72d",
   "metadata": {},
   "outputs": [
    {
     "data": {
      "text/plain": [
       "array([-3.7323511 ,  3.56557994,  2.5030094 , 11.47304075,  5.690721  ])"
      ]
     },
     "execution_count": 20,
     "metadata": {},
     "output_type": "execute_result"
    }
   ],
   "source": [
    "y=a+(b1*X1)+(b2*X2)\n",
    "y"
   ]
  },
  {
   "cell_type": "code",
   "execution_count": 21,
   "id": "8a0d5a86",
   "metadata": {},
   "outputs": [
    {
     "data": {
      "text/plain": [
       "6.300250783699058"
      ]
     },
     "execution_count": 21,
     "metadata": {},
     "output_type": "execute_result"
    }
   ],
   "source": [
    "# Manual Method Prediction\n",
    "x1=3\n",
    "x2=2\n",
    "Y=a+(b1*x1)+(b2*x2)\n",
    "Y"
   ]
  },
  {
   "cell_type": "markdown",
   "id": "10673be6",
   "metadata": {},
   "source": [
    "## Manual and Random Integer"
   ]
  },
  {
   "cell_type": "code",
   "execution_count": 22,
   "id": "f9f007ae",
   "metadata": {},
   "outputs": [],
   "source": [
    "X1=np.random.randint(2,high=20,size=10)\n",
    "X2=np.random.randint(2,high=20,size=10)\n",
    "Y=np.random.randint(2,high=20,size=10)"
   ]
  },
  {
   "cell_type": "code",
   "execution_count": 23,
   "id": "8b220443",
   "metadata": {},
   "outputs": [
    {
     "data": {
      "text/plain": [
       "array([14, 13, 13, 16,  3, 18, 14, 10,  6,  4])"
      ]
     },
     "execution_count": 23,
     "metadata": {},
     "output_type": "execute_result"
    }
   ],
   "source": [
    "X1"
   ]
  },
  {
   "cell_type": "code",
   "execution_count": 24,
   "id": "af29f4d8",
   "metadata": {},
   "outputs": [
    {
     "data": {
      "text/plain": [
       "array([ 3,  7,  9, 15, 13,  4, 12,  2, 14,  4])"
      ]
     },
     "execution_count": 24,
     "metadata": {},
     "output_type": "execute_result"
    }
   ],
   "source": [
    "X2"
   ]
  },
  {
   "cell_type": "code",
   "execution_count": 25,
   "id": "4ae7bf33",
   "metadata": {},
   "outputs": [
    {
     "data": {
      "text/plain": [
       "array([ 7, 16,  8, 10, 14, 14,  5,  2, 14, 12])"
      ]
     },
     "execution_count": 25,
     "metadata": {},
     "output_type": "execute_result"
    }
   ],
   "source": [
    "Y"
   ]
  },
  {
   "cell_type": "code",
   "execution_count": 26,
   "id": "1a82b13f",
   "metadata": {},
   "outputs": [
    {
     "data": {
      "text/plain": [
       "array([ 42,  91, 117, 240,  39,  72, 168,  20,  84,  16])"
      ]
     },
     "execution_count": 26,
     "metadata": {},
     "output_type": "execute_result"
    }
   ],
   "source": [
    "X1X2=X1*X2\n",
    "X1X2"
   ]
  },
  {
   "cell_type": "code",
   "execution_count": 27,
   "id": "81b19d0d",
   "metadata": {},
   "outputs": [
    {
     "data": {
      "text/plain": [
       "array([196, 169, 169, 256,   9, 324, 196, 100,  36,  16])"
      ]
     },
     "execution_count": 27,
     "metadata": {},
     "output_type": "execute_result"
    }
   ],
   "source": [
    "X1X1=X1*X1\n",
    "X1X1"
   ]
  },
  {
   "cell_type": "code",
   "execution_count": 28,
   "id": "8954bb9f",
   "metadata": {},
   "outputs": [
    {
     "data": {
      "text/plain": [
       "array([  9,  49,  81, 225, 169,  16, 144,   4, 196,  16])"
      ]
     },
     "execution_count": 28,
     "metadata": {},
     "output_type": "execute_result"
    }
   ],
   "source": [
    "X2X2=X2*X2\n",
    "X2X2"
   ]
  },
  {
   "cell_type": "code",
   "execution_count": 29,
   "id": "31a21c25",
   "metadata": {},
   "outputs": [
    {
     "data": {
      "text/plain": [
       "array([ 98, 208, 104, 160,  42, 252,  70,  20,  84,  48])"
      ]
     },
     "execution_count": 29,
     "metadata": {},
     "output_type": "execute_result"
    }
   ],
   "source": [
    "X1Y=X1*Y\n",
    "X1Y"
   ]
  },
  {
   "cell_type": "code",
   "execution_count": 30,
   "id": "594240cc",
   "metadata": {},
   "outputs": [
    {
     "data": {
      "text/plain": [
       "array([ 21, 112,  72, 150, 182,  56,  60,   4, 196,  48])"
      ]
     },
     "execution_count": 30,
     "metadata": {},
     "output_type": "execute_result"
    }
   ],
   "source": [
    "X2Y=X2*Y\n",
    "X2Y"
   ]
  },
  {
   "cell_type": "code",
   "execution_count": 31,
   "id": "8b9e7c53",
   "metadata": {},
   "outputs": [
    {
     "data": {
      "text/plain": [
       "238.9000000000001"
      ]
     },
     "execution_count": 31,
     "metadata": {},
     "output_type": "execute_result"
    }
   ],
   "source": [
    "sum_x12=np.sum(X1X1)-((np.sum(X1)*np.sum(X1))/len(X1))\n",
    "sum_x12"
   ]
  },
  {
   "cell_type": "code",
   "execution_count": 32,
   "id": "abe1f410",
   "metadata": {},
   "outputs": [
    {
     "data": {
      "text/plain": [
       "220.10000000000002"
      ]
     },
     "execution_count": 32,
     "metadata": {},
     "output_type": "execute_result"
    }
   ],
   "source": [
    "sum_x22=np.sum(X2X2)-((np.sum(X2)*np.sum(X2))/len(X2))\n",
    "sum_x22"
   ]
  },
  {
   "cell_type": "code",
   "execution_count": 33,
   "id": "7a903f94",
   "metadata": {},
   "outputs": [
    {
     "data": {
      "text/plain": [
       "-46.200000000000045"
      ]
     },
     "execution_count": 33,
     "metadata": {},
     "output_type": "execute_result"
    }
   ],
   "source": [
    "sum_x1y=np.sum(X1Y)-((np.sum(X1)*np.sum(Y))/len(X1))\n",
    "sum_x1y"
   ]
  },
  {
   "cell_type": "code",
   "execution_count": 34,
   "id": "ebe688e1",
   "metadata": {},
   "outputs": [
    {
     "data": {
      "text/plain": [
       "54.39999999999998"
      ]
     },
     "execution_count": 34,
     "metadata": {},
     "output_type": "execute_result"
    }
   ],
   "source": [
    "sum_x2y=np.sum(X2Y)-((np.sum(X2)*np.sum(Y))/len(X2))\n",
    "sum_x2y"
   ]
  },
  {
   "cell_type": "code",
   "execution_count": 35,
   "id": "f0d66576",
   "metadata": {},
   "outputs": [
    {
     "data": {
      "text/plain": [
       "-32.299999999999955"
      ]
     },
     "execution_count": 35,
     "metadata": {},
     "output_type": "execute_result"
    }
   ],
   "source": [
    "sum_x1x2=np.sum(X1X2)-((np.sum(X1)*np.sum(X2))/len(X2))\n",
    "sum_x1x2"
   ]
  },
  {
   "cell_type": "code",
   "execution_count": 36,
   "id": "02cdf111",
   "metadata": {},
   "outputs": [
    {
     "data": {
      "text/plain": [
       "-0.1632077704865869"
      ]
     },
     "execution_count": 36,
     "metadata": {},
     "output_type": "execute_result"
    }
   ],
   "source": [
    "b1=(((sum_x22)*(sum_x1y))-((sum_x1x2)*(sum_x2y)))/(((sum_x12)*(sum_x22))-((sum_x1x2)*(sum_x1x2)))\n",
    "b1"
   ]
  },
  {
   "cell_type": "code",
   "execution_count": 37,
   "id": "1c1ce3fe",
   "metadata": {},
   "outputs": [
    {
     "data": {
      "text/plain": [
       "0.2232094003329542"
      ]
     },
     "execution_count": 37,
     "metadata": {},
     "output_type": "execute_result"
    }
   ],
   "source": [
    "b2=(((sum_x12)*(sum_x2y))-((sum_x1x2)*(sum_x1y)))/(((sum_x12)*(sum_x22))-((sum_x1x2)*(sum_x1x2)))\n",
    "b2"
   ]
  },
  {
   "cell_type": "code",
   "execution_count": 38,
   "id": "f51d349b",
   "metadata": {},
   "outputs": [
    {
     "data": {
      "text/plain": [
       "10.158968229637594"
      ]
     },
     "execution_count": 38,
     "metadata": {},
     "output_type": "execute_result"
    }
   ],
   "source": [
    "a=np.mean(Y)-(b1*(np.mean(X1)))-(b2*(np.mean(X2)))\n",
    "a"
   ]
  },
  {
   "cell_type": "markdown",
   "id": "9e7cd945",
   "metadata": {},
   "source": [
    "### Final equation"
   ]
  },
  {
   "cell_type": "code",
   "execution_count": 39,
   "id": "46cec13b",
   "metadata": {},
   "outputs": [
    {
     "data": {
      "text/plain": [
       "array([ 8.54368764,  9.59973302, 10.04615182, 10.89578491, 12.57106712,\n",
       "        8.11406596, 10.55257225,  8.97330933, 12.30465321, 10.39897475])"
      ]
     },
     "execution_count": 39,
     "metadata": {},
     "output_type": "execute_result"
    }
   ],
   "source": [
    "y=a+(b1*X1)+(b2*X2)\n",
    "y"
   ]
  },
  {
   "cell_type": "code",
   "execution_count": 40,
   "id": "cd4c78f0",
   "metadata": {},
   "outputs": [
    {
     "data": {
      "text/plain": [
       "10.115763718843741"
      ]
     },
     "execution_count": 40,
     "metadata": {},
     "output_type": "execute_result"
    }
   ],
   "source": [
    "# Manual Method Prediction\n",
    "x1=3\n",
    "x2=2\n",
    "Y=a+(b1*x1)+(b2*x2)\n",
    "Y"
   ]
  },
  {
   "cell_type": "markdown",
   "id": "63b7f506",
   "metadata": {},
   "source": [
    "## Manual and Random Floating numbers"
   ]
  },
  {
   "cell_type": "code",
   "execution_count": 41,
   "id": "53da970e",
   "metadata": {},
   "outputs": [],
   "source": [
    "X1=[]\n",
    "for i in range(1,6):\n",
    "    x=(np.random.uniform(1,20))\n",
    "    X1.append(x)\n",
    "X1=np.array(X1)\n",
    "\n",
    "X2=[]\n",
    "for i in range(1,6):\n",
    "    x=(np.random.uniform(1,20))\n",
    "    X2.append(x)\n",
    "X2=np.array(X2)\n",
    "\n",
    "Y=[]\n",
    "for i in range(1,6):\n",
    "    x=(np.random.uniform(1,20))\n",
    "    Y.append(x)\n",
    "Y=np.array(Y)"
   ]
  },
  {
   "cell_type": "code",
   "execution_count": 42,
   "id": "c1985bd6",
   "metadata": {},
   "outputs": [
    {
     "data": {
      "text/plain": [
       "array([17.16631143,  1.48608989,  1.90200245,  2.82044542, 14.24086203])"
      ]
     },
     "execution_count": 42,
     "metadata": {},
     "output_type": "execute_result"
    }
   ],
   "source": [
    "X1"
   ]
  },
  {
   "cell_type": "code",
   "execution_count": 43,
   "id": "8de1b925",
   "metadata": {},
   "outputs": [
    {
     "data": {
      "text/plain": [
       "array([16.23273574,  8.2779344 ,  4.95842969, 15.83773619, 10.13277652])"
      ]
     },
     "execution_count": 43,
     "metadata": {},
     "output_type": "execute_result"
    }
   ],
   "source": [
    "X2"
   ]
  },
  {
   "cell_type": "code",
   "execution_count": 44,
   "id": "c9c18c8e",
   "metadata": {},
   "outputs": [
    {
     "data": {
      "text/plain": [
       "array([18.39326891, 16.99323715,  8.01481877, 16.66330108,  7.73763961])"
      ]
     },
     "execution_count": 44,
     "metadata": {},
     "output_type": "execute_result"
    }
   ],
   "source": [
    "Y"
   ]
  },
  {
   "cell_type": "code",
   "execution_count": 46,
   "id": "3b861a15",
   "metadata": {},
   "outputs": [
    {
     "data": {
      "text/plain": [
       "array([278.65619713,  12.30175465,   9.43094541,  44.66947053,\n",
       "       144.29947234])"
      ]
     },
     "execution_count": 46,
     "metadata": {},
     "output_type": "execute_result"
    }
   ],
   "source": [
    "X1X2=X1*X2\n",
    "X1X2"
   ]
  },
  {
   "cell_type": "code",
   "execution_count": 47,
   "id": "095cd41c",
   "metadata": {},
   "outputs": [
    {
     "data": {
      "text/plain": [
       "array([294.68224823,   2.20846317,   3.61761332,   7.95491238,\n",
       "       202.80215131])"
      ]
     },
     "execution_count": 47,
     "metadata": {},
     "output_type": "execute_result"
    }
   ],
   "source": [
    "X1X1=X1*X1\n",
    "X1X1"
   ]
  },
  {
   "cell_type": "code",
   "execution_count": 48,
   "id": "00c173cf",
   "metadata": {},
   "outputs": [
    {
     "data": {
      "text/plain": [
       "array([263.50170959,  68.5241979 ,  24.58602498, 250.83388749,\n",
       "       102.67315994])"
      ]
     },
     "execution_count": 48,
     "metadata": {},
     "output_type": "execute_result"
    }
   ],
   "source": [
    "X2X2=X2*X2\n",
    "X2X2"
   ]
  },
  {
   "cell_type": "code",
   "execution_count": 49,
   "id": "8ddf38aa",
   "metadata": {},
   "outputs": [
    {
     "data": {
      "text/plain": [
       "array([315.74458238,  25.25347798,  15.24420493,  46.99793126,\n",
       "       110.1906581 ])"
      ]
     },
     "execution_count": 49,
     "metadata": {},
     "output_type": "execute_result"
    }
   ],
   "source": [
    "X1Y=X1*Y\n",
    "X1Y"
   ]
  },
  {
   "cell_type": "code",
   "execution_count": 50,
   "id": "70469ccf",
   "metadata": {},
   "outputs": [
    {
     "data": {
      "text/plain": [
       "array([298.57307359, 140.66890235,  39.74091534, 263.9089665 ,\n",
       "        78.40377292])"
      ]
     },
     "execution_count": 50,
     "metadata": {},
     "output_type": "execute_result"
    }
   ],
   "source": [
    "X2Y=X2*Y\n",
    "X2Y"
   ]
  },
  {
   "cell_type": "code",
   "execution_count": 51,
   "id": "a5e406ab",
   "metadata": {},
   "outputs": [
    {
     "data": {
      "text/plain": [
       "228.27704219902574"
      ]
     },
     "execution_count": 51,
     "metadata": {},
     "output_type": "execute_result"
    }
   ],
   "source": [
    "sum_x12=np.sum(X1X1)-((np.sum(X1)*np.sum(X1))/len(X1))\n",
    "sum_x12"
   ]
  },
  {
   "cell_type": "code",
   "execution_count": 52,
   "id": "146e92a2",
   "metadata": {},
   "outputs": [
    {
     "data": {
      "text/plain": [
       "95.4088524298379"
      ]
     },
     "execution_count": 52,
     "metadata": {},
     "output_type": "execute_result"
    }
   ],
   "source": [
    "sum_x22=np.sum(X2X2)-((np.sum(X2)*np.sum(X2))/len(X2))\n",
    "sum_x22"
   ]
  },
  {
   "cell_type": "code",
   "execution_count": 53,
   "id": "3593b334",
   "metadata": {},
   "outputs": [
    {
     "data": {
      "text/plain": [
       "3.344766575521362"
      ]
     },
     "execution_count": 53,
     "metadata": {},
     "output_type": "execute_result"
    }
   ],
   "source": [
    "sum_x1y=np.sum(X1Y)-((np.sum(X1)*np.sum(Y))/len(X1))\n",
    "sum_x1y"
   ]
  },
  {
   "cell_type": "code",
   "execution_count": 54,
   "id": "1d0d2247",
   "metadata": {},
   "outputs": [
    {
     "data": {
      "text/plain": [
       "69.50936489389574"
      ]
     },
     "execution_count": 54,
     "metadata": {},
     "output_type": "execute_result"
    }
   ],
   "source": [
    "sum_x2y=np.sum(X2Y)-((np.sum(X2)*np.sum(Y))/len(X2))\n",
    "sum_x2y"
   ]
  },
  {
   "cell_type": "code",
   "execution_count": 55,
   "id": "48c5d2ea",
   "metadata": {},
   "outputs": [
    {
     "data": {
      "text/plain": [
       "72.27774897132792"
      ]
     },
     "execution_count": 55,
     "metadata": {},
     "output_type": "execute_result"
    }
   ],
   "source": [
    "sum_x1x2=np.sum(X1X2)-((np.sum(X1)*np.sum(X2))/len(X2))\n",
    "sum_x1x2"
   ]
  },
  {
   "cell_type": "code",
   "execution_count": 56,
   "id": "8b4b738e",
   "metadata": {},
   "outputs": [
    {
     "data": {
      "text/plain": [
       "-0.2841858006894331"
      ]
     },
     "execution_count": 56,
     "metadata": {},
     "output_type": "execute_result"
    }
   ],
   "source": [
    "b1=(((sum_x22)*(sum_x1y))-((sum_x1x2)*(sum_x2y)))/(((sum_x12)*(sum_x22))-((sum_x1x2)*(sum_x1x2)))\n",
    "b1"
   ]
  },
  {
   "cell_type": "code",
   "execution_count": 57,
   "id": "25ed8473",
   "metadata": {},
   "outputs": [
    {
     "data": {
      "text/plain": [
       "0.9438293466904808"
      ]
     },
     "execution_count": 57,
     "metadata": {},
     "output_type": "execute_result"
    }
   ],
   "source": [
    "b2=(((sum_x12)*(sum_x2y))-((sum_x1x2)*(sum_x1y)))/(((sum_x12)*(sum_x22))-((sum_x1x2)*(sum_x1x2)))\n",
    "b2"
   ]
  },
  {
   "cell_type": "code",
   "execution_count": 58,
   "id": "b39ad720",
   "metadata": {},
   "outputs": [
    {
     "data": {
      "text/plain": [
       "5.233316652139507"
      ]
     },
     "execution_count": 58,
     "metadata": {},
     "output_type": "execute_result"
    }
   ],
   "source": [
    "a=np.mean(Y)-(b1*(np.mean(X1)))-(b2*(np.mean(X2)))\n",
    "a"
   ]
  },
  {
   "cell_type": "markdown",
   "id": "62b9d1dc",
   "metadata": {},
   "source": [
    "### Final equation"
   ]
  },
  {
   "cell_type": "code",
   "execution_count": 59,
   "id": "d78c4525",
   "metadata": {},
   "outputs": [
    {
     "data": {
      "text/plain": [
       "array([15.67582706, 12.62394842,  9.37270602, 19.37990631, 10.74987771])"
      ]
     },
     "execution_count": 59,
     "metadata": {},
     "output_type": "execute_result"
    }
   ],
   "source": [
    "y=a+(b1*X1)+(b2*X2)\n",
    "y"
   ]
  },
  {
   "cell_type": "code",
   "execution_count": 60,
   "id": "41635a8e",
   "metadata": {},
   "outputs": [
    {
     "data": {
      "text/plain": [
       "6.268417943452169"
      ]
     },
     "execution_count": 60,
     "metadata": {},
     "output_type": "execute_result"
    }
   ],
   "source": [
    "# Manual Method Prediction\n",
    "x1=3\n",
    "x2=2\n",
    "Y=a+(b1*x1)+(b2*x2)\n",
    "Y"
   ]
  }
 ],
 "metadata": {
  "kernelspec": {
   "display_name": "Python 3 (ipykernel)",
   "language": "python",
   "name": "python3"
  },
  "language_info": {
   "codemirror_mode": {
    "name": "ipython",
    "version": 3
   },
   "file_extension": ".py",
   "mimetype": "text/x-python",
   "name": "python",
   "nbconvert_exporter": "python",
   "pygments_lexer": "ipython3",
   "version": "3.10.9"
  }
 },
 "nbformat": 4,
 "nbformat_minor": 5
}
