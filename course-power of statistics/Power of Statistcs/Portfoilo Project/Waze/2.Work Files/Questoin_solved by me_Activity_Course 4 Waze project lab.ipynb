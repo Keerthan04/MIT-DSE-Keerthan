{
 "cells": [
  {
   "cell_type": "markdown",
   "metadata": {
    "id": "DtNBZFHO3M7n"
   },
   "source": [
    "# **Waze Project**\n",
    "**Course 4 - The Power of Statistics**"
   ]
  },
  {
   "cell_type": "markdown",
   "metadata": {
    "id": "WVeXS7BNzX6e"
   },
   "source": [
    "Your team is nearing the midpoint of their user churn project. So far, you’ve completed a project proposal, and used Python to explore and analyze Waze’s user data. You’ve also used Python to create data visualizations. The next step is to use statistical methods to analyze and interpret your data.\n",
    "\n",
    "You receive a new email from Sylvester Esperanza, your project manager. Sylvester tells your team about a new request from leadership: to analyze the relationship between mean amount of rides and device type. You also discover follow-up emails from three other team members: May Santner, Chidi Ga, and Harriet Hadzic. These emails discuss the details of the analysis. They would like a statistical analysis of ride data based on device type. In particular, leadership wants to know if there is a statistically significant difference in mean amount of rides between iPhone® users and Android™ users. A final email from Chidi includes your specific assignment: to conduct a two-sample hypothesis test (t-test) to analyze the difference in the mean amount of rides between iPhone users and Android users.\n",
    "\n",
    "A notebook was structured and prepared to help you in this project. Please complete the following questions and prepare an executive summary."
   ]
  },
  {
   "cell_type": "markdown",
   "metadata": {
    "id": "rgSbVJvomcVa"
   },
   "source": [
    "# **Course 4 End-of-course project: Data exploration and hypothesis testing**\n",
    "\n",
    "In this activity, you will explore the data provided and conduct a hypothesis test.\n",
    "<br/>\n",
    "\n",
    "**The purpose** of this project is to demostrate knowledge of how to conduct a two-sample hypothesis test.\n",
    "\n",
    "**The goal** is to apply descriptive statistics and hypothesis testing in Python.\n",
    "<br/>\n",
    "\n",
    "*This activity has three parts:*\n",
    "\n",
    "**Part 1:** Imports and data loading\n",
    "* What data packages will be necessary for hypothesis testing?\n",
    "\n",
    "**Part 2:** Conduct hypothesis testing\n",
    "* How did computing descriptive statistics help you analyze your data?\n",
    "\n",
    "* How did you formulate your null hypothesis and alternative hypothesis?\n",
    "\n",
    "**Part 3:** Communicate insights with stakeholders\n",
    "\n",
    "* What key business insight(s) emerged from your hypothesis test?\n",
    "\n",
    "* What business recommendations do you propose based on your results?\n",
    "\n",
    "<br/>\n",
    "\n",
    "\n",
    "Follow the instructions and answer the questions below to complete the activity. Then, you will complete an Executive Summary using the questions listed on the PACE Strategy Document.\n",
    "\n",
    "Be sure to complete this activity before moving on. The next course item will provide you with a completed exemplar to compare to your own work.\n"
   ]
  },
  {
   "cell_type": "markdown",
   "metadata": {
    "id": "9GHVSxqehVpv"
   },
   "source": [
    "# **Data exploration and hypothesis testing**"
   ]
  },
  {
   "cell_type": "markdown",
   "metadata": {
    "id": "N8qrn_UAzX6j"
   },
   "source": [
    "<img src=\"images/Pace.png\" width=\"100\" height=\"100\" align=left>\n",
    "\n",
    "# **PACE stages**\n"
   ]
  },
  {
   "cell_type": "markdown",
   "metadata": {
    "id": "WQ1oMthKhfzP"
   },
   "source": [
    "Throughout these project notebooks, you'll see references to the problem-solving framework PACE. The following notebook components are labeled with the respective PACE stage: Plan, Analyze, Construct, and Execute."
   ]
  },
  {
   "cell_type": "markdown",
   "metadata": {
    "id": "Bb1HNu3FzX6k"
   },
   "source": [
    "<img src=\"images/Plan.png\" width=\"100\" height=\"100\" align=left>\n",
    "\n",
    "\n",
    "## **PACE: Plan**\n",
    "\n",
    "Consider the questions in your PACE Strategy Document and those below to craft your response:\n",
    "1. What is your research question for this data project? Later on, you will need to formulate the null and alternative hypotheses as the first step of your hypothesis test. Consider your research question now, at the start of this task.\n"
   ]
  },
  {
   "cell_type": "markdown",
   "metadata": {
    "id": "F6_h60RuXQIz"
   },
   "source": [
    "==>to analyze the relationship between mean amount of rides and device type. "
   ]
  },
  {
   "cell_type": "markdown",
   "metadata": {
    "id": "Kp3uDhhSg_qu"
   },
   "source": [
    "*Complete the following tasks to perform statistical analysis of your data:*"
   ]
  },
  {
   "cell_type": "markdown",
   "metadata": {
    "id": "xgQEdIN7f1Jq"
   },
   "source": [
    "### **Task 1. Imports and data loading**\n",
    "\n",
    "\n"
   ]
  },
  {
   "cell_type": "markdown",
   "metadata": {
    "id": "ehehvUzFj0-e"
   },
   "source": [
    "Import packages and libraries needed to compute descriptive statistics and conduct a hypothesis test."
   ]
  },
  {
   "cell_type": "markdown",
   "metadata": {
    "id": "e6cryW4WgiIL"
   },
   "source": [
    "<details>\n",
    "  <summary><h4><strong>Hint:</strong></h4></summary>\n",
    "\n",
    "Before you begin, recall the following Python packages and functions:\n",
    "\n",
    "*Main functions*: stats.ttest_ind(a, b, equal_var)\n",
    "\n",
    "*Other functions*: mean()\n",
    "\n",
    "*Packages*: pandas, stats.scipy\n",
    "\n",
    "</details>"
   ]
  },
  {
   "cell_type": "code",
   "execution_count": 2,
   "metadata": {
    "id": "1Q-GL2UrgWWG"
   },
   "outputs": [],
   "source": [
    "# Import any relevant packages or libraries\n",
    "### YOUR CODE HERE ###\n",
    "import pandas as pd\n",
    "import numpy as np\n",
    "import matplotlib.pyplot as plt\n",
    "from scipy.stats import stats\n",
    "import statsmodels.api as sm"
   ]
  },
  {
   "cell_type": "markdown",
   "metadata": {
    "id": "stMe9uT3kOmF"
   },
   "source": [
    "Import the dataset.\n",
    "\n",
    "**Note:** As shown in this cell, the dataset has been automatically loaded in for you. You do not need to download the .csv file, or provide more code, in order to access the dataset and proceed with this lab. Please continue with this activity by completing the following instructions."
   ]
  },
  {
   "cell_type": "code",
   "execution_count": 3,
   "metadata": {
    "id": "2qAt6Upaeg6U"
   },
   "outputs": [
    {
     "data": {
      "text/html": [
       "<div>\n",
       "<style scoped>\n",
       "    .dataframe tbody tr th:only-of-type {\n",
       "        vertical-align: middle;\n",
       "    }\n",
       "\n",
       "    .dataframe tbody tr th {\n",
       "        vertical-align: top;\n",
       "    }\n",
       "\n",
       "    .dataframe thead th {\n",
       "        text-align: right;\n",
       "    }\n",
       "</style>\n",
       "<table border=\"1\" class=\"dataframe\">\n",
       "  <thead>\n",
       "    <tr style=\"text-align: right;\">\n",
       "      <th></th>\n",
       "      <th>ID</th>\n",
       "      <th>label</th>\n",
       "      <th>sessions</th>\n",
       "      <th>drives</th>\n",
       "      <th>total_sessions</th>\n",
       "      <th>n_days_after_onboarding</th>\n",
       "      <th>total_navigations_fav1</th>\n",
       "      <th>total_navigations_fav2</th>\n",
       "      <th>driven_km_drives</th>\n",
       "      <th>duration_minutes_drives</th>\n",
       "      <th>activity_days</th>\n",
       "      <th>driving_days</th>\n",
       "      <th>device</th>\n",
       "    </tr>\n",
       "  </thead>\n",
       "  <tbody>\n",
       "    <tr>\n",
       "      <th>0</th>\n",
       "      <td>0</td>\n",
       "      <td>retained</td>\n",
       "      <td>283</td>\n",
       "      <td>226</td>\n",
       "      <td>296.748273</td>\n",
       "      <td>2276</td>\n",
       "      <td>208</td>\n",
       "      <td>0</td>\n",
       "      <td>2628.845068</td>\n",
       "      <td>1985.775061</td>\n",
       "      <td>28</td>\n",
       "      <td>19</td>\n",
       "      <td>Android</td>\n",
       "    </tr>\n",
       "    <tr>\n",
       "      <th>1</th>\n",
       "      <td>1</td>\n",
       "      <td>retained</td>\n",
       "      <td>133</td>\n",
       "      <td>107</td>\n",
       "      <td>326.896596</td>\n",
       "      <td>1225</td>\n",
       "      <td>19</td>\n",
       "      <td>64</td>\n",
       "      <td>13715.920550</td>\n",
       "      <td>3160.472914</td>\n",
       "      <td>13</td>\n",
       "      <td>11</td>\n",
       "      <td>iPhone</td>\n",
       "    </tr>\n",
       "    <tr>\n",
       "      <th>2</th>\n",
       "      <td>2</td>\n",
       "      <td>retained</td>\n",
       "      <td>114</td>\n",
       "      <td>95</td>\n",
       "      <td>135.522926</td>\n",
       "      <td>2651</td>\n",
       "      <td>0</td>\n",
       "      <td>0</td>\n",
       "      <td>3059.148818</td>\n",
       "      <td>1610.735904</td>\n",
       "      <td>14</td>\n",
       "      <td>8</td>\n",
       "      <td>Android</td>\n",
       "    </tr>\n",
       "    <tr>\n",
       "      <th>3</th>\n",
       "      <td>3</td>\n",
       "      <td>retained</td>\n",
       "      <td>49</td>\n",
       "      <td>40</td>\n",
       "      <td>67.589221</td>\n",
       "      <td>15</td>\n",
       "      <td>322</td>\n",
       "      <td>7</td>\n",
       "      <td>913.591123</td>\n",
       "      <td>587.196542</td>\n",
       "      <td>7</td>\n",
       "      <td>3</td>\n",
       "      <td>iPhone</td>\n",
       "    </tr>\n",
       "    <tr>\n",
       "      <th>4</th>\n",
       "      <td>4</td>\n",
       "      <td>retained</td>\n",
       "      <td>84</td>\n",
       "      <td>68</td>\n",
       "      <td>168.247020</td>\n",
       "      <td>1562</td>\n",
       "      <td>166</td>\n",
       "      <td>5</td>\n",
       "      <td>3950.202008</td>\n",
       "      <td>1219.555924</td>\n",
       "      <td>27</td>\n",
       "      <td>18</td>\n",
       "      <td>Android</td>\n",
       "    </tr>\n",
       "    <tr>\n",
       "      <th>...</th>\n",
       "      <td>...</td>\n",
       "      <td>...</td>\n",
       "      <td>...</td>\n",
       "      <td>...</td>\n",
       "      <td>...</td>\n",
       "      <td>...</td>\n",
       "      <td>...</td>\n",
       "      <td>...</td>\n",
       "      <td>...</td>\n",
       "      <td>...</td>\n",
       "      <td>...</td>\n",
       "      <td>...</td>\n",
       "      <td>...</td>\n",
       "    </tr>\n",
       "    <tr>\n",
       "      <th>14994</th>\n",
       "      <td>14994</td>\n",
       "      <td>retained</td>\n",
       "      <td>60</td>\n",
       "      <td>55</td>\n",
       "      <td>207.875622</td>\n",
       "      <td>140</td>\n",
       "      <td>317</td>\n",
       "      <td>0</td>\n",
       "      <td>2890.496901</td>\n",
       "      <td>2186.155708</td>\n",
       "      <td>25</td>\n",
       "      <td>17</td>\n",
       "      <td>iPhone</td>\n",
       "    </tr>\n",
       "    <tr>\n",
       "      <th>14995</th>\n",
       "      <td>14995</td>\n",
       "      <td>retained</td>\n",
       "      <td>42</td>\n",
       "      <td>35</td>\n",
       "      <td>187.670313</td>\n",
       "      <td>2505</td>\n",
       "      <td>15</td>\n",
       "      <td>10</td>\n",
       "      <td>4062.575194</td>\n",
       "      <td>1208.583193</td>\n",
       "      <td>25</td>\n",
       "      <td>20</td>\n",
       "      <td>Android</td>\n",
       "    </tr>\n",
       "    <tr>\n",
       "      <th>14996</th>\n",
       "      <td>14996</td>\n",
       "      <td>retained</td>\n",
       "      <td>273</td>\n",
       "      <td>219</td>\n",
       "      <td>422.017241</td>\n",
       "      <td>1873</td>\n",
       "      <td>17</td>\n",
       "      <td>0</td>\n",
       "      <td>3097.825028</td>\n",
       "      <td>1031.278706</td>\n",
       "      <td>18</td>\n",
       "      <td>17</td>\n",
       "      <td>iPhone</td>\n",
       "    </tr>\n",
       "    <tr>\n",
       "      <th>14997</th>\n",
       "      <td>14997</td>\n",
       "      <td>churned</td>\n",
       "      <td>149</td>\n",
       "      <td>120</td>\n",
       "      <td>180.524184</td>\n",
       "      <td>3150</td>\n",
       "      <td>45</td>\n",
       "      <td>0</td>\n",
       "      <td>4051.758549</td>\n",
       "      <td>254.187763</td>\n",
       "      <td>6</td>\n",
       "      <td>6</td>\n",
       "      <td>iPhone</td>\n",
       "    </tr>\n",
       "    <tr>\n",
       "      <th>14998</th>\n",
       "      <td>14998</td>\n",
       "      <td>retained</td>\n",
       "      <td>73</td>\n",
       "      <td>58</td>\n",
       "      <td>353.419797</td>\n",
       "      <td>3383</td>\n",
       "      <td>13</td>\n",
       "      <td>51</td>\n",
       "      <td>6030.498773</td>\n",
       "      <td>3042.436423</td>\n",
       "      <td>14</td>\n",
       "      <td>13</td>\n",
       "      <td>iPhone</td>\n",
       "    </tr>\n",
       "  </tbody>\n",
       "</table>\n",
       "<p>14999 rows × 13 columns</p>\n",
       "</div>"
      ],
      "text/plain": [
       "          ID     label  sessions  drives  total_sessions  \\\n",
       "0          0  retained       283     226      296.748273   \n",
       "1          1  retained       133     107      326.896596   \n",
       "2          2  retained       114      95      135.522926   \n",
       "3          3  retained        49      40       67.589221   \n",
       "4          4  retained        84      68      168.247020   \n",
       "...      ...       ...       ...     ...             ...   \n",
       "14994  14994  retained        60      55      207.875622   \n",
       "14995  14995  retained        42      35      187.670313   \n",
       "14996  14996  retained       273     219      422.017241   \n",
       "14997  14997   churned       149     120      180.524184   \n",
       "14998  14998  retained        73      58      353.419797   \n",
       "\n",
       "       n_days_after_onboarding  total_navigations_fav1  \\\n",
       "0                         2276                     208   \n",
       "1                         1225                      19   \n",
       "2                         2651                       0   \n",
       "3                           15                     322   \n",
       "4                         1562                     166   \n",
       "...                        ...                     ...   \n",
       "14994                      140                     317   \n",
       "14995                     2505                      15   \n",
       "14996                     1873                      17   \n",
       "14997                     3150                      45   \n",
       "14998                     3383                      13   \n",
       "\n",
       "       total_navigations_fav2  driven_km_drives  duration_minutes_drives  \\\n",
       "0                           0       2628.845068              1985.775061   \n",
       "1                          64      13715.920550              3160.472914   \n",
       "2                           0       3059.148818              1610.735904   \n",
       "3                           7        913.591123               587.196542   \n",
       "4                           5       3950.202008              1219.555924   \n",
       "...                       ...               ...                      ...   \n",
       "14994                       0       2890.496901              2186.155708   \n",
       "14995                      10       4062.575194              1208.583193   \n",
       "14996                       0       3097.825028              1031.278706   \n",
       "14997                       0       4051.758549               254.187763   \n",
       "14998                      51       6030.498773              3042.436423   \n",
       "\n",
       "       activity_days  driving_days   device  \n",
       "0                 28            19  Android  \n",
       "1                 13            11   iPhone  \n",
       "2                 14             8  Android  \n",
       "3                  7             3   iPhone  \n",
       "4                 27            18  Android  \n",
       "...              ...           ...      ...  \n",
       "14994             25            17   iPhone  \n",
       "14995             25            20  Android  \n",
       "14996             18            17   iPhone  \n",
       "14997              6             6   iPhone  \n",
       "14998             14            13   iPhone  \n",
       "\n",
       "[14999 rows x 13 columns]"
      ]
     },
     "execution_count": 3,
     "metadata": {},
     "output_type": "execute_result"
    }
   ],
   "source": [
    "# Load dataset into dataframe\n",
    "df = pd.read_csv('waze_dataset.csv')\n",
    "df"
   ]
  },
  {
   "cell_type": "markdown",
   "metadata": {
    "id": "c8paWsdKzX6o"
   },
   "source": [
    "<img src=\"images/Analyze.png\" width=\"100\" height=\"100\" align=left>\n",
    "\n",
    "<img src=\"images/Construct.png\" width=\"100\" height=\"100\" align=left>\n",
    "\n",
    "## **PACE: Analyze and Construct**\n",
    "\n",
    "Consider the questions in your PACE Strategy Document and those below to craft your response:\n",
    "1. Data professionals use descriptive statistics for exploratory data analysis (EDA). How can computing descriptive statistics help you learn more about your data in this stage of your analysis?\n"
   ]
  },
  {
   "cell_type": "markdown",
   "metadata": {
    "id": "rX5xJnWUXxsW"
   },
   "source": [
    "==> ENTER YOUR RESPONSE HERE\n"
   ]
  },
  {
   "cell_type": "markdown",
   "metadata": {
    "id": "UKhYTdVhf5B2"
   },
   "source": [
    "### **Task 2. Data exploration**\n",
    "\n",
    "Use descriptive statistics to conduct exploratory data analysis (EDA)."
   ]
  },
  {
   "cell_type": "markdown",
   "metadata": {
    "id": "AzYm91yQrS9s"
   },
   "source": [
    "<details>\n",
    "  <summary><h4><strong>Hint:</strong></h4></summary>\n",
    "\n",
    "Refer back to *Self Review Descriptive Statistics* for this step-by-step proccess.\n",
    "\n",
    "</details>"
   ]
  },
  {
   "cell_type": "markdown",
   "metadata": {
    "id": "JAq7ag0pTNgl"
   },
   "source": [
    "**Note:** In the dataset, `device` is a categorical variable with the labels `iPhone` and `Android`.\n",
    "\n",
    "In order to perform this analysis, you must turn each label into an integer.  The following code assigns a `1` for an `iPhone` user and a `2` for `Android`.  It assigns this label back to the variable `device_new`.\n",
    "\n",
    "**Note:** Creating a new variable is ideal so that you don't overwrite original data.\n",
    "\n"
   ]
  },
  {
   "cell_type": "markdown",
   "metadata": {
    "id": "GaJ4golwD8et"
   },
   "source": [
    "1. Create a dictionary called `map_dictionary` that contains the class labels (`'Android'` and `'iPhone'`) for keys and the values you want to convert them to (`2` and `1`) as values.\n",
    "\n",
    "2. Create a new column called `device_type` that is a copy of the `device` column.\n",
    "\n",
    "3. Use the [`map()`](https://pandas.pydata.org/docs/reference/api/pandas.Series.map.html#pandas-series-map) method on the `device_type` series. Pass `map_dictionary` as its argument. Reassign the result back to the `device_type` series.\n",
    "</br></br>\n",
    "When you pass a dictionary to the `Series.map()` method, it will replace the data in the series where that data matches the dictionary's keys. The values that get imputed are the values of the dictionary.\n",
    "\n",
    "```\n",
    "Example:\n",
    "df['column']\n",
    "```\n",
    "\n",
    "|column |\n",
    "|  :-:       |\n",
    "| A     |\n",
    "| B     |\n",
    "| A     |\n",
    "| B     |\n",
    "\n",
    "```\n",
    "map_dictionary = {'A': 2, 'B': 1}\n",
    "df['column'] = df['column'].map(map_dictionary)\n",
    "df['column']\n",
    "```\n",
    "\n",
    "|column |\n",
    "|  :-: |\n",
    "| 2    |\n",
    "| 1    |\n",
    "| 2    |\n",
    "| 1    |\n"
   ]
  },
  {
   "cell_type": "code",
   "execution_count": 4,
   "metadata": {
    "id": "piHSZbnjEXw-"
   },
   "outputs": [
    {
     "data": {
      "text/html": [
       "<div>\n",
       "<style scoped>\n",
       "    .dataframe tbody tr th:only-of-type {\n",
       "        vertical-align: middle;\n",
       "    }\n",
       "\n",
       "    .dataframe tbody tr th {\n",
       "        vertical-align: top;\n",
       "    }\n",
       "\n",
       "    .dataframe thead th {\n",
       "        text-align: right;\n",
       "    }\n",
       "</style>\n",
       "<table border=\"1\" class=\"dataframe\">\n",
       "  <thead>\n",
       "    <tr style=\"text-align: right;\">\n",
       "      <th></th>\n",
       "      <th>ID</th>\n",
       "      <th>label</th>\n",
       "      <th>sessions</th>\n",
       "      <th>drives</th>\n",
       "      <th>total_sessions</th>\n",
       "      <th>n_days_after_onboarding</th>\n",
       "      <th>total_navigations_fav1</th>\n",
       "      <th>total_navigations_fav2</th>\n",
       "      <th>driven_km_drives</th>\n",
       "      <th>duration_minutes_drives</th>\n",
       "      <th>activity_days</th>\n",
       "      <th>driving_days</th>\n",
       "      <th>device</th>\n",
       "      <th>device_type</th>\n",
       "    </tr>\n",
       "  </thead>\n",
       "  <tbody>\n",
       "    <tr>\n",
       "      <th>0</th>\n",
       "      <td>0</td>\n",
       "      <td>retained</td>\n",
       "      <td>283</td>\n",
       "      <td>226</td>\n",
       "      <td>296.748273</td>\n",
       "      <td>2276</td>\n",
       "      <td>208</td>\n",
       "      <td>0</td>\n",
       "      <td>2628.845068</td>\n",
       "      <td>1985.775061</td>\n",
       "      <td>28</td>\n",
       "      <td>19</td>\n",
       "      <td>Android</td>\n",
       "      <td>2</td>\n",
       "    </tr>\n",
       "    <tr>\n",
       "      <th>1</th>\n",
       "      <td>1</td>\n",
       "      <td>retained</td>\n",
       "      <td>133</td>\n",
       "      <td>107</td>\n",
       "      <td>326.896596</td>\n",
       "      <td>1225</td>\n",
       "      <td>19</td>\n",
       "      <td>64</td>\n",
       "      <td>13715.920550</td>\n",
       "      <td>3160.472914</td>\n",
       "      <td>13</td>\n",
       "      <td>11</td>\n",
       "      <td>iPhone</td>\n",
       "      <td>1</td>\n",
       "    </tr>\n",
       "    <tr>\n",
       "      <th>2</th>\n",
       "      <td>2</td>\n",
       "      <td>retained</td>\n",
       "      <td>114</td>\n",
       "      <td>95</td>\n",
       "      <td>135.522926</td>\n",
       "      <td>2651</td>\n",
       "      <td>0</td>\n",
       "      <td>0</td>\n",
       "      <td>3059.148818</td>\n",
       "      <td>1610.735904</td>\n",
       "      <td>14</td>\n",
       "      <td>8</td>\n",
       "      <td>Android</td>\n",
       "      <td>2</td>\n",
       "    </tr>\n",
       "    <tr>\n",
       "      <th>3</th>\n",
       "      <td>3</td>\n",
       "      <td>retained</td>\n",
       "      <td>49</td>\n",
       "      <td>40</td>\n",
       "      <td>67.589221</td>\n",
       "      <td>15</td>\n",
       "      <td>322</td>\n",
       "      <td>7</td>\n",
       "      <td>913.591123</td>\n",
       "      <td>587.196542</td>\n",
       "      <td>7</td>\n",
       "      <td>3</td>\n",
       "      <td>iPhone</td>\n",
       "      <td>1</td>\n",
       "    </tr>\n",
       "    <tr>\n",
       "      <th>4</th>\n",
       "      <td>4</td>\n",
       "      <td>retained</td>\n",
       "      <td>84</td>\n",
       "      <td>68</td>\n",
       "      <td>168.247020</td>\n",
       "      <td>1562</td>\n",
       "      <td>166</td>\n",
       "      <td>5</td>\n",
       "      <td>3950.202008</td>\n",
       "      <td>1219.555924</td>\n",
       "      <td>27</td>\n",
       "      <td>18</td>\n",
       "      <td>Android</td>\n",
       "      <td>2</td>\n",
       "    </tr>\n",
       "    <tr>\n",
       "      <th>...</th>\n",
       "      <td>...</td>\n",
       "      <td>...</td>\n",
       "      <td>...</td>\n",
       "      <td>...</td>\n",
       "      <td>...</td>\n",
       "      <td>...</td>\n",
       "      <td>...</td>\n",
       "      <td>...</td>\n",
       "      <td>...</td>\n",
       "      <td>...</td>\n",
       "      <td>...</td>\n",
       "      <td>...</td>\n",
       "      <td>...</td>\n",
       "      <td>...</td>\n",
       "    </tr>\n",
       "    <tr>\n",
       "      <th>14994</th>\n",
       "      <td>14994</td>\n",
       "      <td>retained</td>\n",
       "      <td>60</td>\n",
       "      <td>55</td>\n",
       "      <td>207.875622</td>\n",
       "      <td>140</td>\n",
       "      <td>317</td>\n",
       "      <td>0</td>\n",
       "      <td>2890.496901</td>\n",
       "      <td>2186.155708</td>\n",
       "      <td>25</td>\n",
       "      <td>17</td>\n",
       "      <td>iPhone</td>\n",
       "      <td>1</td>\n",
       "    </tr>\n",
       "    <tr>\n",
       "      <th>14995</th>\n",
       "      <td>14995</td>\n",
       "      <td>retained</td>\n",
       "      <td>42</td>\n",
       "      <td>35</td>\n",
       "      <td>187.670313</td>\n",
       "      <td>2505</td>\n",
       "      <td>15</td>\n",
       "      <td>10</td>\n",
       "      <td>4062.575194</td>\n",
       "      <td>1208.583193</td>\n",
       "      <td>25</td>\n",
       "      <td>20</td>\n",
       "      <td>Android</td>\n",
       "      <td>2</td>\n",
       "    </tr>\n",
       "    <tr>\n",
       "      <th>14996</th>\n",
       "      <td>14996</td>\n",
       "      <td>retained</td>\n",
       "      <td>273</td>\n",
       "      <td>219</td>\n",
       "      <td>422.017241</td>\n",
       "      <td>1873</td>\n",
       "      <td>17</td>\n",
       "      <td>0</td>\n",
       "      <td>3097.825028</td>\n",
       "      <td>1031.278706</td>\n",
       "      <td>18</td>\n",
       "      <td>17</td>\n",
       "      <td>iPhone</td>\n",
       "      <td>1</td>\n",
       "    </tr>\n",
       "    <tr>\n",
       "      <th>14997</th>\n",
       "      <td>14997</td>\n",
       "      <td>churned</td>\n",
       "      <td>149</td>\n",
       "      <td>120</td>\n",
       "      <td>180.524184</td>\n",
       "      <td>3150</td>\n",
       "      <td>45</td>\n",
       "      <td>0</td>\n",
       "      <td>4051.758549</td>\n",
       "      <td>254.187763</td>\n",
       "      <td>6</td>\n",
       "      <td>6</td>\n",
       "      <td>iPhone</td>\n",
       "      <td>1</td>\n",
       "    </tr>\n",
       "    <tr>\n",
       "      <th>14998</th>\n",
       "      <td>14998</td>\n",
       "      <td>retained</td>\n",
       "      <td>73</td>\n",
       "      <td>58</td>\n",
       "      <td>353.419797</td>\n",
       "      <td>3383</td>\n",
       "      <td>13</td>\n",
       "      <td>51</td>\n",
       "      <td>6030.498773</td>\n",
       "      <td>3042.436423</td>\n",
       "      <td>14</td>\n",
       "      <td>13</td>\n",
       "      <td>iPhone</td>\n",
       "      <td>1</td>\n",
       "    </tr>\n",
       "  </tbody>\n",
       "</table>\n",
       "<p>14999 rows × 14 columns</p>\n",
       "</div>"
      ],
      "text/plain": [
       "          ID     label  sessions  drives  total_sessions  \\\n",
       "0          0  retained       283     226      296.748273   \n",
       "1          1  retained       133     107      326.896596   \n",
       "2          2  retained       114      95      135.522926   \n",
       "3          3  retained        49      40       67.589221   \n",
       "4          4  retained        84      68      168.247020   \n",
       "...      ...       ...       ...     ...             ...   \n",
       "14994  14994  retained        60      55      207.875622   \n",
       "14995  14995  retained        42      35      187.670313   \n",
       "14996  14996  retained       273     219      422.017241   \n",
       "14997  14997   churned       149     120      180.524184   \n",
       "14998  14998  retained        73      58      353.419797   \n",
       "\n",
       "       n_days_after_onboarding  total_navigations_fav1  \\\n",
       "0                         2276                     208   \n",
       "1                         1225                      19   \n",
       "2                         2651                       0   \n",
       "3                           15                     322   \n",
       "4                         1562                     166   \n",
       "...                        ...                     ...   \n",
       "14994                      140                     317   \n",
       "14995                     2505                      15   \n",
       "14996                     1873                      17   \n",
       "14997                     3150                      45   \n",
       "14998                     3383                      13   \n",
       "\n",
       "       total_navigations_fav2  driven_km_drives  duration_minutes_drives  \\\n",
       "0                           0       2628.845068              1985.775061   \n",
       "1                          64      13715.920550              3160.472914   \n",
       "2                           0       3059.148818              1610.735904   \n",
       "3                           7        913.591123               587.196542   \n",
       "4                           5       3950.202008              1219.555924   \n",
       "...                       ...               ...                      ...   \n",
       "14994                       0       2890.496901              2186.155708   \n",
       "14995                      10       4062.575194              1208.583193   \n",
       "14996                       0       3097.825028              1031.278706   \n",
       "14997                       0       4051.758549               254.187763   \n",
       "14998                      51       6030.498773              3042.436423   \n",
       "\n",
       "       activity_days  driving_days   device  device_type  \n",
       "0                 28            19  Android            2  \n",
       "1                 13            11   iPhone            1  \n",
       "2                 14             8  Android            2  \n",
       "3                  7             3   iPhone            1  \n",
       "4                 27            18  Android            2  \n",
       "...              ...           ...      ...          ...  \n",
       "14994             25            17   iPhone            1  \n",
       "14995             25            20  Android            2  \n",
       "14996             18            17   iPhone            1  \n",
       "14997              6             6   iPhone            1  \n",
       "14998             14            13   iPhone            1  \n",
       "\n",
       "[14999 rows x 14 columns]"
      ]
     },
     "execution_count": 4,
     "metadata": {},
     "output_type": "execute_result"
    }
   ],
   "source": [
    "# 1. Create `map_dictionary`\n",
    "### YOUR CODE HERE ###\n",
    "map_dictonary={\"Android\":2,\"iPhone\":1}\n",
    "# 2. Create new `device_type` column\n",
    "### YOUR CODE HERE ###\n",
    "df[\"device_type\"]=df[\"device\"]\n",
    "# 3. Map the new column to the dictionary\n",
    "df[\"device_type\"]=df[\"device_type\"].map(map_dictonary)\n",
    "df\n",
    "### YOUR CODE HERE ###"
   ]
  },
  {
   "cell_type": "markdown",
   "metadata": {
    "id": "-fFiNg4hdGBK"
   },
   "source": [
    "You are interested in the relationship between device type and the number of drives. One approach is to look at the average number of drives for each device type. Calculate these averages."
   ]
  },
  {
   "cell_type": "code",
   "execution_count": 6,
   "metadata": {
    "id": "2LGEWrdVXgI2"
   },
   "outputs": [
    {
     "data": {
      "text/html": [
       "<div>\n",
       "<style scoped>\n",
       "    .dataframe tbody tr th:only-of-type {\n",
       "        vertical-align: middle;\n",
       "    }\n",
       "\n",
       "    .dataframe tbody tr th {\n",
       "        vertical-align: top;\n",
       "    }\n",
       "\n",
       "    .dataframe thead th {\n",
       "        text-align: right;\n",
       "    }\n",
       "</style>\n",
       "<table border=\"1\" class=\"dataframe\">\n",
       "  <thead>\n",
       "    <tr style=\"text-align: right;\">\n",
       "      <th></th>\n",
       "      <th>device_type</th>\n",
       "      <th>avg drives</th>\n",
       "    </tr>\n",
       "  </thead>\n",
       "  <tbody>\n",
       "    <tr>\n",
       "      <th>0</th>\n",
       "      <td>1</td>\n",
       "      <td>67.859078</td>\n",
       "    </tr>\n",
       "    <tr>\n",
       "      <th>1</th>\n",
       "      <td>2</td>\n",
       "      <td>66.231838</td>\n",
       "    </tr>\n",
       "  </tbody>\n",
       "</table>\n",
       "</div>"
      ],
      "text/plain": [
       "   device_type  avg drives\n",
       "0            1   67.859078\n",
       "1            2   66.231838"
      ]
     },
     "execution_count": 6,
     "metadata": {},
     "output_type": "execute_result"
    }
   ],
   "source": [
    "### YOUR CODE HERE ###\n",
    "df.groupby(\"device_type\")[\"drives\"].mean().reset_index(name=\"avg drives\")\n"
   ]
  },
  {
   "cell_type": "markdown",
   "metadata": {
    "id": "Z_u-zWvGdfII"
   },
   "source": [
    "Based on the averages shown, it appears that drivers who use an iPhone device to interact with the application have a higher number of drives on average. However, this difference might arise from random sampling, rather than being a true difference in the number of drives. To assess whether the difference is statistically significant, you can conduct a hypothesis test."
   ]
  },
  {
   "cell_type": "markdown",
   "metadata": {
    "id": "QpFRQDaNzX6p"
   },
   "source": [
    "\n",
    "### **Task 3. Hypothesis testing**\n",
    "\n",
    "Your goal is to conduct a two-sample t-test. Recall the steps for conducting a hypothesis test:\n",
    "\n",
    "\n",
    "1.   State the null hypothesis and the alternative hypothesis\n",
    "2.   Choose a signficance level\n",
    "3.   Find the p-value\n",
    "4.   Reject or fail to reject the null hypothesis\n",
    "\n",
    "**Note:** This is a t-test for two independent samples. This is the appropriate test since the two groups are independent (Android users vs. iPhone users)."
   ]
  },
  {
   "cell_type": "markdown",
   "metadata": {
    "id": "phXxr74vVPrs"
   },
   "source": [
    "Recall the difference between the null hypothesis ($H_0$) and the alternative hypothesis ($H_A$).\n",
    "\n",
    "**Question:** What are your hypotheses for this data project?"
   ]
  },
  {
   "cell_type": "markdown",
   "metadata": {
    "id": "SkDeGggZYM84"
   },
   "source": [
    "==> Ho=No statistically significant difference between the android and iphone users\n",
    "    Ha=There is statistically significant difference"
   ]
  },
  {
   "cell_type": "markdown",
   "metadata": {
    "id": "IVHpnfvNeTUA"
   },
   "source": [
    "Next, choose 5% as the significance level and proceed with a two-sample t-test.\n",
    "\n",
    "You can use the `stats.ttest_ind()` function to perform the test.\n",
    "\n",
    "\n",
    "**Technical note**: The default for the argument `equal_var` in `stats.ttest_ind()` is `True`, which assumes population variances are equal. This equal variance assumption might not hold in practice (that is, there is no strong reason to assume that the two groups have the same variance); you can relax this assumption by setting `equal_var` to `False`, and `stats.ttest_ind()` will perform the unequal variances $t$-test (known as Welch's `t`-test). Refer to the [scipy t-test documentation](https://docs.scipy.org/doc/scipy/reference/generated/scipy.stats.ttest_ind.html) for more information.\n",
    "\n",
    "\n",
    "1. Isolate the `drives` column for iPhone users.\n",
    "2. Isolate the `drives` column for Android users.\n",
    "3. Perform the t-test"
   ]
  },
  {
   "cell_type": "code",
   "execution_count": 8,
   "metadata": {
    "id": "rdlsXg7Dhbrd"
   },
   "outputs": [
    {
     "data": {
      "text/plain": [
       "Ttest_indResult(statistic=1.4635232068852353, pvalue=0.1433519726802059)"
      ]
     },
     "execution_count": 8,
     "metadata": {},
     "output_type": "execute_result"
    }
   ],
   "source": [
    "# 1. Isolate the `drives` column for iPhone users.\n",
    "### YOUR CODE HERE ###\n",
    "iphone_df=df[df[\"device\"]==\"iPhone\"]\n",
    "# 2. Isolate the `drives` column for Android users.\n",
    "### YOUR CODE HERE ###\n",
    "android_df=df[df[\"device\"]==\"Android\"]\n",
    "# 3. Perform the t-test\n",
    "stats.ttest_ind(a=iphone_df[\"drives\"],b=android_df[\"drives\"],equal_var=False)\n",
    "### YOUR CODE HERE ###"
   ]
  },
  {
   "cell_type": "markdown",
   "metadata": {
    "id": "64Wq_VSaVsNm"
   },
   "source": [
    "**Question:** Based on the p-value you got above, do you reject or fail to reject the null hypothesis?"
   ]
  },
  {
   "cell_type": "markdown",
   "metadata": {
    "id": "SGLHv2FY1P2-"
   },
   "source": [
    "==> The P value Got is greater than 0.05 so we accept the null hypothesis that there is no statistic difference "
   ]
  },
  {
   "cell_type": "markdown",
   "metadata": {
    "id": "Ab4e-W3mzX6r"
   },
   "source": [
    "<img src=\"images/Execute.png\" width=\"100\" height=\"100\" align=left>\n",
    "\n",
    "## **PACE: Execute**\n",
    "\n",
    "Consider the questions in your PACE Strategy Document to reflect on the Execute stage."
   ]
  },
  {
   "cell_type": "markdown",
   "metadata": {
    "id": "h1PRfiD3hcwE"
   },
   "source": [
    "### **Task 4. Communicate insights with stakeholders**"
   ]
  },
  {
   "cell_type": "markdown",
   "metadata": {
    "id": "ItreFaZKhvVw"
   },
   "source": [
    "Now that you've completed your hypothesis test, the next step is to share your findings with the Waze leadership team. Consider the following question as you prepare to write your executive summary:\n",
    "\n",
    "* What business insight(s) can you draw from the result of your hypothesis test?"
   ]
  },
  {
   "cell_type": "markdown",
   "metadata": {
    "id": "-CgNingVY4Bw"
   },
   "source": [
    "==> ENTER YOUR RESPONSE HERE\n"
   ]
  },
  {
   "cell_type": "markdown",
   "metadata": {},
   "source": [
    "**Congratulations!** You've completed this lab. However, you may not notice a green check mark next to this item on Coursera's platform. Please continue your progress regardless of the check mark. Just click on the \"save\" icon at the top of this notebook to ensure your work has been logged."
   ]
  }
 ],
 "metadata": {
  "colab": {
   "provenance": [
    {
     "file_id": "1VMShPM3amGvcOZx0J5yHz1kb04rzCFvN",
     "timestamp": 1671052168408
    },
    {
     "file_id": "1su07KaK4RI6MI85tMf2H19qop9LcqqDy",
     "timestamp": 1669648371757
    },
    {
     "file_id": "1f5FzGbEQi1DvhHY8u-K32sklfpgir_pK",
     "timestamp": 1669589913543
    }
   ]
  },
  "kernelspec": {
   "display_name": "Python 3",
   "language": "python",
   "name": "python3"
  },
  "language_info": {
   "codemirror_mode": {
    "name": "ipython",
    "version": 3
   },
   "file_extension": ".py",
   "mimetype": "text/x-python",
   "name": "python",
   "nbconvert_exporter": "python",
   "pygments_lexer": "ipython3",
   "version": "3.7.6"
  }
 },
 "nbformat": 4,
 "nbformat_minor": 1
}
